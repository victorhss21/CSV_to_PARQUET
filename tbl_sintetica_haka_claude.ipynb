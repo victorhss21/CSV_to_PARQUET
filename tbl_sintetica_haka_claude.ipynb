{
  "nbformat": 4,
  "nbformat_minor": 0,
  "metadata": {
    "colab": {
      "provenance": [],
      "collapsed_sections": [
        "xCTws6j8V9Ma"
      ],
      "authorship_tag": "ABX9TyO9QPncKzPT7oFf56k1OV02",
      "include_colab_link": true
    },
    "kernelspec": {
      "name": "python3",
      "display_name": "Python 3"
    },
    "language_info": {
      "name": "python"
    }
  },
  "cells": [
    {
      "cell_type": "markdown",
      "metadata": {
        "id": "view-in-github",
        "colab_type": "text"
      },
      "source": [
        "<a href=\"https://colab.research.google.com/github/victorhss21/CSV_to_PARQUET/blob/main/tbl_sintetica_haka_claude.ipynb\" target=\"_parent\"><img src=\"https://colab.research.google.com/assets/colab-badge.svg\" alt=\"Open In Colab\"/></a>"
      ]
    },
    {
      "cell_type": "markdown",
      "source": [
        "## Geração de dados sintéticos (executou com sucesso)"
      ],
      "metadata": {
        "id": "DJrLekwlDik4"
      }
    },
    {
      "cell_type": "markdown",
      "source": [
        "Instalação de dependências:"
      ],
      "metadata": {
        "id": "QQuHh_dOH0dL"
      }
    },
    {
      "cell_type": "markdown",
      "source": [
        "~~~~python\n",
        "# Instalando pyarrow\n",
        "!pip install pandas numpy pyarrow\n",
        "~~~~"
      ],
      "metadata": {
        "id": "N_5VhFwtDsYT"
      }
    },
    {
      "cell_type": "markdown",
      "source": [
        "Gerando bases de dados sintética:"
      ],
      "metadata": {
        "id": "9aI9tqvYHmOK"
      }
    },
    {
      "cell_type": "markdown",
      "source": [
        "~~~~python\n",
        "import pandas as pd\n",
        "import numpy as np\n",
        "import pyarrow as pa\n",
        "import pyarrow.parquet as pq\n",
        "from datetime import datetime, timedelta\n",
        "from concurrent.futures import ProcessPoolExecutor\n",
        "import os\n",
        "import warnings\n",
        "warnings.filterwarnings('ignore')\n",
        "\n",
        "def generate_base_customers(n_customers, segment_dist, revenue_ranges):\n",
        "    \"\"\"Gera a base inicial de clientes usando operações vetorizadas\"\"\"\n",
        "\n",
        "    # Gerar segmentos\n",
        "    segments = np.random.choice(\n",
        "        list(segment_dist.keys()),\n",
        "        size=n_customers,\n",
        "        p=list(segment_dist.values())\n",
        "    )\n",
        "\n",
        "    # Gerar faturamentos vetorialmente\n",
        "    faturamentos = np.zeros(n_customers)\n",
        "    for segment in segment_dist.keys():\n",
        "        mask = segments == segment\n",
        "        min_rev, max_rev = revenue_ranges[segment]\n",
        "        faturamentos[mask] = np.random.uniform(\n",
        "            min_rev,\n",
        "            max_rev,\n",
        "            size=mask.sum()\n",
        "        )\n",
        "\n",
        "    # Gerar outros atributos vetorialmente\n",
        "    base_data = {\n",
        "        'num_id_cliente': np.arange(1, n_customers + 1),\n",
        "        'segmento': segments,\n",
        "        'setor_atuacao': np.random.choice(['P1', 'P2', 'P3', 'P4', 'P5', 'P6'], size=n_customers),\n",
        "        'faturamento_anual': faturamentos,\n",
        "        'tempo_de_vida_meses': np.random.randint(1, 241, size=n_customers),\n",
        "        'status_rf': np.random.choice(\n",
        "            ['ativa', 'inativa', 'suspensa', 'inapta', 'baixada'],\n",
        "            size=n_customers,\n",
        "            p=[0.60, 0.10, 0.10, 0.10, 0.10]\n",
        "        )\n",
        "    }\n",
        "\n",
        "    return pd.DataFrame(base_data)\n",
        "\n",
        "def generate_safra(args):\n",
        "    \"\"\"Gera dados para uma safra específica\"\"\"\n",
        "    active_customers, anomes, idx = args\n",
        "    n_customers = len(active_customers)\n",
        "\n",
        "    # Gerar volumes financeiros vetorialmente\n",
        "    cash_in = np.random.lognormal(\n",
        "        mean=np.log(active_customers['faturamento_anual'].values/12),\n",
        "        sigma=0.5\n",
        "    )\n",
        "\n",
        "    # Volumes de crédito\n",
        "    vol_total = np.random.uniform(0.1, 0.5, size=n_customers) * cash_in\n",
        "\n",
        "    # Gerar volumes por produto vetorialmente\n",
        "    produtos_volumes = np.random.dirichlet(\n",
        "        np.ones(5),\n",
        "        size=n_customers\n",
        "    ) * vol_total.reshape(-1, 1)\n",
        "\n",
        "    # Calcular inadimplência vetorialmente\n",
        "    vol_vencido = np.random.uniform(0, 0.2, size=n_customers) * vol_total\n",
        "\n",
        "    # Calcular ratings vetorialmente\n",
        "    alavancagem = vol_total / cash_in\n",
        "    inadimplencia = vol_vencido / vol_total\n",
        "\n",
        "    ratings = np.full(n_customers, 'R1', dtype='object')\n",
        "    ratings[(inadimplencia > 0.15) | (alavancagem > 0.4)] = 'R5'\n",
        "    ratings[(inadimplencia > 0.10) | (alavancagem > 0.3)] = 'R4'\n",
        "    ratings[(inadimplencia > 0.05) | (alavancagem > 0.2)] = 'R3'\n",
        "    ratings[(inadimplencia > 0.02) | (alavancagem > 0.1)] = 'R2'\n",
        "\n",
        "    # Criar DataFrame da safra\n",
        "    safra_data = {\n",
        "        'anomes': np.full(n_customers, anomes),\n",
        "        'num_id_cliente': active_customers['num_id_cliente'].values,\n",
        "        'segmento': active_customers['segmento'].values,\n",
        "        'setor_atuacao': active_customers['setor_atuacao'].values,\n",
        "        'vol_cash_in_total': cash_in,\n",
        "        'vol_cg': produtos_volumes[:, 0],\n",
        "        'vol_lis': produtos_volumes[:, 1],\n",
        "        'vol_repasse': produtos_volumes[:, 2],\n",
        "        'vol_giro': produtos_volumes[:, 3],\n",
        "        'vol_reneg': produtos_volumes[:, 4],\n",
        "        'vol_total_bacen': vol_total,\n",
        "        'faturamento_anual': active_customers['faturamento_anual'].values,\n",
        "        'vol_vencido_bacen': vol_vencido,\n",
        "        'status_rf': active_customers['status_rf'].values,\n",
        "        'status_rating': ratings,\n",
        "        'tempo_de_vida_meses': active_customers['tempo_de_vida_meses'].values + idx\n",
        "    }\n",
        "\n",
        "    df_safra = pd.DataFrame(safra_data)\n",
        "\n",
        "    # Salvar em parquet\n",
        "    table = pa.Table.from_pandas(df_safra)\n",
        "    pq.write_table(table, f'safra_{anomes}.parquet')\n",
        "\n",
        "    return df_safra\n",
        "\n",
        "def generate_customer_database():\n",
        "    \"\"\"Função principal de geração da base\"\"\"\n",
        "\n",
        "    # Configurações\n",
        "    n_customers = 1500000\n",
        "    n_months = 8\n",
        "    churn_rate = 0.02\n",
        "\n",
        "    # Criar diretório para os arquivos\n",
        "    if not os.path.exists('safras'):\n",
        "        os.makedirs('safras')\n",
        "\n",
        "    # Gerar datas das safras\n",
        "    base_date = datetime(2024, 12, 1)\n",
        "    dates = [(base_date - timedelta(days=30*i)).strftime(\"%Y%m\") for i in range(n_months)]\n",
        "    dates.reverse()\n",
        "\n",
        "    # Definir distribuições\n",
        "    segment_dist = {\n",
        "        'A': 0.15,\n",
        "        'B': 0.15,\n",
        "        'C': 0.23,\n",
        "        'D': 0.25,\n",
        "        'E': 0.22\n",
        "    }\n",
        "\n",
        "    revenue_ranges = {\n",
        "        'A': (80_000_000, 100_000_000),\n",
        "        'B': (60_000_000, 80_000_000),\n",
        "        'C': (40_000_000, 60_000_000),\n",
        "        'D': (20_000_000, 40_000_000),\n",
        "        'E': (1_000_000, 20_000_000)\n",
        "    }\n",
        "\n",
        "    # Gerar base de clientes\n",
        "    print(\"Gerando base inicial de clientes...\")\n",
        "    base_df = generate_base_customers(n_customers, segment_dist, revenue_ranges)\n",
        "\n",
        "    # Processar safras em paralelo\n",
        "    print(\"Processando safras em paralelo...\")\n",
        "    active_customers = base_df.copy()\n",
        "\n",
        "    with ProcessPoolExecutor(max_workers=4) as executor:\n",
        "        safra_args = []\n",
        "        for idx, anomes in enumerate(dates):\n",
        "            # Aplicar churn\n",
        "            if idx > 0:\n",
        "                n_keep = int(len(active_customers) * (1 - churn_rate))\n",
        "                active_customers = active_customers.sample(n=n_keep)\n",
        "\n",
        "            safra_args.append((active_customers.copy(), anomes, idx))\n",
        "\n",
        "        # Executar processamento paralelo\n",
        "        results = list(executor.map(generate_safra, safra_args))\n",
        "\n",
        "    print(\"Gerando estatísticas...\")\n",
        "    # Concatenar resultados para estatísticas\n",
        "    final_df = pd.concat(results)\n",
        "\n",
        "    # Imprimir estatísticas\n",
        "    print(f\"\\nTotal de registros: {len(final_df)}\")\n",
        "    print(f\"\\nDistribuição por segmento:\\n{final_df['segmento'].value_counts(normalize=True)}\")\n",
        "    print(f\"\\nDistribuição por status RF:\\n{final_df['status_rf'].value_counts(normalize=True)}\")\n",
        "    print(f\"\\nDistribuição por rating:\\n{final_df['status_rating'].value_counts(normalize=True)}\")\n",
        "\n",
        "    print(\"\\nArquivos gerados:\")\n",
        "    for anomes in dates:\n",
        "        print(f\"safra_{anomes}.parquet\")\n",
        "\n",
        "if __name__ == \"__main__\":\n",
        "    generate_customer_database()\n",
        "~~~~"
      ],
      "metadata": {
        "id": "TZ080jjADlhP"
      }
    },
    {
      "cell_type": "markdown",
      "source": [
        "Carregando dados em memória para realização de análises/procedimentos:\n"
      ],
      "metadata": {
        "id": "mGowCPP-Hd0r"
      }
    },
    {
      "cell_type": "code",
      "source": [
        "import pandas as pd\n",
        "import pyarrow.parquet as pq\n",
        "import glob\n",
        "from typing import List, Union\n",
        "\n",
        "def load_safras(\n",
        "    safras: Union[List[str], str] = 'all',\n",
        "    colunas: List[str] = None,\n",
        "    filtros: List[tuple] = None\n",
        ") -> pd.DataFrame:\n",
        "    \"\"\"\n",
        "    Carrega e empilha safras específicas dos arquivos parquet.\n",
        "\n",
        "    Args:\n",
        "        safras: Lista de safras (ex: ['202401', '202402']) ou 'all' para todas\n",
        "        colunas: Lista de colunas para carregar (None para todas)\n",
        "        filtros: Lista de tuplas com filtros no formato [(coluna, operador, valor)]\n",
        "                Operadores suportados: '==', '>', '<', '>=', '<=', '!='\n",
        "\n",
        "    Returns:\n",
        "        DataFrame com as safras empilhadas\n",
        "    \"\"\"\n",
        "    # Listar todos os arquivos parquet disponíveis\n",
        "    arquivos = glob.glob('safra_*.parquet')\n",
        "\n",
        "    # Filtrar arquivos por safras desejadas\n",
        "    if safras != 'all':\n",
        "        arquivos = [f for f in arquivos if any(s in f for s in safras)]\n",
        "\n",
        "    if not arquivos:\n",
        "        raise ValueError(\"Nenhum arquivo encontrado com as safras especificadas\")\n",
        "\n",
        "    # Criar filtros do pyarrow se necessário\n",
        "    pa_filtros = None\n",
        "    if filtros:\n",
        "        pa_filtros = []\n",
        "        for coluna, operador, valor in filtros:\n",
        "            if operador == '==':\n",
        "                pa_filtros.append((coluna, '=', valor))\n",
        "            else:\n",
        "                pa_filtros.append((coluna, operador, valor))\n",
        "\n",
        "    # Carregar e empilhar os dados\n",
        "    dfs = []\n",
        "    for arquivo in arquivos:\n",
        "        try:\n",
        "            # Ler apenas as colunas necessárias e aplicar filtros\n",
        "            df = pq.read_table(\n",
        "                arquivo,\n",
        "                columns=colunas,\n",
        "                filters=pa_filtros\n",
        "            ).to_pandas()\n",
        "\n",
        "            dfs.append(df)\n",
        "\n",
        "            print(f\"Arquivo {arquivo} carregado: {len(df)} registros\")\n",
        "\n",
        "        except Exception as e:\n",
        "            print(f\"Erro ao carregar {arquivo}: {str(e)}\")\n",
        "\n",
        "    if not dfs:\n",
        "        raise ValueError(\"Nenhum dado foi carregado\")\n",
        "\n",
        "    # Empilhar todos os DataFrames\n",
        "    df_final = pd.concat(dfs, ignore_index=True)\n",
        "\n",
        "    print(f\"\\nTotal de registros carregados: {len(df_final):,}\")\n",
        "    print(f\"Memória utilizada: {df_final.memory_usage().sum() / 1024**2:.2f} MB\")\n",
        "\n",
        "    return df_final\n",
        "\n",
        "# Exemplo de uso:\n",
        "if __name__ == \"__main__\":\n",
        "    # # Opção 1: Carregar todas as safras\n",
        "    # df = load_safras()\n",
        "\n",
        "    # # Opção 2: Carregar safras específicas\n",
        "    df = load_safras(['202406', '202407', '202408','202409','202410','202411','202412'])\n",
        "\n",
        "    # # Opção 3: Carregar apenas algumas colunas\n",
        "    # df = load_safras(\n",
        "    #     colunas=['anomes','num_id_cliente','segmento','setor_atuacao','vol_cash_in_total','vol_cg','vol_lis','vol_repasse','vol_giro','vol_reneg','vol_total_bacen','faturamento_anual','vol_vencido_bacen','status_rf','status_rating','tempo_de_vida_meses']\n",
        "    # )\n",
        "\n",
        "    # # Opção 4: Carregar com filtros\n",
        "    # df = load_safras(\n",
        "    #     filtros=[\n",
        "    #         ('segmento', '==', 'A'),\n",
        "    #         ('vol_total_bacen', '>', 1000000)])"
      ],
      "metadata": {
        "colab": {
          "base_uri": "https://localhost:8080/"
        },
        "id": "DXAfWd2KHdBE",
        "outputId": "a4b22d00-d920-487d-8073-182e590a0bab"
      },
      "execution_count": 1,
      "outputs": [
        {
          "output_type": "stream",
          "name": "stdout",
          "text": [
            "Arquivo safra_202411.parquet carregado: 1328762 registros\n",
            "Arquivo safra_202409.parquet carregado: 1383552 registros\n",
            "Arquivo safra_202406.parquet carregado: 1470000 registros\n",
            "Arquivo safra_202410.parquet carregado: 1355880 registros\n",
            "Arquivo safra_202408.parquet carregado: 1411788 registros\n",
            "Arquivo safra_202412.parquet carregado: 1302186 registros\n",
            "Arquivo safra_202407.parquet carregado: 1440600 registros\n",
            "\n",
            "Total de registros carregados: 9,692,768\n",
            "Memória utilizada: 1183.20 MB\n"
          ]
        }
      ]
    },
    {
      "cell_type": "code",
      "source": [
        "# Verifica quais variáveis estão ocupando mais memória\n",
        "import sys\n",
        "for var in dir():\n",
        "    if not var.startswith('_'):  # ignora variáveis privadas\n",
        "        size = sys.getsizeof(eval(var))\n",
        "        if size > 1000:  # mostra apenas variáveis maiores que 1KB\n",
        "            print(f\"{var}: {size/1024/1024:.2f} MB\")"
      ],
      "metadata": {
        "colab": {
          "base_uri": "https://localhost:8080/"
        },
        "id": "8xyaodB9O9_B",
        "outputId": "b40eb1d2-b1b4-449c-9b25-5bc42752c035"
      },
      "execution_count": 2,
      "outputs": [
        {
          "output_type": "stream",
          "name": "stdout",
          "text": [
            "df: 3603.20 MB\n"
          ]
        }
      ]
    },
    {
      "cell_type": "markdown",
      "source": [
        "~~~~python\n",
        "# Deletando daframes da memória\n",
        "del df2, df3, df4\n",
        "~~~~"
      ],
      "metadata": {
        "id": "zUPrHWhxPtwz"
      }
    },
    {
      "cell_type": "code",
      "source": [
        "# importa numpy\n",
        "import numpy as np\n",
        "# Cálculo vetorizado para métricas financeiras\n",
        "df['alavancagem'] = df['vol_total_bacen'] / df['vol_cash_in_total']\n",
        "df['inadimplencia'] = df['vol_vencido_bacen'] / (df['vol_total_bacen'] + df['vol_vencido_bacen'] + 1e-12)\n",
        "\n",
        "# Tratamento de divisão por zero\n",
        "df['alavancagem'] = df['alavancagem'].replace([np.inf, -np.inf], np.nan).fillna(0)\n",
        "df['inadimplencia'] = df['inadimplencia'].replace([np.inf, -np.inf], np.nan).fillna(0)\n",
        "\n",
        "# Atribuição vetorizada do rating usando np.select\n",
        "conditions = [\n",
        "    (df['inadimplencia'] > 0.15) | (df['alavancagem'] > 0.4),  # R5\n",
        "    (df['inadimplencia'] > 0.10) | (df['alavancagem'] > 0.3),  # R4\n",
        "    (df['inadimplencia'] > 0.05) | (df['alavancagem'] > 0.2),  # R3\n",
        "    (df['inadimplencia'] > 0.02) | (df['alavancagem'] > 0.1)   # R2\n",
        "]\n",
        "\n",
        "choices = ['R5', 'R4', 'R3', 'R2']\n",
        "\n",
        "df['status_rating'] = np.select(conditions, choices, default='R1')\n",
        "\n",
        "# drop das colunas auxiliares\n",
        "df.drop(['alavancagem','inadimplencia'], axis=1, inplace=True)"
      ],
      "metadata": {
        "id": "iVVosS9BcpjX"
      },
      "execution_count": 3,
      "outputs": []
    },
    {
      "cell_type": "code",
      "source": [
        "# Renomeando colunas para facilitar adequação no código do Hakaton\n",
        "df.columns = ['anomes', 'num_cpf_cnpj',\t'segmento',\t'personas',\t'vol_cash_in_total_sv',\t'vol_cg',\t'vol_lis',\t'vol_repasse',\t'vol_giro',\t'vol_reneg',\t'vol_total_bacen',\t'faturamento_anual',\t'vol_vencido_bacen',\t'status_receita federal',\t'status_gs',\t'tempo_de_vida_meses']"
      ],
      "metadata": {
        "id": "D6Est8CY_UQk"
      },
      "execution_count": 4,
      "outputs": []
    },
    {
      "cell_type": "code",
      "source": [
        "# Criando base simulada do Hackathon\n",
        "df_hack = df[['anomes', 'num_cpf_cnpj',\t'segmento',\t'personas',\t'vol_cash_in_total_sv',\t'vol_total_bacen',\t'faturamento_anual',\t'vol_vencido_bacen',\t'status_receita federal',\t'status_gs',\t'tempo_de_vida_meses']]\n",
        "# Criando base simulada de sof e sor\n",
        "df_sor_sof = df[['anomes', 'num_cpf_cnpj', 'vol_cash_in_total_sv',\t\t'vol_cg',\t'vol_lis',\t'vol_repasse',\t'vol_giro',\t'vol_reneg']].rename({'num_cpf_cnpj':'cnpj', 'vol_cash_in_total_sv':'vol_cash_in_total'}, axis=1)"
      ],
      "metadata": {
        "id": "0s4ypTJdAV2T"
      },
      "execution_count": 5,
      "outputs": []
    },
    {
      "cell_type": "code",
      "source": [
        "# Verifica quais variáveis estão ocupando mais memória\n",
        "import sys\n",
        "for var in dir():\n",
        "    if not var.startswith('_'):  # ignora variáveis privadas\n",
        "        size = sys.getsizeof(eval(var))\n",
        "        if size > 1000:  # mostra apenas variáveis maiores que 1KB\n",
        "            print(f\"{var}: {size/1024/1024:.2f} MB\")"
      ],
      "metadata": {
        "colab": {
          "base_uri": "https://localhost:8080/"
        },
        "id": "KKb4P2NnFyGp",
        "outputId": "e5ff0f7c-c080-4f82-c61a-cb0f232958cb"
      },
      "execution_count": 6,
      "outputs": [
        {
          "output_type": "stream",
          "name": "stdout",
          "text": [
            "df: 3603.20 MB\n",
            "df_hack: 3233.45 MB\n",
            "df_sor_sof: 1100.01 MB\n"
          ]
        }
      ]
    },
    {
      "cell_type": "code",
      "source": [
        "# del df_amostra2_treino, df_amostra2_validacao, df_amostra_treino, df_amostra_treino_final, df_amostra_validacao, df_principal, df_processed, df_sample_teste, df_sample_treino"
      ],
      "metadata": {
        "id": "_YIl4Qb3pd9D"
      },
      "execution_count": 7,
      "outputs": []
    },
    {
      "cell_type": "markdown",
      "source": [
        "## 00. Imports de Libs & Configurações\n"
      ],
      "metadata": {
        "id": "H0qEJ62rWLbD"
      }
    },
    {
      "cell_type": "markdown",
      "source": [
        "~~~~python\n",
        "# Instala awswnagler\n",
        "!pip install awswrangler -q\n",
        "# Importa awswnagler\n",
        "import awswrangler as wr\n",
        "~~~~"
      ],
      "metadata": {
        "id": "FzoWE2Sb_NfY"
      }
    },
    {
      "cell_type": "code",
      "source": [
        "# Imports das principais libs\n",
        "import pandas as pd\n",
        "import numpy as np\n",
        "import seaborn as sns\n",
        "import matplotlib.pyplot as plt"
      ],
      "metadata": {
        "id": "JwgqyVs1e0x9"
      },
      "execution_count": 8,
      "outputs": []
    },
    {
      "cell_type": "code",
      "source": [
        "# Ajuste para melhor visualização das colunas\n",
        "pd.set_option('display.max_columns', None)\n",
        "# Ajuste para melhor visualização do formato dos números nas tabelas\n",
        "pd.options.display.float_format = '{:.2f}'.format"
      ],
      "metadata": {
        "id": "ow7ijH14eHMO"
      },
      "execution_count": 9,
      "outputs": []
    },
    {
      "cell_type": "markdown",
      "source": [
        "## 01. Carregamento dos dados"
      ],
      "metadata": {
        "id": "pwjL1FNYejks"
      }
    },
    {
      "cell_type": "markdown",
      "source": [
        "``Escript python para carregamento de dados utilizando AWSWangler``"
      ],
      "metadata": {
        "id": "OsFtaeh8Wb_R"
      }
    },
    {
      "cell_type": "markdown",
      "source": [
        "<mark>Suplemento de informações (variáveis SoR de produtos específicos e SoF) é \"Nice To Have\"</mark>"
      ],
      "metadata": {
        "id": "K8ldZ5LyLB6T"
      }
    },
    {
      "cell_type": "markdown",
      "source": [
        "Dados a serem carregados:\n",
        "\n",
        "\n",
        "* Tabela do Hackathon (a partir do S3): `df`\n",
        "* Tabela com informações de SoR/SoF (a partir do S3): `df_sor_sof`\n",
        "\n",
        "Cruzamento a serem feito:\n",
        "\n",
        "* `df` e `df_sor_sof`\n",
        "\n"
      ],
      "metadata": {
        "id": "p7D_W2AH8lkX"
      }
    },
    {
      "cell_type": "markdown",
      "source": [
        "~~~~python\n",
        "# Carregamento dos dados do hackathon\n",
        "df_hack = wr.athena.read_sql_query(\"SELECT * FROM my_table\", database=\"my_db\", ...)\n",
        "~~~~"
      ],
      "metadata": {
        "id": "WlOQBVpg-dwv"
      }
    },
    {
      "cell_type": "code",
      "source": [
        "# Join da tabele de SoF e SoR com a tabela do Hackathon\n",
        "df = df_hack.merge(df_sor_sof, left_on=['anomes','num_cpf_cnpj'], right_on=['anomes','cnpj'], how='left')"
      ],
      "metadata": {
        "id": "qSWUld_r_wXq"
      },
      "execution_count": 10,
      "outputs": []
    },
    {
      "cell_type": "code",
      "source": [
        "# Higienização de memória\n",
        "del df_sor_sof, df_hack"
      ],
      "metadata": {
        "id": "9IKbYYH9GZf5"
      },
      "execution_count": 11,
      "outputs": []
    },
    {
      "cell_type": "markdown",
      "source": [
        "## 02. Análise exploratória dos dados"
      ],
      "metadata": {
        "id": "d3qVoFn_J3iT"
      }
    },
    {
      "cell_type": "markdown",
      "source": [
        "### 2.1. Report via Pandas Profilling"
      ],
      "metadata": {
        "id": "Cue_NQXyVvFC"
      }
    },
    {
      "cell_type": "markdown",
      "source": [
        "> Utilização da biblioteca Ydata-Profilling para ganho de produtividade [(Ref.)](https://docs.profiling.ydata.ai/4.6/features/big_data/#pyspark)"
      ],
      "metadata": {
        "id": "HOOURVAqeuDk"
      }
    },
    {
      "cell_type": "markdown",
      "source": [
        "````python\n",
        "# Instala ydata-profilling\n",
        "!pip install -U ydata-profiling -q\n",
        "````"
      ],
      "metadata": {
        "id": "fZaFT0E6J8nO"
      }
    },
    {
      "cell_type": "code",
      "source": [
        "# Instala ydata-profilling\n",
        "import sys\n",
        "!{sys.executable} -m pip install -U ydata-profiling[notebook]\n",
        "!pip install jupyter-contrib-nbextensions"
      ],
      "metadata": {
        "colab": {
          "base_uri": "https://localhost:8080/"
        },
        "collapsed": true,
        "id": "V2JHxadsK1SV",
        "outputId": "17ce106b-f412-4406-9444-d3af20c57e9f"
      },
      "execution_count": 12,
      "outputs": [
        {
          "output_type": "stream",
          "name": "stdout",
          "text": [
            "Requirement already satisfied: ydata-profiling[notebook] in /usr/local/lib/python3.11/dist-packages (4.12.2)\n",
            "Requirement already satisfied: scipy<1.16,>=1.4.1 in /usr/local/lib/python3.11/dist-packages (from ydata-profiling[notebook]) (1.13.1)\n",
            "Requirement already satisfied: pandas!=1.4.0,<3,>1.1 in /usr/local/lib/python3.11/dist-packages (from ydata-profiling[notebook]) (2.2.2)\n",
            "Requirement already satisfied: matplotlib>=3.5 in /usr/local/lib/python3.11/dist-packages (from ydata-profiling[notebook]) (3.10.0)\n",
            "Requirement already satisfied: pydantic>=2 in /usr/local/lib/python3.11/dist-packages (from ydata-profiling[notebook]) (2.10.6)\n",
            "Requirement already satisfied: PyYAML<6.1,>=5.0.0 in /usr/local/lib/python3.11/dist-packages (from ydata-profiling[notebook]) (6.0.2)\n",
            "Requirement already satisfied: jinja2<3.2,>=2.11.1 in /usr/local/lib/python3.11/dist-packages (from ydata-profiling[notebook]) (3.1.5)\n",
            "Requirement already satisfied: visions<0.8.0,>=0.7.5 in /usr/local/lib/python3.11/dist-packages (from visions[type_image_path]<0.8.0,>=0.7.5->ydata-profiling[notebook]) (0.7.6)\n",
            "Requirement already satisfied: numpy<2.2,>=1.16.0 in /usr/local/lib/python3.11/dist-packages (from ydata-profiling[notebook]) (1.26.4)\n",
            "Requirement already satisfied: htmlmin==0.1.12 in /usr/local/lib/python3.11/dist-packages (from ydata-profiling[notebook]) (0.1.12)\n",
            "Requirement already satisfied: phik<0.13,>=0.11.1 in /usr/local/lib/python3.11/dist-packages (from ydata-profiling[notebook]) (0.12.4)\n",
            "Requirement already satisfied: requests<3,>=2.24.0 in /usr/local/lib/python3.11/dist-packages (from ydata-profiling[notebook]) (2.32.3)\n",
            "Requirement already satisfied: tqdm<5,>=4.48.2 in /usr/local/lib/python3.11/dist-packages (from ydata-profiling[notebook]) (4.67.1)\n",
            "Requirement already satisfied: seaborn<0.14,>=0.10.1 in /usr/local/lib/python3.11/dist-packages (from ydata-profiling[notebook]) (0.13.2)\n",
            "Requirement already satisfied: multimethod<2,>=1.4 in /usr/local/lib/python3.11/dist-packages (from ydata-profiling[notebook]) (1.12)\n",
            "Requirement already satisfied: statsmodels<1,>=0.13.2 in /usr/local/lib/python3.11/dist-packages (from ydata-profiling[notebook]) (0.14.4)\n",
            "Requirement already satisfied: typeguard<5,>=3 in /usr/local/lib/python3.11/dist-packages (from ydata-profiling[notebook]) (4.4.2)\n",
            "Requirement already satisfied: imagehash==4.3.1 in /usr/local/lib/python3.11/dist-packages (from ydata-profiling[notebook]) (4.3.1)\n",
            "Requirement already satisfied: wordcloud>=1.9.3 in /usr/local/lib/python3.11/dist-packages (from ydata-profiling[notebook]) (1.9.4)\n",
            "Requirement already satisfied: dacite>=1.8 in /usr/local/lib/python3.11/dist-packages (from ydata-profiling[notebook]) (1.9.2)\n",
            "Requirement already satisfied: jupyter>=1.0.0 in /usr/local/lib/python3.11/dist-packages (from ydata-profiling[notebook]) (1.1.1)\n",
            "Requirement already satisfied: ipywidgets>=7.5.1 in /usr/local/lib/python3.11/dist-packages (from ydata-profiling[notebook]) (7.7.1)\n",
            "Requirement already satisfied: PyWavelets in /usr/local/lib/python3.11/dist-packages (from imagehash==4.3.1->ydata-profiling[notebook]) (1.8.0)\n",
            "Requirement already satisfied: pillow in /usr/local/lib/python3.11/dist-packages (from imagehash==4.3.1->ydata-profiling[notebook]) (11.1.0)\n",
            "Requirement already satisfied: ipykernel>=4.5.1 in /usr/local/lib/python3.11/dist-packages (from ipywidgets>=7.5.1->ydata-profiling[notebook]) (6.17.1)\n",
            "Requirement already satisfied: ipython-genutils~=0.2.0 in /usr/local/lib/python3.11/dist-packages (from ipywidgets>=7.5.1->ydata-profiling[notebook]) (0.2.0)\n",
            "Requirement already satisfied: traitlets>=4.3.1 in /usr/local/lib/python3.11/dist-packages (from ipywidgets>=7.5.1->ydata-profiling[notebook]) (5.7.1)\n",
            "Requirement already satisfied: widgetsnbextension~=3.6.0 in /usr/local/lib/python3.11/dist-packages (from ipywidgets>=7.5.1->ydata-profiling[notebook]) (3.6.10)\n",
            "Requirement already satisfied: ipython>=4.0.0 in /usr/local/lib/python3.11/dist-packages (from ipywidgets>=7.5.1->ydata-profiling[notebook]) (7.34.0)\n",
            "Requirement already satisfied: jupyterlab-widgets>=1.0.0 in /usr/local/lib/python3.11/dist-packages (from ipywidgets>=7.5.1->ydata-profiling[notebook]) (3.0.13)\n",
            "Requirement already satisfied: MarkupSafe>=2.0 in /usr/local/lib/python3.11/dist-packages (from jinja2<3.2,>=2.11.1->ydata-profiling[notebook]) (3.0.2)\n",
            "Requirement already satisfied: notebook in /usr/local/lib/python3.11/dist-packages (from jupyter>=1.0.0->ydata-profiling[notebook]) (6.5.5)\n",
            "Requirement already satisfied: jupyter-console in /usr/local/lib/python3.11/dist-packages (from jupyter>=1.0.0->ydata-profiling[notebook]) (6.1.0)\n",
            "Requirement already satisfied: nbconvert in /usr/local/lib/python3.11/dist-packages (from jupyter>=1.0.0->ydata-profiling[notebook]) (7.16.6)\n",
            "Requirement already satisfied: jupyterlab in /usr/local/lib/python3.11/dist-packages (from jupyter>=1.0.0->ydata-profiling[notebook]) (4.3.5)\n",
            "Requirement already satisfied: contourpy>=1.0.1 in /usr/local/lib/python3.11/dist-packages (from matplotlib>=3.5->ydata-profiling[notebook]) (1.3.1)\n",
            "Requirement already satisfied: cycler>=0.10 in /usr/local/lib/python3.11/dist-packages (from matplotlib>=3.5->ydata-profiling[notebook]) (0.12.1)\n",
            "Requirement already satisfied: fonttools>=4.22.0 in /usr/local/lib/python3.11/dist-packages (from matplotlib>=3.5->ydata-profiling[notebook]) (4.56.0)\n",
            "Requirement already satisfied: kiwisolver>=1.3.1 in /usr/local/lib/python3.11/dist-packages (from matplotlib>=3.5->ydata-profiling[notebook]) (1.4.8)\n",
            "Requirement already satisfied: packaging>=20.0 in /usr/local/lib/python3.11/dist-packages (from matplotlib>=3.5->ydata-profiling[notebook]) (24.2)\n",
            "Requirement already satisfied: pyparsing>=2.3.1 in /usr/local/lib/python3.11/dist-packages (from matplotlib>=3.5->ydata-profiling[notebook]) (3.2.1)\n",
            "Requirement already satisfied: python-dateutil>=2.7 in /usr/local/lib/python3.11/dist-packages (from matplotlib>=3.5->ydata-profiling[notebook]) (2.8.2)\n",
            "Requirement already satisfied: pytz>=2020.1 in /usr/local/lib/python3.11/dist-packages (from pandas!=1.4.0,<3,>1.1->ydata-profiling[notebook]) (2025.1)\n",
            "Requirement already satisfied: tzdata>=2022.7 in /usr/local/lib/python3.11/dist-packages (from pandas!=1.4.0,<3,>1.1->ydata-profiling[notebook]) (2025.1)\n",
            "Requirement already satisfied: joblib>=0.14.1 in /usr/local/lib/python3.11/dist-packages (from phik<0.13,>=0.11.1->ydata-profiling[notebook]) (1.4.2)\n",
            "Requirement already satisfied: annotated-types>=0.6.0 in /usr/local/lib/python3.11/dist-packages (from pydantic>=2->ydata-profiling[notebook]) (0.7.0)\n",
            "Requirement already satisfied: pydantic-core==2.27.2 in /usr/local/lib/python3.11/dist-packages (from pydantic>=2->ydata-profiling[notebook]) (2.27.2)\n",
            "Requirement already satisfied: typing-extensions>=4.12.2 in /usr/local/lib/python3.11/dist-packages (from pydantic>=2->ydata-profiling[notebook]) (4.12.2)\n",
            "Requirement already satisfied: charset-normalizer<4,>=2 in /usr/local/lib/python3.11/dist-packages (from requests<3,>=2.24.0->ydata-profiling[notebook]) (3.4.1)\n",
            "Requirement already satisfied: idna<4,>=2.5 in /usr/local/lib/python3.11/dist-packages (from requests<3,>=2.24.0->ydata-profiling[notebook]) (3.10)\n",
            "Requirement already satisfied: urllib3<3,>=1.21.1 in /usr/local/lib/python3.11/dist-packages (from requests<3,>=2.24.0->ydata-profiling[notebook]) (2.3.0)\n",
            "Requirement already satisfied: certifi>=2017.4.17 in /usr/local/lib/python3.11/dist-packages (from requests<3,>=2.24.0->ydata-profiling[notebook]) (2025.1.31)\n",
            "Requirement already satisfied: patsy>=0.5.6 in /usr/local/lib/python3.11/dist-packages (from statsmodels<1,>=0.13.2->ydata-profiling[notebook]) (1.0.1)\n",
            "Requirement already satisfied: attrs>=19.3.0 in /usr/local/lib/python3.11/dist-packages (from visions<0.8.0,>=0.7.5->visions[type_image_path]<0.8.0,>=0.7.5->ydata-profiling[notebook]) (25.1.0)\n",
            "Requirement already satisfied: networkx>=2.4 in /usr/local/lib/python3.11/dist-packages (from visions<0.8.0,>=0.7.5->visions[type_image_path]<0.8.0,>=0.7.5->ydata-profiling[notebook]) (3.4.2)\n",
            "Requirement already satisfied: debugpy>=1.0 in /usr/local/lib/python3.11/dist-packages (from ipykernel>=4.5.1->ipywidgets>=7.5.1->ydata-profiling[notebook]) (1.8.0)\n",
            "Requirement already satisfied: jupyter-client>=6.1.12 in /usr/local/lib/python3.11/dist-packages (from ipykernel>=4.5.1->ipywidgets>=7.5.1->ydata-profiling[notebook]) (7.4.9)\n",
            "Requirement already satisfied: matplotlib-inline>=0.1 in /usr/local/lib/python3.11/dist-packages (from ipykernel>=4.5.1->ipywidgets>=7.5.1->ydata-profiling[notebook]) (0.1.7)\n",
            "Requirement already satisfied: nest-asyncio in /usr/local/lib/python3.11/dist-packages (from ipykernel>=4.5.1->ipywidgets>=7.5.1->ydata-profiling[notebook]) (1.6.0)\n",
            "Requirement already satisfied: psutil in /usr/local/lib/python3.11/dist-packages (from ipykernel>=4.5.1->ipywidgets>=7.5.1->ydata-profiling[notebook]) (5.9.5)\n",
            "Requirement already satisfied: pyzmq>=17 in /usr/local/lib/python3.11/dist-packages (from ipykernel>=4.5.1->ipywidgets>=7.5.1->ydata-profiling[notebook]) (24.0.1)\n",
            "Requirement already satisfied: tornado>=6.1 in /usr/local/lib/python3.11/dist-packages (from ipykernel>=4.5.1->ipywidgets>=7.5.1->ydata-profiling[notebook]) (6.4.2)\n",
            "Requirement already satisfied: setuptools>=18.5 in /usr/local/lib/python3.11/dist-packages (from ipython>=4.0.0->ipywidgets>=7.5.1->ydata-profiling[notebook]) (75.1.0)\n",
            "Requirement already satisfied: jedi>=0.16 in /usr/local/lib/python3.11/dist-packages (from ipython>=4.0.0->ipywidgets>=7.5.1->ydata-profiling[notebook]) (0.19.2)\n",
            "Requirement already satisfied: decorator in /usr/local/lib/python3.11/dist-packages (from ipython>=4.0.0->ipywidgets>=7.5.1->ydata-profiling[notebook]) (4.4.2)\n",
            "Requirement already satisfied: pickleshare in /usr/local/lib/python3.11/dist-packages (from ipython>=4.0.0->ipywidgets>=7.5.1->ydata-profiling[notebook]) (0.7.5)\n",
            "Requirement already satisfied: prompt-toolkit!=3.0.0,!=3.0.1,<3.1.0,>=2.0.0 in /usr/local/lib/python3.11/dist-packages (from ipython>=4.0.0->ipywidgets>=7.5.1->ydata-profiling[notebook]) (3.0.50)\n",
            "Requirement already satisfied: pygments in /usr/local/lib/python3.11/dist-packages (from ipython>=4.0.0->ipywidgets>=7.5.1->ydata-profiling[notebook]) (2.18.0)\n",
            "Requirement already satisfied: backcall in /usr/local/lib/python3.11/dist-packages (from ipython>=4.0.0->ipywidgets>=7.5.1->ydata-profiling[notebook]) (0.2.0)\n",
            "Requirement already satisfied: pexpect>4.3 in /usr/local/lib/python3.11/dist-packages (from ipython>=4.0.0->ipywidgets>=7.5.1->ydata-profiling[notebook]) (4.9.0)\n",
            "Requirement already satisfied: six>=1.5 in /usr/local/lib/python3.11/dist-packages (from python-dateutil>=2.7->matplotlib>=3.5->ydata-profiling[notebook]) (1.17.0)\n",
            "Requirement already satisfied: argon2-cffi in /usr/local/lib/python3.11/dist-packages (from notebook->jupyter>=1.0.0->ydata-profiling[notebook]) (23.1.0)\n",
            "Requirement already satisfied: jupyter-core>=4.6.1 in /usr/local/lib/python3.11/dist-packages (from notebook->jupyter>=1.0.0->ydata-profiling[notebook]) (5.7.2)\n",
            "Requirement already satisfied: nbformat in /usr/local/lib/python3.11/dist-packages (from notebook->jupyter>=1.0.0->ydata-profiling[notebook]) (5.10.4)\n",
            "Requirement already satisfied: Send2Trash>=1.8.0 in /usr/local/lib/python3.11/dist-packages (from notebook->jupyter>=1.0.0->ydata-profiling[notebook]) (1.8.3)\n",
            "Requirement already satisfied: terminado>=0.8.3 in /usr/local/lib/python3.11/dist-packages (from notebook->jupyter>=1.0.0->ydata-profiling[notebook]) (0.18.1)\n",
            "Requirement already satisfied: prometheus-client in /usr/local/lib/python3.11/dist-packages (from notebook->jupyter>=1.0.0->ydata-profiling[notebook]) (0.21.1)\n",
            "Requirement already satisfied: nbclassic>=0.4.7 in /usr/local/lib/python3.11/dist-packages (from notebook->jupyter>=1.0.0->ydata-profiling[notebook]) (1.2.0)\n",
            "Requirement already satisfied: beautifulsoup4 in /usr/local/lib/python3.11/dist-packages (from nbconvert->jupyter>=1.0.0->ydata-profiling[notebook]) (4.13.3)\n",
            "Requirement already satisfied: bleach!=5.0.0 in /usr/local/lib/python3.11/dist-packages (from bleach[css]!=5.0.0->nbconvert->jupyter>=1.0.0->ydata-profiling[notebook]) (6.2.0)\n",
            "Requirement already satisfied: defusedxml in /usr/local/lib/python3.11/dist-packages (from nbconvert->jupyter>=1.0.0->ydata-profiling[notebook]) (0.7.1)\n",
            "Requirement already satisfied: jupyterlab-pygments in /usr/local/lib/python3.11/dist-packages (from nbconvert->jupyter>=1.0.0->ydata-profiling[notebook]) (0.3.0)\n",
            "Requirement already satisfied: mistune<4,>=2.0.3 in /usr/local/lib/python3.11/dist-packages (from nbconvert->jupyter>=1.0.0->ydata-profiling[notebook]) (3.1.2)\n",
            "Requirement already satisfied: nbclient>=0.5.0 in /usr/local/lib/python3.11/dist-packages (from nbconvert->jupyter>=1.0.0->ydata-profiling[notebook]) (0.10.2)\n",
            "Requirement already satisfied: pandocfilters>=1.4.1 in /usr/local/lib/python3.11/dist-packages (from nbconvert->jupyter>=1.0.0->ydata-profiling[notebook]) (1.5.1)\n",
            "Requirement already satisfied: async-lru>=1.0.0 in /usr/local/lib/python3.11/dist-packages (from jupyterlab->jupyter>=1.0.0->ydata-profiling[notebook]) (2.0.4)\n",
            "Requirement already satisfied: httpx>=0.25.0 in /usr/local/lib/python3.11/dist-packages (from jupyterlab->jupyter>=1.0.0->ydata-profiling[notebook]) (0.28.1)\n",
            "Requirement already satisfied: jupyter-lsp>=2.0.0 in /usr/local/lib/python3.11/dist-packages (from jupyterlab->jupyter>=1.0.0->ydata-profiling[notebook]) (2.2.5)\n",
            "Requirement already satisfied: jupyter-server<3,>=2.4.0 in /usr/local/lib/python3.11/dist-packages (from jupyterlab->jupyter>=1.0.0->ydata-profiling[notebook]) (2.15.0)\n",
            "Requirement already satisfied: jupyterlab-server<3,>=2.27.1 in /usr/local/lib/python3.11/dist-packages (from jupyterlab->jupyter>=1.0.0->ydata-profiling[notebook]) (2.27.3)\n",
            "Requirement already satisfied: notebook-shim>=0.2 in /usr/local/lib/python3.11/dist-packages (from jupyterlab->jupyter>=1.0.0->ydata-profiling[notebook]) (0.2.4)\n",
            "Requirement already satisfied: webencodings in /usr/local/lib/python3.11/dist-packages (from bleach!=5.0.0->bleach[css]!=5.0.0->nbconvert->jupyter>=1.0.0->ydata-profiling[notebook]) (0.5.1)\n",
            "Requirement already satisfied: tinycss2<1.5,>=1.1.0 in /usr/local/lib/python3.11/dist-packages (from bleach[css]!=5.0.0->nbconvert->jupyter>=1.0.0->ydata-profiling[notebook]) (1.4.0)\n",
            "Requirement already satisfied: anyio in /usr/local/lib/python3.11/dist-packages (from httpx>=0.25.0->jupyterlab->jupyter>=1.0.0->ydata-profiling[notebook]) (3.7.1)\n",
            "Requirement already satisfied: httpcore==1.* in /usr/local/lib/python3.11/dist-packages (from httpx>=0.25.0->jupyterlab->jupyter>=1.0.0->ydata-profiling[notebook]) (1.0.7)\n",
            "Requirement already satisfied: h11<0.15,>=0.13 in /usr/local/lib/python3.11/dist-packages (from httpcore==1.*->httpx>=0.25.0->jupyterlab->jupyter>=1.0.0->ydata-profiling[notebook]) (0.14.0)\n",
            "Requirement already satisfied: parso<0.9.0,>=0.8.4 in /usr/local/lib/python3.11/dist-packages (from jedi>=0.16->ipython>=4.0.0->ipywidgets>=7.5.1->ydata-profiling[notebook]) (0.8.4)\n",
            "Requirement already satisfied: entrypoints in /usr/local/lib/python3.11/dist-packages (from jupyter-client>=6.1.12->ipykernel>=4.5.1->ipywidgets>=7.5.1->ydata-profiling[notebook]) (0.4)\n",
            "Requirement already satisfied: platformdirs>=2.5 in /usr/local/lib/python3.11/dist-packages (from jupyter-core>=4.6.1->notebook->jupyter>=1.0.0->ydata-profiling[notebook]) (4.3.6)\n",
            "Requirement already satisfied: jupyter-events>=0.11.0 in /usr/local/lib/python3.11/dist-packages (from jupyter-server<3,>=2.4.0->jupyterlab->jupyter>=1.0.0->ydata-profiling[notebook]) (0.12.0)\n",
            "Requirement already satisfied: jupyter-server-terminals>=0.4.4 in /usr/local/lib/python3.11/dist-packages (from jupyter-server<3,>=2.4.0->jupyterlab->jupyter>=1.0.0->ydata-profiling[notebook]) (0.5.3)\n",
            "Requirement already satisfied: overrides>=5.0 in /usr/local/lib/python3.11/dist-packages (from jupyter-server<3,>=2.4.0->jupyterlab->jupyter>=1.0.0->ydata-profiling[notebook]) (7.7.0)\n",
            "Requirement already satisfied: websocket-client>=1.7 in /usr/local/lib/python3.11/dist-packages (from jupyter-server<3,>=2.4.0->jupyterlab->jupyter>=1.0.0->ydata-profiling[notebook]) (1.8.0)\n",
            "Requirement already satisfied: argon2-cffi-bindings in /usr/local/lib/python3.11/dist-packages (from argon2-cffi->notebook->jupyter>=1.0.0->ydata-profiling[notebook]) (21.2.0)\n",
            "Requirement already satisfied: babel>=2.10 in /usr/local/lib/python3.11/dist-packages (from jupyterlab-server<3,>=2.27.1->jupyterlab->jupyter>=1.0.0->ydata-profiling[notebook]) (2.17.0)\n",
            "Requirement already satisfied: json5>=0.9.0 in /usr/local/lib/python3.11/dist-packages (from jupyterlab-server<3,>=2.27.1->jupyterlab->jupyter>=1.0.0->ydata-profiling[notebook]) (0.10.0)\n",
            "Requirement already satisfied: jsonschema>=4.18.0 in /usr/local/lib/python3.11/dist-packages (from jupyterlab-server<3,>=2.27.1->jupyterlab->jupyter>=1.0.0->ydata-profiling[notebook]) (4.23.0)\n",
            "Requirement already satisfied: fastjsonschema>=2.15 in /usr/local/lib/python3.11/dist-packages (from nbformat->notebook->jupyter>=1.0.0->ydata-profiling[notebook]) (2.21.1)\n",
            "Requirement already satisfied: ptyprocess>=0.5 in /usr/local/lib/python3.11/dist-packages (from pexpect>4.3->ipython>=4.0.0->ipywidgets>=7.5.1->ydata-profiling[notebook]) (0.7.0)\n",
            "Requirement already satisfied: wcwidth in /usr/local/lib/python3.11/dist-packages (from prompt-toolkit!=3.0.0,!=3.0.1,<3.1.0,>=2.0.0->ipython>=4.0.0->ipywidgets>=7.5.1->ydata-profiling[notebook]) (0.2.13)\n",
            "Requirement already satisfied: soupsieve>1.2 in /usr/local/lib/python3.11/dist-packages (from beautifulsoup4->nbconvert->jupyter>=1.0.0->ydata-profiling[notebook]) (2.6)\n",
            "Requirement already satisfied: sniffio>=1.1 in /usr/local/lib/python3.11/dist-packages (from anyio->httpx>=0.25.0->jupyterlab->jupyter>=1.0.0->ydata-profiling[notebook]) (1.3.1)\n",
            "Requirement already satisfied: jsonschema-specifications>=2023.03.6 in /usr/local/lib/python3.11/dist-packages (from jsonschema>=4.18.0->jupyterlab-server<3,>=2.27.1->jupyterlab->jupyter>=1.0.0->ydata-profiling[notebook]) (2024.10.1)\n",
            "Requirement already satisfied: referencing>=0.28.4 in /usr/local/lib/python3.11/dist-packages (from jsonschema>=4.18.0->jupyterlab-server<3,>=2.27.1->jupyterlab->jupyter>=1.0.0->ydata-profiling[notebook]) (0.36.2)\n",
            "Requirement already satisfied: rpds-py>=0.7.1 in /usr/local/lib/python3.11/dist-packages (from jsonschema>=4.18.0->jupyterlab-server<3,>=2.27.1->jupyterlab->jupyter>=1.0.0->ydata-profiling[notebook]) (0.22.3)\n",
            "Requirement already satisfied: python-json-logger>=2.0.4 in /usr/local/lib/python3.11/dist-packages (from jupyter-events>=0.11.0->jupyter-server<3,>=2.4.0->jupyterlab->jupyter>=1.0.0->ydata-profiling[notebook]) (3.2.1)\n",
            "Requirement already satisfied: rfc3339-validator in /usr/local/lib/python3.11/dist-packages (from jupyter-events>=0.11.0->jupyter-server<3,>=2.4.0->jupyterlab->jupyter>=1.0.0->ydata-profiling[notebook]) (0.1.4)\n",
            "Requirement already satisfied: rfc3986-validator>=0.1.1 in /usr/local/lib/python3.11/dist-packages (from jupyter-events>=0.11.0->jupyter-server<3,>=2.4.0->jupyterlab->jupyter>=1.0.0->ydata-profiling[notebook]) (0.1.1)\n",
            "Requirement already satisfied: cffi>=1.0.1 in /usr/local/lib/python3.11/dist-packages (from argon2-cffi-bindings->argon2-cffi->notebook->jupyter>=1.0.0->ydata-profiling[notebook]) (1.17.1)\n",
            "Requirement already satisfied: pycparser in /usr/local/lib/python3.11/dist-packages (from cffi>=1.0.1->argon2-cffi-bindings->argon2-cffi->notebook->jupyter>=1.0.0->ydata-profiling[notebook]) (2.22)\n",
            "Requirement already satisfied: fqdn in /usr/local/lib/python3.11/dist-packages (from jsonschema[format-nongpl]>=4.18.0->jupyter-events>=0.11.0->jupyter-server<3,>=2.4.0->jupyterlab->jupyter>=1.0.0->ydata-profiling[notebook]) (1.5.1)\n",
            "Requirement already satisfied: isoduration in /usr/local/lib/python3.11/dist-packages (from jsonschema[format-nongpl]>=4.18.0->jupyter-events>=0.11.0->jupyter-server<3,>=2.4.0->jupyterlab->jupyter>=1.0.0->ydata-profiling[notebook]) (20.11.0)\n",
            "Requirement already satisfied: jsonpointer>1.13 in /usr/local/lib/python3.11/dist-packages (from jsonschema[format-nongpl]>=4.18.0->jupyter-events>=0.11.0->jupyter-server<3,>=2.4.0->jupyterlab->jupyter>=1.0.0->ydata-profiling[notebook]) (3.0.0)\n",
            "Requirement already satisfied: uri-template in /usr/local/lib/python3.11/dist-packages (from jsonschema[format-nongpl]>=4.18.0->jupyter-events>=0.11.0->jupyter-server<3,>=2.4.0->jupyterlab->jupyter>=1.0.0->ydata-profiling[notebook]) (1.3.0)\n",
            "Requirement already satisfied: webcolors>=24.6.0 in /usr/local/lib/python3.11/dist-packages (from jsonschema[format-nongpl]>=4.18.0->jupyter-events>=0.11.0->jupyter-server<3,>=2.4.0->jupyterlab->jupyter>=1.0.0->ydata-profiling[notebook]) (24.11.1)\n",
            "Requirement already satisfied: arrow>=0.15.0 in /usr/local/lib/python3.11/dist-packages (from isoduration->jsonschema[format-nongpl]>=4.18.0->jupyter-events>=0.11.0->jupyter-server<3,>=2.4.0->jupyterlab->jupyter>=1.0.0->ydata-profiling[notebook]) (1.3.0)\n",
            "Requirement already satisfied: types-python-dateutil>=2.8.10 in /usr/local/lib/python3.11/dist-packages (from arrow>=0.15.0->isoduration->jsonschema[format-nongpl]>=4.18.0->jupyter-events>=0.11.0->jupyter-server<3,>=2.4.0->jupyterlab->jupyter>=1.0.0->ydata-profiling[notebook]) (2.9.0.20241206)\n",
            "Requirement already satisfied: jupyter-contrib-nbextensions in /usr/local/lib/python3.11/dist-packages (0.7.0)\n",
            "Requirement already satisfied: ipython-genutils in /usr/local/lib/python3.11/dist-packages (from jupyter-contrib-nbextensions) (0.2.0)\n",
            "Requirement already satisfied: jupyter-contrib-core>=0.3.3 in /usr/local/lib/python3.11/dist-packages (from jupyter-contrib-nbextensions) (0.4.2)\n",
            "Requirement already satisfied: jupyter-core in /usr/local/lib/python3.11/dist-packages (from jupyter-contrib-nbextensions) (5.7.2)\n",
            "Requirement already satisfied: jupyter-highlight-selected-word>=0.1.1 in /usr/local/lib/python3.11/dist-packages (from jupyter-contrib-nbextensions) (0.2.0)\n",
            "Requirement already satisfied: jupyter-nbextensions-configurator>=0.4.0 in /usr/local/lib/python3.11/dist-packages (from jupyter-contrib-nbextensions) (0.6.4)\n",
            "Requirement already satisfied: nbconvert>=6.0 in /usr/local/lib/python3.11/dist-packages (from jupyter-contrib-nbextensions) (7.16.6)\n",
            "Requirement already satisfied: notebook>=6.0 in /usr/local/lib/python3.11/dist-packages (from jupyter-contrib-nbextensions) (6.5.5)\n",
            "Requirement already satisfied: tornado in /usr/local/lib/python3.11/dist-packages (from jupyter-contrib-nbextensions) (6.4.2)\n",
            "Requirement already satisfied: traitlets>=4.1 in /usr/local/lib/python3.11/dist-packages (from jupyter-contrib-nbextensions) (5.7.1)\n",
            "Requirement already satisfied: lxml in /usr/local/lib/python3.11/dist-packages (from jupyter-contrib-nbextensions) (5.3.1)\n",
            "Requirement already satisfied: setuptools in /usr/local/lib/python3.11/dist-packages (from jupyter-contrib-core>=0.3.3->jupyter-contrib-nbextensions) (75.1.0)\n",
            "Requirement already satisfied: jupyter-server in /usr/local/lib/python3.11/dist-packages (from jupyter-nbextensions-configurator>=0.4.0->jupyter-contrib-nbextensions) (2.15.0)\n",
            "Requirement already satisfied: pyyaml in /usr/local/lib/python3.11/dist-packages (from jupyter-nbextensions-configurator>=0.4.0->jupyter-contrib-nbextensions) (6.0.2)\n",
            "Requirement already satisfied: beautifulsoup4 in /usr/local/lib/python3.11/dist-packages (from nbconvert>=6.0->jupyter-contrib-nbextensions) (4.13.3)\n",
            "Requirement already satisfied: bleach!=5.0.0 in /usr/local/lib/python3.11/dist-packages (from bleach[css]!=5.0.0->nbconvert>=6.0->jupyter-contrib-nbextensions) (6.2.0)\n",
            "Requirement already satisfied: defusedxml in /usr/local/lib/python3.11/dist-packages (from nbconvert>=6.0->jupyter-contrib-nbextensions) (0.7.1)\n",
            "Requirement already satisfied: jinja2>=3.0 in /usr/local/lib/python3.11/dist-packages (from nbconvert>=6.0->jupyter-contrib-nbextensions) (3.1.5)\n",
            "Requirement already satisfied: jupyterlab-pygments in /usr/local/lib/python3.11/dist-packages (from nbconvert>=6.0->jupyter-contrib-nbextensions) (0.3.0)\n",
            "Requirement already satisfied: markupsafe>=2.0 in /usr/local/lib/python3.11/dist-packages (from nbconvert>=6.0->jupyter-contrib-nbextensions) (3.0.2)\n",
            "Requirement already satisfied: mistune<4,>=2.0.3 in /usr/local/lib/python3.11/dist-packages (from nbconvert>=6.0->jupyter-contrib-nbextensions) (3.1.2)\n",
            "Requirement already satisfied: nbclient>=0.5.0 in /usr/local/lib/python3.11/dist-packages (from nbconvert>=6.0->jupyter-contrib-nbextensions) (0.10.2)\n",
            "Requirement already satisfied: nbformat>=5.7 in /usr/local/lib/python3.11/dist-packages (from nbconvert>=6.0->jupyter-contrib-nbextensions) (5.10.4)\n",
            "Requirement already satisfied: packaging in /usr/local/lib/python3.11/dist-packages (from nbconvert>=6.0->jupyter-contrib-nbextensions) (24.2)\n",
            "Requirement already satisfied: pandocfilters>=1.4.1 in /usr/local/lib/python3.11/dist-packages (from nbconvert>=6.0->jupyter-contrib-nbextensions) (1.5.1)\n",
            "Requirement already satisfied: pygments>=2.4.1 in /usr/local/lib/python3.11/dist-packages (from nbconvert>=6.0->jupyter-contrib-nbextensions) (2.18.0)\n",
            "Requirement already satisfied: platformdirs>=2.5 in /usr/local/lib/python3.11/dist-packages (from jupyter-core->jupyter-contrib-nbextensions) (4.3.6)\n",
            "Requirement already satisfied: pyzmq<25,>=17 in /usr/local/lib/python3.11/dist-packages (from notebook>=6.0->jupyter-contrib-nbextensions) (24.0.1)\n",
            "Requirement already satisfied: argon2-cffi in /usr/local/lib/python3.11/dist-packages (from notebook>=6.0->jupyter-contrib-nbextensions) (23.1.0)\n",
            "Requirement already satisfied: jupyter-client<8,>=5.3.4 in /usr/local/lib/python3.11/dist-packages (from notebook>=6.0->jupyter-contrib-nbextensions) (7.4.9)\n",
            "Requirement already satisfied: nest-asyncio>=1.5 in /usr/local/lib/python3.11/dist-packages (from notebook>=6.0->jupyter-contrib-nbextensions) (1.6.0)\n",
            "Requirement already satisfied: ipykernel in /usr/local/lib/python3.11/dist-packages (from notebook>=6.0->jupyter-contrib-nbextensions) (6.17.1)\n",
            "Requirement already satisfied: Send2Trash>=1.8.0 in /usr/local/lib/python3.11/dist-packages (from notebook>=6.0->jupyter-contrib-nbextensions) (1.8.3)\n",
            "Requirement already satisfied: terminado>=0.8.3 in /usr/local/lib/python3.11/dist-packages (from notebook>=6.0->jupyter-contrib-nbextensions) (0.18.1)\n",
            "Requirement already satisfied: prometheus-client in /usr/local/lib/python3.11/dist-packages (from notebook>=6.0->jupyter-contrib-nbextensions) (0.21.1)\n",
            "Requirement already satisfied: nbclassic>=0.4.7 in /usr/local/lib/python3.11/dist-packages (from notebook>=6.0->jupyter-contrib-nbextensions) (1.2.0)\n",
            "Requirement already satisfied: webencodings in /usr/local/lib/python3.11/dist-packages (from bleach!=5.0.0->bleach[css]!=5.0.0->nbconvert>=6.0->jupyter-contrib-nbextensions) (0.5.1)\n",
            "Requirement already satisfied: tinycss2<1.5,>=1.1.0 in /usr/local/lib/python3.11/dist-packages (from bleach[css]!=5.0.0->nbconvert>=6.0->jupyter-contrib-nbextensions) (1.4.0)\n",
            "Requirement already satisfied: entrypoints in /usr/local/lib/python3.11/dist-packages (from jupyter-client<8,>=5.3.4->notebook>=6.0->jupyter-contrib-nbextensions) (0.4)\n",
            "Requirement already satisfied: python-dateutil>=2.8.2 in /usr/local/lib/python3.11/dist-packages (from jupyter-client<8,>=5.3.4->notebook>=6.0->jupyter-contrib-nbextensions) (2.8.2)\n",
            "Requirement already satisfied: notebook-shim>=0.2.3 in /usr/local/lib/python3.11/dist-packages (from nbclassic>=0.4.7->notebook>=6.0->jupyter-contrib-nbextensions) (0.2.4)\n",
            "Requirement already satisfied: fastjsonschema>=2.15 in /usr/local/lib/python3.11/dist-packages (from nbformat>=5.7->nbconvert>=6.0->jupyter-contrib-nbextensions) (2.21.1)\n",
            "Requirement already satisfied: jsonschema>=2.6 in /usr/local/lib/python3.11/dist-packages (from nbformat>=5.7->nbconvert>=6.0->jupyter-contrib-nbextensions) (4.23.0)\n",
            "Requirement already satisfied: ptyprocess in /usr/local/lib/python3.11/dist-packages (from terminado>=0.8.3->notebook>=6.0->jupyter-contrib-nbextensions) (0.7.0)\n",
            "Requirement already satisfied: argon2-cffi-bindings in /usr/local/lib/python3.11/dist-packages (from argon2-cffi->notebook>=6.0->jupyter-contrib-nbextensions) (21.2.0)\n",
            "Requirement already satisfied: soupsieve>1.2 in /usr/local/lib/python3.11/dist-packages (from beautifulsoup4->nbconvert>=6.0->jupyter-contrib-nbextensions) (2.6)\n",
            "Requirement already satisfied: typing-extensions>=4.0.0 in /usr/local/lib/python3.11/dist-packages (from beautifulsoup4->nbconvert>=6.0->jupyter-contrib-nbextensions) (4.12.2)\n",
            "Requirement already satisfied: debugpy>=1.0 in /usr/local/lib/python3.11/dist-packages (from ipykernel->notebook>=6.0->jupyter-contrib-nbextensions) (1.8.0)\n",
            "Requirement already satisfied: ipython>=7.23.1 in /usr/local/lib/python3.11/dist-packages (from ipykernel->notebook>=6.0->jupyter-contrib-nbextensions) (7.34.0)\n",
            "Requirement already satisfied: matplotlib-inline>=0.1 in /usr/local/lib/python3.11/dist-packages (from ipykernel->notebook>=6.0->jupyter-contrib-nbextensions) (0.1.7)\n",
            "Requirement already satisfied: psutil in /usr/local/lib/python3.11/dist-packages (from ipykernel->notebook>=6.0->jupyter-contrib-nbextensions) (5.9.5)\n",
            "Requirement already satisfied: anyio>=3.1.0 in /usr/local/lib/python3.11/dist-packages (from jupyter-server->jupyter-nbextensions-configurator>=0.4.0->jupyter-contrib-nbextensions) (3.7.1)\n",
            "Requirement already satisfied: jupyter-events>=0.11.0 in /usr/local/lib/python3.11/dist-packages (from jupyter-server->jupyter-nbextensions-configurator>=0.4.0->jupyter-contrib-nbextensions) (0.12.0)\n",
            "Requirement already satisfied: jupyter-server-terminals>=0.4.4 in /usr/local/lib/python3.11/dist-packages (from jupyter-server->jupyter-nbextensions-configurator>=0.4.0->jupyter-contrib-nbextensions) (0.5.3)\n",
            "Requirement already satisfied: overrides>=5.0 in /usr/local/lib/python3.11/dist-packages (from jupyter-server->jupyter-nbextensions-configurator>=0.4.0->jupyter-contrib-nbextensions) (7.7.0)\n",
            "Requirement already satisfied: websocket-client>=1.7 in /usr/local/lib/python3.11/dist-packages (from jupyter-server->jupyter-nbextensions-configurator>=0.4.0->jupyter-contrib-nbextensions) (1.8.0)\n",
            "Requirement already satisfied: idna>=2.8 in /usr/local/lib/python3.11/dist-packages (from anyio>=3.1.0->jupyter-server->jupyter-nbextensions-configurator>=0.4.0->jupyter-contrib-nbextensions) (3.10)\n",
            "Requirement already satisfied: sniffio>=1.1 in /usr/local/lib/python3.11/dist-packages (from anyio>=3.1.0->jupyter-server->jupyter-nbextensions-configurator>=0.4.0->jupyter-contrib-nbextensions) (1.3.1)\n",
            "Requirement already satisfied: jedi>=0.16 in /usr/local/lib/python3.11/dist-packages (from ipython>=7.23.1->ipykernel->notebook>=6.0->jupyter-contrib-nbextensions) (0.19.2)\n",
            "Requirement already satisfied: decorator in /usr/local/lib/python3.11/dist-packages (from ipython>=7.23.1->ipykernel->notebook>=6.0->jupyter-contrib-nbextensions) (4.4.2)\n",
            "Requirement already satisfied: pickleshare in /usr/local/lib/python3.11/dist-packages (from ipython>=7.23.1->ipykernel->notebook>=6.0->jupyter-contrib-nbextensions) (0.7.5)\n",
            "Requirement already satisfied: prompt-toolkit!=3.0.0,!=3.0.1,<3.1.0,>=2.0.0 in /usr/local/lib/python3.11/dist-packages (from ipython>=7.23.1->ipykernel->notebook>=6.0->jupyter-contrib-nbextensions) (3.0.50)\n",
            "Requirement already satisfied: backcall in /usr/local/lib/python3.11/dist-packages (from ipython>=7.23.1->ipykernel->notebook>=6.0->jupyter-contrib-nbextensions) (0.2.0)\n",
            "Requirement already satisfied: pexpect>4.3 in /usr/local/lib/python3.11/dist-packages (from ipython>=7.23.1->ipykernel->notebook>=6.0->jupyter-contrib-nbextensions) (4.9.0)\n",
            "Requirement already satisfied: attrs>=22.2.0 in /usr/local/lib/python3.11/dist-packages (from jsonschema>=2.6->nbformat>=5.7->nbconvert>=6.0->jupyter-contrib-nbextensions) (25.1.0)\n",
            "Requirement already satisfied: jsonschema-specifications>=2023.03.6 in /usr/local/lib/python3.11/dist-packages (from jsonschema>=2.6->nbformat>=5.7->nbconvert>=6.0->jupyter-contrib-nbextensions) (2024.10.1)\n",
            "Requirement already satisfied: referencing>=0.28.4 in /usr/local/lib/python3.11/dist-packages (from jsonschema>=2.6->nbformat>=5.7->nbconvert>=6.0->jupyter-contrib-nbextensions) (0.36.2)\n",
            "Requirement already satisfied: rpds-py>=0.7.1 in /usr/local/lib/python3.11/dist-packages (from jsonschema>=2.6->nbformat>=5.7->nbconvert>=6.0->jupyter-contrib-nbextensions) (0.22.3)\n",
            "Requirement already satisfied: python-json-logger>=2.0.4 in /usr/local/lib/python3.11/dist-packages (from jupyter-events>=0.11.0->jupyter-server->jupyter-nbextensions-configurator>=0.4.0->jupyter-contrib-nbextensions) (3.2.1)\n",
            "Requirement already satisfied: rfc3339-validator in /usr/local/lib/python3.11/dist-packages (from jupyter-events>=0.11.0->jupyter-server->jupyter-nbextensions-configurator>=0.4.0->jupyter-contrib-nbextensions) (0.1.4)\n",
            "Requirement already satisfied: rfc3986-validator>=0.1.1 in /usr/local/lib/python3.11/dist-packages (from jupyter-events>=0.11.0->jupyter-server->jupyter-nbextensions-configurator>=0.4.0->jupyter-contrib-nbextensions) (0.1.1)\n",
            "Requirement already satisfied: six>=1.5 in /usr/local/lib/python3.11/dist-packages (from python-dateutil>=2.8.2->jupyter-client<8,>=5.3.4->notebook>=6.0->jupyter-contrib-nbextensions) (1.17.0)\n",
            "Requirement already satisfied: cffi>=1.0.1 in /usr/local/lib/python3.11/dist-packages (from argon2-cffi-bindings->argon2-cffi->notebook>=6.0->jupyter-contrib-nbextensions) (1.17.1)\n",
            "Requirement already satisfied: pycparser in /usr/local/lib/python3.11/dist-packages (from cffi>=1.0.1->argon2-cffi-bindings->argon2-cffi->notebook>=6.0->jupyter-contrib-nbextensions) (2.22)\n",
            "Requirement already satisfied: parso<0.9.0,>=0.8.4 in /usr/local/lib/python3.11/dist-packages (from jedi>=0.16->ipython>=7.23.1->ipykernel->notebook>=6.0->jupyter-contrib-nbextensions) (0.8.4)\n",
            "Requirement already satisfied: fqdn in /usr/local/lib/python3.11/dist-packages (from jsonschema[format-nongpl]>=4.18.0->jupyter-events>=0.11.0->jupyter-server->jupyter-nbextensions-configurator>=0.4.0->jupyter-contrib-nbextensions) (1.5.1)\n",
            "Requirement already satisfied: isoduration in /usr/local/lib/python3.11/dist-packages (from jsonschema[format-nongpl]>=4.18.0->jupyter-events>=0.11.0->jupyter-server->jupyter-nbextensions-configurator>=0.4.0->jupyter-contrib-nbextensions) (20.11.0)\n",
            "Requirement already satisfied: jsonpointer>1.13 in /usr/local/lib/python3.11/dist-packages (from jsonschema[format-nongpl]>=4.18.0->jupyter-events>=0.11.0->jupyter-server->jupyter-nbextensions-configurator>=0.4.0->jupyter-contrib-nbextensions) (3.0.0)\n",
            "Requirement already satisfied: uri-template in /usr/local/lib/python3.11/dist-packages (from jsonschema[format-nongpl]>=4.18.0->jupyter-events>=0.11.0->jupyter-server->jupyter-nbextensions-configurator>=0.4.0->jupyter-contrib-nbextensions) (1.3.0)\n",
            "Requirement already satisfied: webcolors>=24.6.0 in /usr/local/lib/python3.11/dist-packages (from jsonschema[format-nongpl]>=4.18.0->jupyter-events>=0.11.0->jupyter-server->jupyter-nbextensions-configurator>=0.4.0->jupyter-contrib-nbextensions) (24.11.1)\n",
            "Requirement already satisfied: wcwidth in /usr/local/lib/python3.11/dist-packages (from prompt-toolkit!=3.0.0,!=3.0.1,<3.1.0,>=2.0.0->ipython>=7.23.1->ipykernel->notebook>=6.0->jupyter-contrib-nbextensions) (0.2.13)\n",
            "Requirement already satisfied: arrow>=0.15.0 in /usr/local/lib/python3.11/dist-packages (from isoduration->jsonschema[format-nongpl]>=4.18.0->jupyter-events>=0.11.0->jupyter-server->jupyter-nbextensions-configurator>=0.4.0->jupyter-contrib-nbextensions) (1.3.0)\n",
            "Requirement already satisfied: types-python-dateutil>=2.8.10 in /usr/local/lib/python3.11/dist-packages (from arrow>=0.15.0->isoduration->jsonschema[format-nongpl]>=4.18.0->jupyter-events>=0.11.0->jupyter-server->jupyter-nbextensions-configurator>=0.4.0->jupyter-contrib-nbextensions) (2.9.0.20241206)\n"
          ]
        }
      ]
    },
    {
      "cell_type": "code",
      "source": [
        "# Instala e ativa nbextension para interaão via HTML com report\n",
        "!jupyter nbextension enable --py widgetsnbextension"
      ],
      "metadata": {
        "colab": {
          "base_uri": "https://localhost:8080/"
        },
        "collapsed": true,
        "id": "HgDZKVR6K-wo",
        "outputId": "6cff14da-13c5-43bd-f5d4-d1620fa1aafe"
      },
      "execution_count": 13,
      "outputs": [
        {
          "output_type": "stream",
          "name": "stdout",
          "text": [
            "Enabling notebook extension jupyter-js-widgets/extension...\n",
            "Paths used for configuration of notebook: \n",
            "    \t/root/.jupyter/nbconfig/notebook.json\n",
            "Paths used for configuration of notebook: \n",
            "    \t\n",
            "      - Validating: \u001b[32mOK\u001b[0m\n",
            "Paths used for configuration of notebook: \n",
            "    \t/root/.jupyter/nbconfig/notebook.json\n"
          ]
        }
      ]
    },
    {
      "cell_type": "code",
      "source": [
        "# Import de libs\n",
        "import numpy as np\n",
        "import pandas as pd\n",
        "from ydata_profiling import ProfileReport"
      ],
      "metadata": {
        "id": "I89cA9CpLC0C"
      },
      "execution_count": 14,
      "outputs": []
    },
    {
      "cell_type": "code",
      "source": [
        "# # Criando report com ydata-profilling (versão otimizada para avaliar grande volume de dados: minimal=True)\n",
        "# profile = ProfileReport(df, title=\"Pandas Profiling Report\", minimal=True)\n",
        "# # Exportando report\n",
        "# profile.to_file(\"tbl_hack_report_eda.html\")"
      ],
      "metadata": {
        "id": "d2v1NGUjLMan"
      },
      "execution_count": 15,
      "outputs": []
    },
    {
      "cell_type": "markdown",
      "source": [
        "````python\n",
        "# Renderizando report no próprio notebook\n",
        "profile\n",
        "````"
      ],
      "metadata": {
        "id": "ph-qRYFoLv_q"
      }
    },
    {
      "cell_type": "markdown",
      "source": [
        "### 2.2. Análise de Correlação"
      ],
      "metadata": {
        "id": "xCTws6j8V9Ma"
      }
    },
    {
      "cell_type": "code",
      "source": [
        "# Define anomes para realização da análise\n",
        "anomes = 202411 # Referência M0 que iremos utilizar para análise\n",
        "\n",
        "# Configurações visuais\n",
        "cmap = sns.diverging_palette(h_neg=240,h_pos=10,s=100,as_cmap=True)\n",
        "\n",
        "# Definir o tamanho da figura\n",
        "plt.figure(figsize=(12, 8))  # Aumente os valores para tamanhos maiores\n",
        "\n",
        "# Plotando Heatmap\n",
        "sns.heatmap(df.query(f'anomes == \"{anomes}\"').select_dtypes(include=['number']).corr(method='pearson'), cmap=cmap, annot=True, fmt='.1f',center=0);"
      ],
      "metadata": {
        "colab": {
          "base_uri": "https://localhost:8080/",
          "height": 0
        },
        "id": "m2Btjr1Uhmq_",
        "outputId": "0ab20f03-b491-44fb-97e1-caddac216e21"
      },
      "execution_count": 16,
      "outputs": [
        {
          "output_type": "display_data",
          "data": {
            "text/plain": [
              "<Figure size 1200x800 with 2 Axes>"
            ],
            "image/png": "[encoded data removed]"
          },
          "metadata": {}
        }
      ]
    },
    {
      "cell_type": "markdown",
      "source": [
        "> **Comentários:**\n",
        "- Considerando que a base de dados é bastante grande e não iremos utilizar toda a base, optamos por analisar aperar o histórico útil (202411 a 202406) e apenas as variáveis que passarem em nosso filro inicial\n",
        "- Notamos que algumas variáveis possuem bastante inconsistências para as safras mais recentes. Dado o tempo, iremos optar por simplesmente não utiliza-las\n",
        "- Identificamos forte correlação entre algumas variáveis, detacam-se:\n",
        "- Da mesma forma, notamos que não há uma correlação muito alta entre Cash-In e Faturamento Eleito (esperávamos que tivesse)\n",
        "- Notamos que existem clientes sem classificação de status G"
      ],
      "metadata": {
        "id": "BFw2HeVRMjZy"
      }
    },
    {
      "cell_type": "markdown",
      "source": [
        "## 03. Separação do conjunto de dados para Treino/Validação"
      ],
      "metadata": {
        "id": "DtjDcU4Gi1Cf"
      }
    },
    {
      "cell_type": "markdown",
      "source": [
        "> Embora o modelo possa não ser uma solução com aplicação 100% de Machine Learning, optamos por fazer um recorte da base para eventuais análises de coerência do método desenvolvido."
      ],
      "metadata": {
        "id": "fKTtotd_oHGM"
      }
    },
    {
      "cell_type": "markdown",
      "source": [
        "Definção da função para geração de amostra de validação estratificada:"
      ],
      "metadata": {
        "id": "-uNsxM6-2xqi"
      }
    },
    {
      "cell_type": "code",
      "source": [
        "# import train_test_split\n",
        "from sklearn.model_selection import train_test_split\n",
        "\n",
        "# Define função de amostra estratificada\n",
        "def criar_amostras_temporais_stratificadas(df, seed=42, test_size=0.1):\n",
        "    \"\"\"\n",
        "    Cria amostras temporais estratificadas preservando histórico completo dos CNPJs\n",
        "\n",
        "    Parâmetros:\n",
        "    df (pd.DataFrame): DataFrame completo com histórico temporal\n",
        "    seed (int): Semente para reprodutibilidade\n",
        "\n",
        "    Retorno:\n",
        "    (pd.DataFrame, pd.DataFrame): df_amostra_treino, df_amostra_validacao\n",
        "    \"\"\"\n",
        "\n",
        "    # Passo 1: Identificar o último segmento de CADA CNPJ (mesmo que inativo no último mês)\n",
        "    ultimo_segmento_por_cnpj = (\n",
        "        df.sort_values('anomes')\n",
        "        .groupby('num_cpf_cnpj')\n",
        "        .tail(1)\n",
        "        [['num_cpf_cnpj', 'segmento']]\n",
        "    )\n",
        "\n",
        "    # Passo 2: Juntar com todos os CNPJs existentes\n",
        "    todos_cnpjs = pd.DataFrame({'num_cpf_cnpj': df['num_cpf_cnpj'].unique()})\n",
        "    df_estratificacao = todos_cnpjs.merge(\n",
        "        ultimo_segmento_por_cnpj,\n",
        "        on='num_cpf_cnpj',\n",
        "        how='left'\n",
        "    )\n",
        "\n",
        "    # Preencher segmentos faltantes (CNPJs sem histórico no último mês)\n",
        "    df_estratificacao['segmento'] = df_estratificacao['segmento'].fillna('DESCONHECIDO')\n",
        "\n",
        "    # Passo 3: Dividir estratificadamente\n",
        "    train_cnpjs, val_cnpjs = train_test_split(\n",
        "        df_estratificacao,\n",
        "        test_size=test_size,\n",
        "        stratify=df_estratificacao['segmento'],\n",
        "        random_state=seed\n",
        "    )\n",
        "\n",
        "    # Passo 4: Criar datasets finais com histórico completo\n",
        "    df_amostra_treino = df[df['num_cpf_cnpj'].isin(train_cnpjs['num_cpf_cnpj'])]\n",
        "    df_amostra_validacao = df[df['num_cpf_cnpj'].isin(val_cnpjs['num_cpf_cnpj'])]\n",
        "\n",
        "    # Passo 5: Validação\n",
        "    print(\"\\nValidação:\")\n",
        "    print(f\"Total CNPJs original: {len(todos_cnpjs)}\")\n",
        "    print(f\"CNPJs treino: {len(train_cnpjs)}\")\n",
        "    print(f\"CNPJs validação: {len(val_cnpjs)}\")\n",
        "    print(f\"CNPJs faltantes: {len(todos_cnpjs) - len(train_cnpjs) - len(val_cnpjs)}\")\n",
        "\n",
        "    validar_proporcoes(df_amostra_treino, df_amostra_validacao, df_estratificacao)\n",
        "\n",
        "    return df_amostra_treino, df_amostra_validacao\n",
        "\n",
        "def validar_proporcoes(df_treino, df_validacao, df_estratificacao):\n",
        "    \"\"\"Validação atualizada\"\"\"\n",
        "    # Proporções esperadas\n",
        "    prop_original = df_estratificacao['segmento'].value_counts(normalize=True).to_dict()\n",
        "\n",
        "    # Proporções obtidas\n",
        "    prop_treino = (\n",
        "        df_treino.drop_duplicates('num_cpf_cnpj')['segmento']\n",
        "        .value_counts(normalize=True)\n",
        "        .to_dict()\n",
        "    )\n",
        "\n",
        "    prop_validacao = (\n",
        "        df_validacao.drop_duplicates('num_cpf_cnpj')['segmento']\n",
        "        .value_counts(normalize=True)\n",
        "        .to_dict()\n",
        "    )\n",
        "\n",
        "    print(\"\\nComparação de proporções:\")\n",
        "    for segmento in prop_original:\n",
        "        print(f\"\\nSegmento {segmento}:\")\n",
        "        print(f\"Original: {prop_original[segmento]:.1%}\")\n",
        "        print(f\"Treino: {prop_treino.get(segmento, 0):.1%}\")\n",
        "        print(f\"Validação: {prop_validacao.get(segmento, 0):.1%}\")\n",
        "\n",
        "    # Verificação de cobertura total\n",
        "    cnpjs_originais = set(df_estratificacao['num_cpf_cnpj'])\n",
        "    cnpjs_processados = set(df_treino['num_cpf_cnpj']).union(set(df_validacao['num_cpf_cnpj']))\n",
        "    print(f\"\\nCNPJs não alocados: {len(cnpjs_originais - cnpjs_processados)}\")"
      ],
      "metadata": {
        "id": "2CuTho8Exljz"
      },
      "execution_count": 17,
      "outputs": []
    },
    {
      "cell_type": "markdown",
      "source": [
        "Geração da amostra de validação 1 (Conjunto de CNPJs separados para validação e seus respectivos históricos):"
      ],
      "metadata": {
        "id": "E-8mMWeF24l6"
      }
    },
    {
      "cell_type": "code",
      "source": [
        "# Divisão treino-validação 90/10 estratificada\n",
        "df_amostra_treino, df_amostra1_validacao = criar_amostras_temporais_stratificadas(df=df,seed=42, test_size=0.1)"
      ],
      "metadata": {
        "colab": {
          "base_uri": "https://localhost:8080/"
        },
        "id": "wPf4SHBgJJNM",
        "outputId": "37978750-fb8d-4e97-9b6b-4e7a49ea2654"
      },
      "execution_count": 18,
      "outputs": [
        {
          "output_type": "stream",
          "name": "stdout",
          "text": [
            "\n",
            "Validação:\n",
            "Total CNPJs original: 1470000\n",
            "CNPJs treino: 1323000\n",
            "CNPJs validação: 147000\n",
            "CNPJs faltantes: 0\n",
            "\n",
            "Comparação de proporções:\n",
            "\n",
            "Segmento D:\n",
            "Original: 25.0%\n",
            "Treino: 25.0%\n",
            "Validação: 25.0%\n",
            "\n",
            "Segmento C:\n",
            "Original: 23.1%\n",
            "Treino: 23.1%\n",
            "Validação: 23.1%\n",
            "\n",
            "Segmento E:\n",
            "Original: 22.0%\n",
            "Treino: 22.0%\n",
            "Validação: 22.0%\n",
            "\n",
            "Segmento A:\n",
            "Original: 15.0%\n",
            "Treino: 15.0%\n",
            "Validação: 15.0%\n",
            "\n",
            "Segmento B:\n",
            "Original: 15.0%\n",
            "Treino: 15.0%\n",
            "Validação: 15.0%\n",
            "\n",
            "CNPJs não alocados: 0\n"
          ]
        }
      ]
    },
    {
      "cell_type": "markdown",
      "source": [
        "Geração da amostra de validação 2 (separação do último mês de ref. da base de dados, para avaliação de coerência da classificação):"
      ],
      "metadata": {
        "id": "7S2r4Gi34G4x"
      }
    },
    {
      "cell_type": "code",
      "source": [
        "# Especifica número de meses subsequentes a M0 a serem separados para validação\n",
        "n_meses_validacao = 1"
      ],
      "metadata": {
        "id": "4tbGjErA6l9M"
      },
      "execution_count": 19,
      "outputs": []
    },
    {
      "cell_type": "code",
      "source": [
        "# Criar uma cópia explícita do DataFrame\n",
        "df_amostra_treino = df_amostra_treino.copy()\n",
        "\n",
        "# Converter a coluna anomes para string primeiro (caso seja numérica)\n",
        "df_amostra_treino.loc[:, 'anomes'] = df_amostra_treino['anomes'].astype(str)\n",
        "\n",
        "# Converter para datetime com o formato correto YYYYMM\n",
        "df_amostra_treino.loc[:, 'anomes'] = pd.to_datetime(\n",
        "    df_amostra_treino['anomes'],\n",
        "    format='%Y%m'  # Formato correto para datas como \"202411\"\n",
        ")\n",
        "\n",
        "# Ordenar por data corretamente\n",
        "df_amostra_treino = df_amostra_treino.sort_values('anomes')\n",
        "\n",
        "# Identificar últimos N meses (agora usando datetime)\n",
        "ultimas_datas = df_amostra_treino['anomes'].unique()\n",
        "list_n_menses_validacao = np.sort(ultimas_datas)[-n_meses_validacao:]\n",
        "\n",
        "# Criar máscara booleana\n",
        "mask_validacao = df_amostra_treino['anomes'].isin(list_n_menses_validacao)\n",
        "\n",
        "# Separar datasets\n",
        "df_amostra2_validacao = df_amostra_treino.loc[mask_validacao, :].copy()\n",
        "df_amostra_treino_final = df_amostra_treino.loc[~mask_validacao, :].copy()"
      ],
      "metadata": {
        "id": "ATdd8q1YHyeU"
      },
      "execution_count": 20,
      "outputs": []
    },
    {
      "cell_type": "markdown",
      "source": [
        "Em resumo:"
      ],
      "metadata": {
        "id": "Yzqam5OxtJqQ"
      }
    },
    {
      "cell_type": "code",
      "source": [
        "print(f'Conjunto de dados indiciais (df):                         {df.shape}')\n",
        "print('-----------------------------------------------------------------------')\n",
        "print(f'Conjunto de dados de treino parcial (df_amostra_treino):  {df_amostra_treino.shape}')\n",
        "print('-----------------------------------------------------------------------')\n",
        "print(f'Conjunto de dados de treino (df_amostra_treino_final):    {df_amostra_treino_final.shape}')\n",
        "print(f'Conjunto de dados de validação 1 (df_amostra1_validacao):   {df_amostra1_validacao.shape}')\n",
        "print(f'Conjunto de dados de validação 2 (df_amostra2_validacao):   {df_amostra2_validacao.shape}')"
      ],
      "metadata": {
        "colab": {
          "base_uri": "https://localhost:8080/"
        },
        "id": "TLMRKLrsouqV",
        "outputId": "e1333dbf-f0d8-461b-8d09-e680124e5f74"
      },
      "execution_count": 21,
      "outputs": [
        {
          "output_type": "stream",
          "name": "stdout",
          "text": [
            "Conjunto de dados indiciais (df):                         (9692768, 18)\n",
            "-----------------------------------------------------------------------\n",
            "Conjunto de dados de treino parcial (df_amostra_treino):  (8723723, 18)\n",
            "-----------------------------------------------------------------------\n",
            "Conjunto de dados de treino (df_amostra_treino_final):    (7551673, 18)\n",
            "Conjunto de dados de validação 1 (df_amostra1_validacao):   (969045, 18)\n",
            "Conjunto de dados de validação 2 (df_amostra2_validacao):   (1172050, 18)\n"
          ]
        }
      ]
    },
    {
      "cell_type": "code",
      "source": [
        "# Exportando bases para Parquet\n",
        "df_amostra_treino_final.to_parquet('df_amostra_treino_final.parquet', engine='pyarrow', compression='snappy')\n",
        "print(f\"DataFrame 'df_amostra_treino_final' exportado como Parquet\")\n",
        "\n",
        "df_amostra1_validacao.to_parquet('df_amostra1_validacao.parquet', engine='pyarrow', compression='snappy')\n",
        "print(f\"DataFrame 'df_amostra1_validacao' exportado como Parquet\")\n",
        "\n",
        "df_amostra2_validacao.to_parquet('df_amostra2_validacao.parquet', engine='pyarrow', compression='snappy')\n",
        "print(f\"DataFrame 'df_amostra2_validacao' exportado como Parquet\")"
      ],
      "metadata": {
        "colab": {
          "base_uri": "https://localhost:8080/"
        },
        "id": "KWp6gbQVOt7B",
        "outputId": "858a8ba1-005a-468d-998b-7a9b1c4622c9"
      },
      "execution_count": 22,
      "outputs": [
        {
          "output_type": "stream",
          "name": "stdout",
          "text": [
            "DataFrame 'df_amostra_treino_final' exportado como Parquet\n",
            "DataFrame 'df_amostra1_validacao' exportado como Parquet\n",
            "DataFrame 'df_amostra2_validacao' exportado como Parquet\n"
          ]
        }
      ]
    },
    {
      "cell_type": "code",
      "source": [
        "# Higienização de memória\n",
        "del df_amostra2_validacao, df_amostra1_validacao"
      ],
      "metadata": {
        "id": "uQhMySS2PuKu"
      },
      "execution_count": 23,
      "outputs": []
    },
    {
      "cell_type": "markdown",
      "source": [
        "## 04. Tratamento dos dados"
      ],
      "metadata": {
        "id": "r9MCxcBOnc_-"
      }
    },
    {
      "cell_type": "markdown",
      "source": [
        "> Tratamento dos dados faltantes e espúrios; seleção de variáveis; criação de novas variáveis e suplementação da informações (se possível)"
      ],
      "metadata": {
        "id": "iNo7Y8JVoIUW"
      }
    },
    {
      "cell_type": "markdown",
      "source": [
        "### 4.1 Seleçao das features a serem utilizadas"
      ],
      "metadata": {
        "id": "TP_2bi0x8UAy"
      }
    },
    {
      "cell_type": "markdown",
      "source": [
        "Tendo em vista a alta dimensionalidade da base, o grupo selecionou um conjunto de variáveis consideradas mais relevantes para a determinação do momento de vida dos clientes, assim como um recorte de tempo para análise (6 meses):"
      ],
      "metadata": {
        "id": "pzYLEQtJHQBK"
      }
    },
    {
      "cell_type": "code",
      "source": [
        "# Selecionano colunas de interesse\n",
        "df_amostra_treino_final = df_amostra_treino_final[['anomes','num_cpf_cnpj','segmento','personas','vol_cash_in_total','vol_cg','vol_lis','vol_repasse','vol_giro','vol_reneg','vol_total_bacen','faturamento_anual','vol_vencido_bacen','status_receita federal','status_gs','tempo_de_vida_meses']]"
      ],
      "metadata": {
        "id": "CUqofdG18xnD"
      },
      "execution_count": 24,
      "outputs": []
    },
    {
      "cell_type": "code",
      "source": [
        "# Higienização de memória\n",
        "del df_amostra_treino"
      ],
      "metadata": {
        "id": "M5kkNcPsJ6FX"
      },
      "execution_count": 25,
      "outputs": []
    },
    {
      "cell_type": "markdown",
      "source": [
        "*(essas variáveis foram definidas após o merge dos conhecimentos de negócios, expertises e hipóteses sobre a explicabilidade do momento de vida das empresas)*"
      ],
      "metadata": {
        "id": "mRfcUZaV7bn1"
      }
    },
    {
      "cell_type": "markdown",
      "source": [
        "### 4.2 Tratamento dos tipos de dados"
      ],
      "metadata": {
        "id": "46bZW6YIklR1"
      }
    },
    {
      "cell_type": "markdown",
      "source": [
        "Confirmação dos tipos de dados adequados e tratamento, se necessário:"
      ],
      "metadata": {
        "id": "T3z_rplvHCHF"
      }
    },
    {
      "cell_type": "code",
      "source": [
        "# Define lista de valores possíveis para as variáveis segmento e Gs\n",
        "lista_segmentos = ['A', 'B', 'C', 'D', 'E']\n",
        "lista_status_gs = ['R1', 'R2', 'R3', 'R4', 'R5']"
      ],
      "metadata": {
        "id": "mmDlKwRHChei"
      },
      "execution_count": 26,
      "outputs": []
    },
    {
      "cell_type": "code",
      "source": [
        "# Define função para veirificação e tratamento das variáveis e seus tipos\n",
        "def fix_data_types(df: pd.DataFrame, lista_segmentos=lista_segmentos, lista_status_gs=lista_status_gs) -> pd.DataFrame:\n",
        "    \"\"\"\n",
        "    Garante os tipos de dados especificados e converte colunas quando necessário\n",
        "    \"\"\"\n",
        "    type_mapping = {\n",
        "        'num_cpf_cnpj': 'int64',\n",
        "        'segmento': 'category',\n",
        "        'personas': 'category',\n",
        "        'vol_cash_in_total': 'float64',\n",
        "        'vol_cg': 'float64',\n",
        "        'vol_lis': 'float64',\n",
        "        'vol_repasse': 'float64',\n",
        "        'vol_giro': 'float64',\n",
        "        'vol_reneg': 'float64',\n",
        "        'vol_total_bacen': 'float64',\n",
        "        'faturamento_anual': 'float64',\n",
        "        'vol_vencido_bacen': 'float64',\n",
        "        'status_receita federal': 'category',\n",
        "        'status_gs': 'category',\n",
        "        'tempo_de_vida_meses': 'int64'\n",
        "    }\n",
        "\n",
        "    # Conversão segura de tipos\n",
        "    for col, dtype in type_mapping.items():\n",
        "        if col in df.columns:\n",
        "            try:\n",
        "                if dtype == 'category':\n",
        "                    df[col] = df[col].astype('category')\n",
        "                else:\n",
        "                    df[col] = df[col].astype(dtype)\n",
        "            except Exception as e:\n",
        "                print(f\"Erro na conversão de {col} para {dtype}: {str(e)}\")\n",
        "                # Tratamento especial para CNPJ/CPF que podem ter sido lidos como float\n",
        "                if col == 'num_cpf_cnpj' and df[col].dtype == 'float64':\n",
        "                    df[col] = df[col].fillna(0).astype('int64').astype('str').str.replace('\\.0$', '', regex=True)\n",
        "\n",
        "    return df\n",
        "\n",
        "def handle_missing_values(df: pd.DataFrame) -> pd.DataFrame:\n",
        "    \"\"\"\n",
        "    Trata valores ausentes de forma diferenciada para numéricas e categóricas\n",
        "    \"\"\"\n",
        "    # Tratamento para numéricas\n",
        "    numeric_cols = df.select_dtypes(include=['int64', 'float64']).columns\n",
        "    for col in numeric_cols:\n",
        "        if df[col].isna().any():\n",
        "            # Usa mediana para não ser influenciado por outliers\n",
        "            median_value = df[col].median()\n",
        "            df[col] = df[col].fillna(median_value)\n",
        "\n",
        "    # Tratamento para categóricas\n",
        "    category_cols = df.select_dtypes(include=['category']).columns\n",
        "    for col in category_cols:\n",
        "        if df[col].isna().any():\n",
        "            # Usa moda (valor mais frequente)\n",
        "            mode_value = df[col].mode().values[0]\n",
        "            df[col] = df[col].fillna(mode_value)\n",
        "\n",
        "    return df\n",
        "\n",
        "def validate_data(df: pd.DataFrame) -> pd.DataFrame:\n",
        "    \"\"\"\n",
        "    Validações adicionais e transformações necessárias\n",
        "    \"\"\"\n",
        "    # 1. Verifica valores negativos em colunas que devem ser positivas\n",
        "    positive_columns = [\n",
        "        'vol_cash_in_total', 'vol_cg', 'vol_lis', 'vol_repasse',\n",
        "        'vol_giro', 'vol_reneg', 'vol_total_bacen', 'faturamento_anual',\n",
        "        'vol_vencido_bacen', 'tempo_de_vida_meses'\n",
        "    ]\n",
        "\n",
        "    for col in positive_columns:\n",
        "        if (df[col] < 0).any():\n",
        "            # print(f\"Valores negativos encontrados em {col}. Convertendo para absoluto...\")\n",
        "            # df[col] = df[col].abs()\n",
        "            print(f\"\\nValores negativos encontrados em {col}. Convertendo para zero...\\n\")\n",
        "            df[col] = 0\n",
        "\n",
        "    # 2. Validação de CNPJ/CPF\n",
        "    if df['num_cpf_cnpj'].astype('str').str.len().nunique() > 1: # Verifica se todos os cnpjs/cpfs possuem o mesmo tamanho em número de dígitos (como utilizamos cnpjs raiz, apontará incosistência, porém não configura-se um problema)\n",
        "        print(\"\\nAtenção: CPF/CNPJ com formatos inconsistentes!\\n\")\n",
        "\n",
        "    # 3. Valida categorias conhecidas\n",
        "    category_checks = {\n",
        "        'segmento': lista_segmentos,\n",
        "        'status_gs': lista_status_gs\n",
        "    }\n",
        "\n",
        "    for col, allowed in category_checks.items():\n",
        "        invalid = ~df[col].isin(allowed)\n",
        "        if invalid.any():\n",
        "            print(f\"\\nValores inválidos encontrados em {col}: {df[col][invalid].unique()}\\n\")\n",
        "            df[col] = df[col].replace(df[col][invalid].unique(), np.nan)\n",
        "\n",
        "    return handle_missing_values(df)  # Re-trata missing gerado pela validação\n",
        "\n",
        "# Uso das funções\n",
        "def process_pipeline(df: pd.DataFrame) -> pd.DataFrame:\n",
        "    df = fix_data_types(df)\n",
        "    df = handle_missing_values(df)\n",
        "    df = validate_data(df)\n",
        "    return df"
      ],
      "metadata": {
        "id": "meysGVsABICs"
      },
      "execution_count": 27,
      "outputs": []
    },
    {
      "cell_type": "code",
      "source": [
        "# Aplica função de validação e tratamento\n",
        "df_train_processed = process_pipeline(df_amostra_treino_final)\n",
        "\n",
        "# Verifica resultados\n",
        "print(\"\\n---- Informações do DataFrame ----\\n\")\n",
        "print(df_train_processed.info())\n",
        "print(\"\\n---- Quantidade de dados Ausentes ----\\n\")\n",
        "print(df_train_processed.isna().sum())"
      ],
      "metadata": {
        "colab": {
          "base_uri": "https://localhost:8080/"
        },
        "id": "uW0yGgiODVsr",
        "outputId": "ea10daba-8fc8-468c-9a8d-82437b83aee0"
      },
      "execution_count": 28,
      "outputs": [
        {
          "output_type": "stream",
          "name": "stderr",
          "text": [
            "<ipython-input-27-f53630c7880a>:31: SettingWithCopyWarning: \n",
            "A value is trying to be set on a copy of a slice from a DataFrame.\n",
            "Try using .loc[row_indexer,col_indexer] = value instead\n",
            "\n",
            "See the caveats in the documentation: https://pandas.pydata.org/pandas-docs/stable/user_guide/indexing.html#returning-a-view-versus-a-copy\n",
            "  df[col] = df[col].astype(dtype)\n"
          ]
        },
        {
          "output_type": "stream",
          "name": "stdout",
          "text": [
            "\n",
            "Atenção: CPF/CNPJ com formatos inconsistentes!\n",
            "\n",
            "\n",
            "---- Informações do DataFrame ----\n",
            "\n",
            "<class 'pandas.core.frame.DataFrame'>\n",
            "Index: 7551673 entries, 2853032 to 1319939\n",
            "Data columns (total 16 columns):\n",
            " #   Column                  Dtype   \n",
            "---  ------                  -----   \n",
            " 0   anomes                  object  \n",
            " 1   num_cpf_cnpj            int64   \n",
            " 2   segmento                category\n",
            " 3   personas                category\n",
            " 4   vol_cash_in_total       float64 \n",
            " 5   vol_cg                  float64 \n",
            " 6   vol_lis                 float64 \n",
            " 7   vol_repasse             float64 \n",
            " 8   vol_giro                float64 \n",
            " 9   vol_reneg               float64 \n",
            " 10  vol_total_bacen         float64 \n",
            " 11  faturamento_anual       float64 \n",
            " 12  vol_vencido_bacen       float64 \n",
            " 13  status_receita federal  category\n",
            " 14  status_gs               category\n",
            " 15  tempo_de_vida_meses     int64   \n",
            "dtypes: category(4), float64(9), int64(2), object(1)\n",
            "memory usage: 777.8+ MB\n",
            "None\n",
            "\n",
            "---- Quantidade de dados Ausentes ----\n",
            "\n",
            "anomes                    0\n",
            "num_cpf_cnpj              0\n",
            "segmento                  0\n",
            "personas                  0\n",
            "vol_cash_in_total         0\n",
            "vol_cg                    0\n",
            "vol_lis                   0\n",
            "vol_repasse               0\n",
            "vol_giro                  0\n",
            "vol_reneg                 0\n",
            "vol_total_bacen           0\n",
            "faturamento_anual         0\n",
            "vol_vencido_bacen         0\n",
            "status_receita federal    0\n",
            "status_gs                 0\n",
            "tempo_de_vida_meses       0\n",
            "dtype: int64\n"
          ]
        }
      ]
    },
    {
      "cell_type": "markdown",
      "source": [
        "Avaliando valores únicos das variáveis após o pré-processamento:"
      ],
      "metadata": {
        "id": "dcq88qO0GSCG"
      }
    },
    {
      "cell_type": "code",
      "source": [
        "# Define função de análise de valores únicos\n",
        "def analisar_valores_unicos(df, max_exemplos=10, mostrar_nulos=True):\n",
        "    \"\"\"\n",
        "    Imprime valores únicos de cada variável com informações detalhadas\n",
        "\n",
        "    Parâmetros:\n",
        "    df (pd.DataFrame): DataFrame a ser analisado\n",
        "    max_exemplos (int): Número máximo de valores únicos a exibir\n",
        "    mostrar_nulos (bool): Mostrar contagem de valores nulos\n",
        "    \"\"\"\n",
        "\n",
        "    def descrever_numericos(serie, max_exemplos):\n",
        "        \"\"\"Auxiliar para variáveis numéricas\"\"\"\n",
        "        if serie.nunique() <= max_exemplos:\n",
        "            valores = sorted(serie.dropna().unique())\n",
        "            print(f\"  Valores: {valores}\")\n",
        "        else:\n",
        "            stats = {\n",
        "                'Mín': serie.min(),\n",
        "                'Média': serie.mean(),\n",
        "                'Mediana': serie.median(),\n",
        "                'Máx': serie.max()\n",
        "            }\n",
        "            print(\"  Distribuição:\")\n",
        "            for k, v in stats.items():\n",
        "                print(f\"  - {k}: {v:.2f}\")\n",
        "\n",
        "    def descrever_categoricos(serie, max_exemplos):\n",
        "        \"\"\"Auxiliar para variáveis categóricas\"\"\"\n",
        "        contagem = serie.value_counts(dropna=False).head(max_exemplos)\n",
        "\n",
        "        print(f\"  Primeiros {max_exemplos} valores:\")\n",
        "        for valor, count in contagem.items():\n",
        "            freq = count/len(serie)\n",
        "            print(f\"  - '{valor}': {count:,} ({freq:.1%})\")\n",
        "\n",
        "        if len(contagem) < serie.nunique():\n",
        "            print(f\"  ... + {serie.nunique() - len(contagem)} outros valores\")\n",
        "\n",
        "    # Corpo principal da função\n",
        "    print(f\"\\n{'-'*50}\")\n",
        "    print(f\"Análise de valores únicos - {len(df.columns)} variáveis\")\n",
        "    print(f\"{'-'*50}\\n\")\n",
        "\n",
        "    for coluna in df.columns:\n",
        "        # Informações básicas\n",
        "        n_unicos = df[coluna].nunique()\n",
        "        tipo = df[coluna].dtype\n",
        "        n_nulos = df[coluna].isnull().sum()\n",
        "\n",
        "        # Cabeçalho da variável\n",
        "        print(f\"→ Variável: {coluna}\")\n",
        "        print(f\"  Tipo: {tipo} | Valores únicos: {n_unicos:,}\", end=\"\")\n",
        "\n",
        "        # Informações de nulos\n",
        "        if mostrar_nulos and n_nulos > 0:\n",
        "            print(f\" | Valores nulos: {n_nulos:,} ({n_nulos/len(df):.1%})\")\n",
        "        else:\n",
        "            print()\n",
        "\n",
        "        # Análise por tipo de dado\n",
        "        if n_unicos == 0:\n",
        "            print(\"  → Todos os valores ausentes!\")\n",
        "        elif pd.api.types.is_numeric_dtype(df[coluna]):\n",
        "            descrever_numericos(df[coluna], max_exemplos)\n",
        "        else:\n",
        "            descrever_categoricos(df[coluna], max_exemplos)\n",
        "\n",
        "        print(\"-\"*50)"
      ],
      "metadata": {
        "id": "UjGDiXr3GMNf"
      },
      "execution_count": 29,
      "outputs": []
    },
    {
      "cell_type": "code",
      "source": [
        "# Verifica valores únicos por variável\n",
        "analisar_valores_unicos(df_train_processed, max_exemplos=10)"
      ],
      "metadata": {
        "colab": {
          "base_uri": "https://localhost:8080/"
        },
        "id": "Hp5vI_JuGYJl",
        "outputId": "25d7d2a9-de44-4a2a-9cfe-5577b3665a0b"
      },
      "execution_count": 30,
      "outputs": [
        {
          "output_type": "stream",
          "name": "stdout",
          "text": [
            "\n",
            "--------------------------------------------------\n",
            "Análise de valores únicos - 16 variáveis\n",
            "--------------------------------------------------\n",
            "\n",
            "→ Variável: anomes\n",
            "  Tipo: object | Valores únicos: 6\n",
            "  Primeiros 10 valores:\n",
            "  - '2024-06-01 00:00:00': 1,323,000 (17.5%)\n",
            "  - '2024-07-01 00:00:00': 1,296,571 (17.2%)\n",
            "  - '2024-08-01 00:00:00': 1,270,632 (16.8%)\n",
            "  - '2024-09-01 00:00:00': 1,245,220 (16.5%)\n",
            "  - '2024-10-01 00:00:00': 1,220,328 (16.2%)\n",
            "  - '2024-11-01 00:00:00': 1,195,922 (15.8%)\n",
            "--------------------------------------------------\n"
          ]
        },
        {
          "output_type": "stream",
          "name": "stderr",
          "text": [
            "<ipython-input-29-8f67317e8078>:30: FutureWarning: The behavior of value_counts with object-dtype is deprecated. In a future version, this will *not* perform dtype inference on the resulting index. To retain the old behavior, use `result.index = result.index.infer_objects()`\n",
            "  contagem = serie.value_counts(dropna=False).head(max_exemplos)\n"
          ]
        },
        {
          "output_type": "stream",
          "name": "stdout",
          "text": [
            "→ Variável: num_cpf_cnpj\n",
            "  Tipo: int64 | Valores únicos: 1,323,000\n",
            "  Distribuição:\n",
            "  - Mín: 1.00\n",
            "  - Média: 749851.41\n",
            "  - Mediana: 749903.00\n",
            "  - Máx: 1499999.00\n",
            "--------------------------------------------------\n",
            "→ Variável: segmento\n",
            "  Tipo: category | Valores únicos: 5\n",
            "  Primeiros 10 valores:\n",
            "  - 'D': 1,886,643 (25.0%)\n",
            "  - 'C': 1,740,773 (23.1%)\n",
            "  - 'E': 1,659,024 (22.0%)\n",
            "  - 'A': 1,133,133 (15.0%)\n",
            "  - 'B': 1,132,100 (15.0%)\n",
            "--------------------------------------------------\n",
            "→ Variável: personas\n",
            "  Tipo: category | Valores únicos: 6\n",
            "  Primeiros 10 valores:\n",
            "  - 'P6': 1,263,197 (16.7%)\n",
            "  - 'P2': 1,260,980 (16.7%)\n",
            "  - 'P5': 1,258,905 (16.7%)\n",
            "  - 'P4': 1,257,833 (16.7%)\n",
            "  - 'P1': 1,256,557 (16.6%)\n",
            "  - 'P3': 1,254,201 (16.6%)\n",
            "--------------------------------------------------\n",
            "→ Variável: vol_cash_in_total\n",
            "  Tipo: float64 | Valores únicos: 7,551,670\n",
            "  Distribuição:\n",
            "  - Mín: 13265.51\n",
            "  - Média: 4279845.13\n",
            "  - Mediana: 3326282.22\n",
            "  - Máx: 90487741.45\n",
            "--------------------------------------------------\n",
            "→ Variável: vol_cg\n",
            "  Tipo: float64 | Valores únicos: 7,551,673\n",
            "  Distribuição:\n",
            "  - Mín: 0.02\n",
            "  - Média: 256593.45\n",
            "  - Mediana: 118770.65\n",
            "  - Máx: 20823545.34\n",
            "--------------------------------------------------\n",
            "→ Variável: vol_lis\n",
            "  Tipo: float64 | Valores únicos: 7,551,673\n",
            "  Distribuição:\n",
            "  - Mín: 0.02\n",
            "  - Média: 256687.80\n",
            "  - Mediana: 118850.41\n",
            "  - Máx: 14850611.86\n",
            "--------------------------------------------------\n",
            "→ Variável: vol_repasse\n",
            "  Tipo: float64 | Valores únicos: 7,551,673\n",
            "  Distribuição:\n",
            "  - Mín: 0.00\n",
            "  - Média: 256790.97\n",
            "  - Mediana: 118774.02\n",
            "  - Máx: 14690822.27\n",
            "--------------------------------------------------\n",
            "→ Variável: vol_giro\n",
            "  Tipo: float64 | Valores únicos: 7,551,673\n",
            "  Distribuição:\n",
            "  - Mín: 0.01\n",
            "  - Média: 256640.33\n",
            "  - Mediana: 118775.17\n",
            "  - Máx: 19060277.01\n",
            "--------------------------------------------------\n",
            "→ Variável: vol_reneg\n",
            "  Tipo: float64 | Valores únicos: 7,551,673\n",
            "  Distribuição:\n",
            "  - Mín: 0.01\n",
            "  - Média: 256989.75\n",
            "  - Mediana: 118787.48\n",
            "  - Máx: 14205823.87\n",
            "--------------------------------------------------\n",
            "→ Variável: vol_total_bacen\n",
            "  Tipo: float64 | Valores únicos: 7,551,673\n",
            "  Distribuição:\n",
            "  - Mín: 1507.81\n",
            "  - Média: 1283702.31\n",
            "  - Mediana: 894617.59\n",
            "  - Máx: 33050732.88\n",
            "--------------------------------------------------\n",
            "→ Variável: faturamento_anual\n",
            "  Tipo: float64 | Valores únicos: 1,323,000\n",
            "  Distribuição:\n",
            "  - Mín: 1000049.62\n",
            "  - Média: 45321690.92\n",
            "  - Mediana: 42653919.20\n",
            "  - Máx: 99999759.04\n",
            "--------------------------------------------------\n",
            "→ Variável: vol_vencido_bacen\n",
            "  Tipo: float64 | Valores únicos: 7,551,673\n",
            "  Distribuição:\n",
            "  - Mín: 0.01\n",
            "  - Média: 128401.93\n",
            "  - Mediana: 71046.75\n",
            "  - Máx: 5220787.49\n",
            "--------------------------------------------------\n",
            "→ Variável: status_receita federal\n",
            "  Tipo: category | Valores únicos: 5\n",
            "  Primeiros 10 valores:\n",
            "  - 'ativa': 4,533,438 (60.0%)\n",
            "  - 'inativa': 755,019 (10.0%)\n",
            "  - 'suspensa': 754,731 (10.0%)\n",
            "  - 'inapta': 754,296 (10.0%)\n",
            "  - 'baixada': 754,189 (10.0%)\n",
            "--------------------------------------------------\n",
            "→ Variável: status_gs\n",
            "  Tipo: category | Valores únicos: 4\n",
            "  Primeiros 10 valores:\n",
            "  - 'R4': 2,902,559 (38.4%)\n",
            "  - 'R5': 2,552,403 (33.8%)\n",
            "  - 'R3': 1,599,395 (21.2%)\n",
            "  - 'R2': 497,316 (6.6%)\n",
            "--------------------------------------------------\n",
            "→ Variável: tempo_de_vida_meses\n",
            "  Tipo: int64 | Valores únicos: 245\n",
            "  Distribuição:\n",
            "  - Mín: 2.00\n",
            "  - Média: 124.03\n",
            "  - Mediana: 124.00\n",
            "  - Máx: 246.00\n",
            "--------------------------------------------------\n"
          ]
        }
      ]
    },
    {
      "cell_type": "code",
      "source": [
        "# Transforma feature anomes de df_train_processed em datetime\n",
        "df_train_processed['anomes'] = pd.to_datetime(df_train_processed['anomes'], format='%Y%m')"
      ],
      "metadata": {
        "id": "NU-W6o-NkVJ5"
      },
      "execution_count": 31,
      "outputs": []
    },
    {
      "cell_type": "code",
      "source": [
        "# Exportando bases para Parquet\n",
        "df_train_processed.to_parquet('df_train_processed.parquet', partition_cols=['anomes'], engine='pyarrow', compression='snappy')\n",
        "print(f\"DataFrame 'df_train_processed' exportado como Parquet\")"
      ],
      "metadata": {
        "colab": {
          "base_uri": "https://localhost:8080/"
        },
        "id": "W9G68ybJSQ_y",
        "outputId": "1e71e072-a41d-4ebb-bd6c-ba0ea2082318"
      },
      "execution_count": 32,
      "outputs": [
        {
          "output_type": "stream",
          "name": "stdout",
          "text": [
            "DataFrame 'df_train_processed' exportado como Parquet\n"
          ]
        }
      ]
    },
    {
      "cell_type": "code",
      "source": [
        "# Higienização de memória\n",
        "del df_amostra_treino_final"
      ],
      "metadata": {
        "id": "94xeZipUQEkz"
      },
      "execution_count": 33,
      "outputs": []
    },
    {
      "cell_type": "markdown",
      "source": [
        "### 4.3. Engenharia de variáveis"
      ],
      "metadata": {
        "id": "ICH4aHeRkzmL"
      }
    },
    {
      "cell_type": "markdown",
      "source": [
        "> Agora, iremos criar as variáveis que acreditamos serem adequada para modelar o problema.\n",
        "\n",
        "*Sendo específico, acreditamos que o momento de vida das empreas ativas e em plena operação, seja menos especificado pelo volume atual de crédito/cash, ou mesmo pelo seu atual estado de qualquer outra informação, como rating de crédito (salve excesões de CNPJs inaptos/suspensos/baixados na Receita).*\n",
        "\n",
        "*Defendemos a tese que variações de volumes, posse, informações cadastrais, ect... sejam muito mais explicativas para o objetivo. Desse modo, seguiremos na contruções de variáveis que capturam variações*\n"
      ],
      "metadata": {
        "id": "MpewqAiEbhZE"
      }
    },
    {
      "cell_type": "markdown",
      "source": [
        "> Para simplificar a abodagem, optamos por utilizar um mês como referência (M0) e avaliar a variação do volume acumulado nos dois meses antecessores a ele com relação ao volume acumulado nos dois meses antecessores de M-3.\n",
        ">\n",
        ">Algebricamente, algo como:\n",
        ">\n",
        ">\n",
        "><center>$\\frac{(Vol. em M0 + Vol. em M-1 + Vol. em M-2)}{(Vol. em M-3 + Vol. em M-4 + Vol. em M-5)}$\n",
        "></center>\n",
        ">\n",
        "> Realizamos um procedimento semelhante para variáveis categóricas (especialmete Gs), porém utilizando a *moda* dos último três meses e avaliamos a variação ente M0 e M-3.\n",
        ">\n",
        ">Ps: Tínhamos um forte interesse em testar uma janela maior de acumulação, porém por motivos de tempo e histórico disponível, optamos por seguir assim."
      ],
      "metadata": {
        "id": "MltN0uezctiW"
      }
    },
    {
      "cell_type": "code",
      "source": [
        "# Define função de soma móvel com janela de 3M\n",
        "def soma_movel_3m(df, coluna='vol_cash_in_total'):\n",
        "    \"\"\"\n",
        "    Processa o DataFrame para calcular as somas dos últimos 3 meses a partir de M0 e M3.\n",
        "\n",
        "    Parâmetros:\n",
        "      df (pd.DataFrame): DataFrame de entrada contendo as colunas 'anomes', 'num_cpf_cnpj' e a coluna de interesse.\n",
        "      coluna (str): Nome da coluna utilizada para os cálculos (default: 'vol_cash_in_total').\n",
        "\n",
        "    Retorna:\n",
        "      pd.DataFrame: DataFrame contendo as colunas 'anomes', 'num_cpf_cnpj', '{coluna}_m0_3m' e '{coluna}_m3_3m'.\n",
        "    \"\"\"\n",
        "    # Cria uma cópia do DataFrame original\n",
        "    df = df.copy()\n",
        "\n",
        "    # Ordena o DataFrame pelos campos 'num_cpf_cnpj' e 'anomes'\n",
        "    df.sort_values(['num_cpf_cnpj', 'anomes'], inplace=True)\n",
        "\n",
        "    # Realiza o pivot da tabela, transformando os valores de 'anomes' em colunas\n",
        "    df_result = df[['anomes', 'num_cpf_cnpj', coluna]].pivot(index='num_cpf_cnpj', columns='anomes', values=coluna)\n",
        "\n",
        "    # Soma dos últimos 3 meses a partir de M0: soma dos 3 últimos valores (colunas)\n",
        "    df_result[f'{coluna}_m0_3m'] = df_result.iloc[:, -1] + df_result.iloc[:, -2] + df_result.iloc[:, -3]\n",
        "\n",
        "    # Soma dos 3 meses anteriores aos últimos 3 meses: soma dos valores das posições -5, -6 e -7\n",
        "    df_result[f'{coluna}_m3_3m'] = df_result.iloc[:, -5] + df_result.iloc[:, -6] + df_result.iloc[:, -7]\n",
        "\n",
        "    # Reseta o índice para transformar 'num_cpf_cnpj' em coluna\n",
        "    df_result.reset_index(inplace=True)\n",
        "\n",
        "    # Adiciona uma coluna 'anomes' com o valor correspondente à coluna de M0\n",
        "    df_result['anomes'] = df_result.columns[-3]\n",
        "\n",
        "    # Seleciona as colunas finais desejadas\n",
        "    df_return = df_result[['anomes', 'num_cpf_cnpj', f'{coluna}_m0_3m', f'{coluna}_m3_3m']]\n",
        "\n",
        "    return df_return\n"
      ],
      "metadata": {
        "id": "2coEDrs8z0HQ"
      },
      "execution_count": 34,
      "outputs": []
    },
    {
      "cell_type": "code",
      "source": [
        "# Criando variável de soma móvel dos últimos 3 meses para cada CNPJ (cash in)\n",
        "df_vol_cash_in_total_3m = soma_movel_3m(df=df_train_processed, coluna='vol_cash_in_total')\n",
        "\n",
        "# Criando variável de soma móvel dos últimos 3 meses para cada CNPJ (vol_cg)\n",
        "df_vol_cg_3m = soma_movel_3m(df=df_train_processed, coluna='vol_cg')\n",
        "\n",
        "# Criando variável de soma móvel dos últimos 3 meses para cada CNPJ (vol_lis)\n",
        "df_vol_lis_3m = soma_movel_3m(df=df_train_processed, coluna='vol_lis')\n",
        "\n",
        "# Criando variável de soma móvel dos últimos 3 meses para cada CNPJ (vol_repasse)\n",
        "df_vol_repasse_3m = soma_movel_3m(df=df_train_processed, coluna='vol_repasse')\n",
        "\n",
        "# Criando variável de soma móvel dos últimos 3 meses para cada CNPJ (vol_giro)\n",
        "df_vol_giro_3m = soma_movel_3m(df=df_train_processed, coluna='vol_giro')\n",
        "\n",
        "# Criando variável de soma móvel dos últimos 3 meses para cada CNPJ (vol_reneg)\n",
        "df_vol_reneg_3m = soma_movel_3m(df=df_train_processed, coluna='vol_reneg')\n",
        "\n",
        "# Criando variável de soma móvel dos últimos 3 meses para cada CNPJ (vol_total_bacen)\n",
        "df_vol_total_bacen_3m = soma_movel_3m(df=df_train_processed, coluna='vol_total_bacen')\n",
        "\n",
        "# Criando variável de soma móvel dos últimos 3 meses para cada CNPJ (faturamento_anual)\n",
        "df_faturamento_anual_3m = soma_movel_3m(df=df_train_processed, coluna='faturamento_anual')\n",
        "\n",
        "# Criando variável de soma móvel dos últimos 3 meses para cada CNPJ (vol_vencido_bacen)\n",
        "df_vol_vencido_bacen_3m = soma_movel_3m(df=df_train_processed, coluna='vol_vencido_bacen')"
      ],
      "metadata": {
        "id": "-9zt39Ws7XYZ"
      },
      "execution_count": 35,
      "outputs": []
    },
    {
      "cell_type": "markdown",
      "source": [
        "~~~~python\n",
        "# Define equivalência númerica dos Gs\n",
        "dict_gs = {' ' : 0 ,'G1': 1, 'G2+': 2, 'G2-': 3, 'G3+': 4, 'G3-' : 5, 'G4+' : 6, 'G4-' : 7}\n",
        "~~~~"
      ],
      "metadata": {
        "id": "_oFQXYO8DkoO"
      }
    },
    {
      "cell_type": "code",
      "source": [
        "# Define equivalência númerica dos Gs\n",
        "dict_gs = {' ' : 0 ,'R1': 1, 'R2': 2, 'R3': 3, 'R4': 4, 'R5' : 5}"
      ],
      "metadata": {
        "id": "Ujl7G9dMDKoh"
      },
      "execution_count": 36,
      "outputs": []
    },
    {
      "cell_type": "code",
      "source": [
        "# Define função para geração de feature de Gs\n",
        "def moda_status_gs_3m(df, dict_gs, coluna='status_gs'):\n",
        "    \"\"\"\n",
        "    Processa o DataFrame para calcular a moda dos últimos 3 meses a partir de M0 e dos 3 meses anteriores (M3),\n",
        "    considerando a tradução dos valores de 'status_gs' conforme o dicionário informado.\n",
        "\n",
        "    Parâmetros:\n",
        "      df (pd.DataFrame): DataFrame de entrada contendo as colunas 'anomes', 'num_cpf_cnpj' e a coluna de interesse.\n",
        "      dict_gs (dict): Dicionário para mapear os valores de 'status_gs' para números.\n",
        "      coluna (str): Nome da coluna a ser processada (default: 'status_gs').\n",
        "\n",
        "    Retorna:\n",
        "      pd.DataFrame: DataFrame com as colunas:\n",
        "         - 'num_cpf_cnpj'\n",
        "         - 'anomes': valor correspondente à última coluna pivot (M0)\n",
        "         - '{coluna}_m0_3m': moda dos valores dos 3 meses a partir de M0\n",
        "         - '{coluna}_m3_3m': moda dos valores dos 3 meses anteriores a M0 (M3)\n",
        "    \"\"\"\n",
        "\n",
        "    # Import stats a partir do scipy\n",
        "    from scipy import stats\n",
        "\n",
        "    # Cria uma cópia do DataFrame original\n",
        "    df = df.copy()\n",
        "\n",
        "    # Traduz Gs para números\n",
        "    df['status_gs'].replace(dict_gs, inplace=True)\n",
        "\n",
        "    # Ordena o DataFrame pelos campos 'num_cpf_cnpj' e 'anomes'\n",
        "    df.sort_values(['num_cpf_cnpj', 'anomes'], inplace=True)\n",
        "\n",
        "    # Realiza o pivot da tabela, transformando os valores de 'anomes' em colunas\n",
        "    df_result = df[['anomes', 'num_cpf_cnpj', coluna]].pivot(index='num_cpf_cnpj', columns='anomes', values=coluna)\n",
        "\n",
        "    # Moda dos últimos 3 meses a partir de M0\n",
        "    df_result[f'{coluna}_m0_3m'] = stats.mode(np.array([df_result.iloc[:, -1].values, df_result.iloc[:, -2].values, df_result.iloc[:, -3].values]).T, keepdims=False, axis=1).mode.astype(int)\n",
        "\n",
        "    # Moda dos últimos 3 meses a partir de M3 (M0 menos 3)\n",
        "    df_result[f'{coluna}_m3_3m'] = stats.mode(np.array([df_result.iloc[:, -5].values, df_result.iloc[:, -6].values, df_result.iloc[:, -7].values]).T, keepdims=False, axis=1).mode.astype(int)\n",
        "\n",
        "    # Reseta o índice para transformar 'num_cpf_cnpj' em coluna\n",
        "    df_result.reset_index(inplace=True)\n",
        "\n",
        "    # Adiciona uma coluna 'anomes' com o valor correspondente à coluna de M0\n",
        "    df_result['anomes'] = df_result.columns[-3]\n",
        "\n",
        "    # Seleciona as colunas finais desejadas\n",
        "    df_return = df_result[['anomes', 'num_cpf_cnpj', f'{coluna}_m0_3m', f'{coluna}_m3_3m']]\n",
        "\n",
        "    return df_return"
      ],
      "metadata": {
        "id": "YH0FYqUO9mNK"
      },
      "execution_count": 37,
      "outputs": []
    },
    {
      "cell_type": "code",
      "source": [
        "# Criando variável de moda dos últimos 3 meses para cada CNPJ (status_gs)\n",
        "df_status_gs_3m = moda_status_gs_3m(df=df_train_processed, dict_gs=dict_gs, coluna='status_gs')"
      ],
      "metadata": {
        "colab": {
          "base_uri": "https://localhost:8080/"
        },
        "collapsed": true,
        "id": "PXaYslnbN3lI",
        "outputId": "9ae3bc9c-8cbc-4adf-8773-2750aa18d2a2"
      },
      "execution_count": 38,
      "outputs": [
        {
          "output_type": "stream",
          "name": "stderr",
          "text": [
            "<ipython-input-37-e11c84bb0da6>:27: FutureWarning: A value is trying to be set on a copy of a DataFrame or Series through chained assignment using an inplace method.\n",
            "The behavior will change in pandas 3.0. This inplace method will never work because the intermediate object on which we are setting values always behaves as a copy.\n",
            "\n",
            "For example, when doing 'df[col].method(value, inplace=True)', try using 'df.method({col: value}, inplace=True)' or df[col] = df[col].method(value) instead, to perform the operation inplace on the original object.\n",
            "\n",
            "\n",
            "  df['status_gs'].replace(dict_gs, inplace=True)\n",
            "<ipython-input-37-e11c84bb0da6>:27: FutureWarning: Downcasting behavior in `replace` is deprecated and will be removed in a future version. To retain the old behavior, explicitly call `result.infer_objects(copy=False)`. To opt-in to the future behavior, set `pd.set_option('future.no_silent_downcasting', True)`\n",
            "  df['status_gs'].replace(dict_gs, inplace=True)\n",
            "<ipython-input-37-e11c84bb0da6>:27: FutureWarning: The behavior of Series.replace (and DataFrame.replace) with CategoricalDtype is deprecated. In a future version, replace will only be used for cases that preserve the categories. To change the categories, use ser.cat.rename_categories instead.\n",
            "  df['status_gs'].replace(dict_gs, inplace=True)\n",
            "<ipython-input-37-e11c84bb0da6>:36: RuntimeWarning: invalid value encountered in cast\n",
            "  df_result[f'{coluna}_m0_3m'] = stats.mode(np.array([df_result.iloc[:, -1].values, df_result.iloc[:, -2].values, df_result.iloc[:, -3].values]).T, keepdims=False, axis=1).mode.astype(int)\n",
            "<ipython-input-37-e11c84bb0da6>:39: RuntimeWarning: invalid value encountered in cast\n",
            "  df_result[f'{coluna}_m3_3m'] = stats.mode(np.array([df_result.iloc[:, -5].values, df_result.iloc[:, -6].values, df_result.iloc[:, -7].values]).T, keepdims=False, axis=1).mode.astype(int)\n"
          ]
        }
      ]
    },
    {
      "cell_type": "code",
      "source": [
        "# Criando flag de tempo de vida para modelagem\n",
        "df_tempo_de_vida_meses = df_train_processed[['anomes', 'num_cpf_cnpj', 'tempo_de_vida_meses']].query('anomes == @pd.to_datetime(\"2024-11-01\")').copy()\n",
        "df_tempo_de_vida_meses['flag_recem_fundado'] = ((df_tempo_de_vida_meses['tempo_de_vida_meses'] / 12) <= 1).astype(int)"
      ],
      "metadata": {
        "id": "m771TKcoUWAx"
      },
      "execution_count": 39,
      "outputs": []
    },
    {
      "cell_type": "code",
      "source": [
        "# Criando flag de empresa suspensa/inapta na receita\n",
        "df_status_inap_susp_bxd = df_train_processed[['anomes', 'num_cpf_cnpj', 'status_receita federal']].query('anomes == @pd.to_datetime(\"2024-11-01\")').copy()\n",
        "# Cria a flag de empresa inapta/suspensa/baixada\n",
        "df_status_inap_susp_bxd['flag_inapto_suspenso_baixado'] = (\n",
        "    (df_status_inap_susp_bxd['status_receita federal'] == 'inapta') |\n",
        "    (df_status_inap_susp_bxd['status_receita federal'] == 'suspensa') |\n",
        "    (df_status_inap_susp_bxd['status_receita federal'] == 'baixada')\n",
        ").astype(int)"
      ],
      "metadata": {
        "id": "HwBpCDqa2LVo"
      },
      "execution_count": 40,
      "outputs": []
    },
    {
      "cell_type": "code",
      "source": [
        "# Criando flag de empresa inativa na receita\n",
        "df_status_inativo = df_train_processed[['anomes', 'num_cpf_cnpj', 'status_receita federal']].query('anomes == @pd.to_datetime(\"2024-11-01\")').copy()\n",
        "# Cria a flag de empresa inativa\n",
        "df_status_inativo['flag_inativo'] = (df_status_inativo['status_receita federal'] == 'inativa').astype(int)\n",
        "# Dropando coluna para não haver duplicidade no join\n",
        "df_status_inativo.drop('status_receita federal', axis=1, inplace=True)"
      ],
      "metadata": {
        "id": "sgWqlHWn50rv"
      },
      "execution_count": 41,
      "outputs": []
    },
    {
      "cell_type": "markdown",
      "source": [
        "Após criar as features para modelagem, vamos uni-las em uma única tabela:"
      ],
      "metadata": {
        "id": "TM-Y15ATbaxJ"
      }
    },
    {
      "cell_type": "code",
      "source": [
        "# Função para realizar o join de múltiplos DataFrames\n",
        "def join_multiplos_dataframes(dataframes, on, how='outer'):\n",
        "    \"\"\"\n",
        "    Realiza o join de múltiplos DataFrames com base em uma coluna-chave.\n",
        "\n",
        "    Parâmetros:\n",
        "    dataframes (list): Lista de DataFrames a serem unidos.\n",
        "    on (str): Nome da coluna-chave para o join.\n",
        "    how (str): Tipo de join ('inner', 'outer', 'left', 'right').\n",
        "\n",
        "    Retorno:\n",
        "    pd.DataFrame: DataFrame resultante do join.\n",
        "    \"\"\"\n",
        "    import pandas as pd\n",
        "    from functools import reduce\n",
        "\n",
        "    return reduce(lambda left, right: pd.merge(left, right, on=on, how=how), dataframes)"
      ],
      "metadata": {
        "id": "sUGKU6afWdCi"
      },
      "execution_count": 42,
      "outputs": []
    },
    {
      "cell_type": "code",
      "source": [
        "# Lista de dataframes para realizar o join\n",
        "dataframes = [\n",
        "  df_train_processed[['anomes', 'num_cpf_cnpj', 'segmento', 'personas']].query('anomes == @pd.to_datetime(\"2024-11-01\")'),\n",
        "  df_vol_cash_in_total_3m,\n",
        "  df_vol_cg_3m,\n",
        "  df_vol_lis_3m,\n",
        "  df_vol_repasse_3m,\n",
        "  df_vol_giro_3m,\n",
        "  df_vol_reneg_3m,\n",
        "  df_vol_total_bacen_3m,\n",
        "  df_faturamento_anual_3m,\n",
        "  df_vol_vencido_bacen_3m,\n",
        "  df_status_gs_3m,\n",
        "  df_tempo_de_vida_meses,\n",
        "  df_status_inap_susp_bxd,\n",
        "  df_status_inativo]\n",
        "\n",
        "# Gerando base final com feature tratadas\n",
        "df_train = join_multiplos_dataframes(dataframes, on=['anomes', 'num_cpf_cnpj'], how='left')"
      ],
      "metadata": {
        "id": "99V8BMKwYllp"
      },
      "execution_count": 43,
      "outputs": []
    },
    {
      "cell_type": "code",
      "source": [
        "# Visualizando df_train\n",
        "display(df_train.head())\n",
        "print('\\n')\n",
        "display(f'Dimensões: {df_train.shape}')"
      ],
      "metadata": {
        "colab": {
          "base_uri": "https://localhost:8080/",
          "height": 383
        },
        "id": "LalNK4Y8Y5nH",
        "outputId": "4b5ab5ab-f72b-4fab-d2e2-2dadd26255c3"
      },
      "execution_count": 44,
      "outputs": [
        {
          "output_type": "display_data",
          "data": {
            "text/plain": [
              "      anomes  num_cpf_cnpj segmento personas  vol_cash_in_total_m0_3m  \\\n",
              "0 2024-11-01        618566        C       P6              12003064.01   \n",
              "1 2024-11-01       1226834        E       P4               2834094.49   \n",
              "2 2024-11-01        699952        D       P2               6401218.75   \n",
              "3 2024-11-01        189372        D       P5               8396965.76   \n",
              "4 2024-11-01        761120        A       P4              42296831.04   \n",
              "\n",
              "   vol_cash_in_total_m3_3m  vol_cg_m0_3m  vol_cg_m3_3m  vol_lis_m0_3m  \\\n",
              "0              11784477.91    1049629.98    1008750.29      816241.29   \n",
              "1               2109984.35     275127.32     178759.29       61943.20   \n",
              "2               9283276.22     198856.28     979384.40      157921.04   \n",
              "3               7714159.83      88921.88     451325.87      569814.89   \n",
              "4              34566119.16    1949819.85    2122595.10     1301772.45   \n",
              "\n",
              "   vol_lis_m3_3m  vol_repasse_m0_3m  vol_repasse_m3_3m  vol_giro_m0_3m  \\\n",
              "0     1801830.86          754413.82          244967.95      1540264.37   \n",
              "1      194753.08          139238.55           66030.49       128896.89   \n",
              "2     1119136.75           82934.25          514717.64       496699.31   \n",
              "3      648763.02          237631.14          469543.40       320666.29   \n",
              "4     1447540.53         3515763.51          719162.68      2205623.54   \n",
              "\n",
              "   vol_giro_m3_3m  vol_reneg_m0_3m  vol_reneg_m3_3m  vol_total_bacen_m0_3m  \\\n",
              "0       901410.29        431447.74        577083.15             4591997.20   \n",
              "1       258513.73         49073.52         78760.13              654279.48   \n",
              "2       345228.15        243875.79        682047.51             1180286.67   \n",
              "3       141818.51       1084960.93        146647.90             2301995.13   \n",
              "4      3114322.18       2582370.64       1273176.23            11555349.99   \n",
              "\n",
              "   vol_total_bacen_m3_3m  faturamento_anual_m0_3m  faturamento_anual_m3_3m  \\\n",
              "0             4534042.54             132647645.31             132647645.31   \n",
              "1              776816.71              26316117.49              26316117.49   \n",
              "2             3640514.45              83813838.58              83813838.58   \n",
              "3             1858098.69              95159755.73              95159755.73   \n",
              "4             8676796.72             266079114.06             266079114.06   \n",
              "\n",
              "   vol_vencido_bacen_m0_3m  vol_vencido_bacen_m3_3m  status_gs_m0_3m  \\\n",
              "0                294457.43                231664.76                4   \n",
              "1                 66922.62                135479.37                3   \n",
              "2                 33552.67                468728.93                2   \n",
              "3                238051.80                101845.96                5   \n",
              "4               1253303.63                281508.19                4   \n",
              "\n",
              "   status_gs_m3_3m  tempo_de_vida_meses  flag_recem_fundado  \\\n",
              "0                5                  210                   0   \n",
              "1                5                   65                   0   \n",
              "2                5                  169                   0   \n",
              "3                4                   26                   0   \n",
              "4                4                  141                   0   \n",
              "\n",
              "  status_receita federal  flag_inapto_suspenso_baixado  flag_inativo  \n",
              "0                  ativa                             0             0  \n",
              "1                  ativa                             0             0  \n",
              "2               suspensa                             1             0  \n",
              "3                  ativa                             0             0  \n",
              "4                  ativa                             0             0  "
            ],
            "text/html": [
              "\n",
              "  <div id=\"df-c0d64e52-49e6-4707-bedb-d08bc1bf9156\" class=\"colab-df-container\">\n",
              "    <div>\n",
              "<style scoped>\n",
              "    .dataframe tbody tr th:only-of-type {\n",
              "        vertical-align: middle;\n",
              "    }\n",
              "\n",
              "    .dataframe tbody tr th {\n",
              "        vertical-align: top;\n",
              "    }\n",
              "\n",
              "    .dataframe thead th {\n",
              "        text-align: right;\n",
              "    }\n",
              "</style>\n",
              "<table border=\"1\" class=\"dataframe\">\n",
              "  <thead>\n",
              "    <tr style=\"text-align: right;\">\n",
              "      <th></th>\n",
              "      <th>anomes</th>\n",
              "      <th>num_cpf_cnpj</th>\n",
              "      <th>segmento</th>\n",
              "      <th>personas</th>\n",
              "      <th>vol_cash_in_total_m0_3m</th>\n",
              "      <th>vol_cash_in_total_m3_3m</th>\n",
              "      <th>vol_cg_m0_3m</th>\n",
              "      <th>vol_cg_m3_3m</th>\n",
              "      <th>vol_lis_m0_3m</th>\n",
              "      <th>vol_lis_m3_3m</th>\n",
              "      <th>vol_repasse_m0_3m</th>\n",
              "      <th>vol_repasse_m3_3m</th>\n",
              "      <th>vol_giro_m0_3m</th>\n",
              "      <th>vol_giro_m3_3m</th>\n",
              "      <th>vol_reneg_m0_3m</th>\n",
              "      <th>vol_reneg_m3_3m</th>\n",
              "      <th>vol_total_bacen_m0_3m</th>\n",
              "      <th>vol_total_bacen_m3_3m</th>\n",
              "      <th>faturamento_anual_m0_3m</th>\n",
              "      <th>faturamento_anual_m3_3m</th>\n",
              "      <th>vol_vencido_bacen_m0_3m</th>\n",
              "      <th>vol_vencido_bacen_m3_3m</th>\n",
              "      <th>status_gs_m0_3m</th>\n",
              "      <th>status_gs_m3_3m</th>\n",
              "      <th>tempo_de_vida_meses</th>\n",
              "      <th>flag_recem_fundado</th>\n",
              "      <th>status_receita federal</th>\n",
              "      <th>flag_inapto_suspenso_baixado</th>\n",
              "      <th>flag_inativo</th>\n",
              "    </tr>\n",
              "  </thead>\n",
              "  <tbody>\n",
              "    <tr>\n",
              "      <th>0</th>\n",
              "      <td>2024-11-01</td>\n",
              "      <td>618566</td>\n",
              "      <td>C</td>\n",
              "      <td>P6</td>\n",
              "      <td>12003064.01</td>\n",
              "      <td>11784477.91</td>\n",
              "      <td>1049629.98</td>\n",
              "      <td>1008750.29</td>\n",
              "      <td>816241.29</td>\n",
              "      <td>1801830.86</td>\n",
              "      <td>754413.82</td>\n",
              "      <td>244967.95</td>\n",
              "      <td>1540264.37</td>\n",
              "      <td>901410.29</td>\n",
              "      <td>431447.74</td>\n",
              "      <td>577083.15</td>\n",
              "      <td>4591997.20</td>\n",
              "      <td>4534042.54</td>\n",
              "      <td>132647645.31</td>\n",
              "      <td>132647645.31</td>\n",
              "      <td>294457.43</td>\n",
              "      <td>231664.76</td>\n",
              "      <td>4</td>\n",
              "      <td>5</td>\n",
              "      <td>210</td>\n",
              "      <td>0</td>\n",
              "      <td>ativa</td>\n",
              "      <td>0</td>\n",
              "      <td>0</td>\n",
              "    </tr>\n",
              "    <tr>\n",
              "      <th>1</th>\n",
              "      <td>2024-11-01</td>\n",
              "      <td>1226834</td>\n",
              "      <td>E</td>\n",
              "      <td>P4</td>\n",
              "      <td>2834094.49</td>\n",
              "      <td>2109984.35</td>\n",
              "      <td>275127.32</td>\n",
              "      <td>178759.29</td>\n",
              "      <td>61943.20</td>\n",
              "      <td>194753.08</td>\n",
              "      <td>139238.55</td>\n",
              "      <td>66030.49</td>\n",
              "      <td>128896.89</td>\n",
              "      <td>258513.73</td>\n",
              "      <td>49073.52</td>\n",
              "      <td>78760.13</td>\n",
              "      <td>654279.48</td>\n",
              "      <td>776816.71</td>\n",
              "      <td>26316117.49</td>\n",
              "      <td>26316117.49</td>\n",
              "      <td>66922.62</td>\n",
              "      <td>135479.37</td>\n",
              "      <td>3</td>\n",
              "      <td>5</td>\n",
              "      <td>65</td>\n",
              "      <td>0</td>\n",
              "      <td>ativa</td>\n",
              "      <td>0</td>\n",
              "      <td>0</td>\n",
              "    </tr>\n",
              "    <tr>\n",
              "      <th>2</th>\n",
              "      <td>2024-11-01</td>\n",
              "      <td>699952</td>\n",
              "      <td>D</td>\n",
              "      <td>P2</td>\n",
              "      <td>6401218.75</td>\n",
              "      <td>9283276.22</td>\n",
              "      <td>198856.28</td>\n",
              "      <td>979384.40</td>\n",
              "      <td>157921.04</td>\n",
              "      <td>1119136.75</td>\n",
              "      <td>82934.25</td>\n",
              "      <td>514717.64</td>\n",
              "      <td>496699.31</td>\n",
              "      <td>345228.15</td>\n",
              "      <td>243875.79</td>\n",
              "      <td>682047.51</td>\n",
              "      <td>1180286.67</td>\n",
              "      <td>3640514.45</td>\n",
              "      <td>83813838.58</td>\n",
              "      <td>83813838.58</td>\n",
              "      <td>33552.67</td>\n",
              "      <td>468728.93</td>\n",
              "      <td>2</td>\n",
              "      <td>5</td>\n",
              "      <td>169</td>\n",
              "      <td>0</td>\n",
              "      <td>suspensa</td>\n",
              "      <td>1</td>\n",
              "      <td>0</td>\n",
              "    </tr>\n",
              "    <tr>\n",
              "      <th>3</th>\n",
              "      <td>2024-11-01</td>\n",
              "      <td>189372</td>\n",
              "      <td>D</td>\n",
              "      <td>P5</td>\n",
              "      <td>8396965.76</td>\n",
              "      <td>7714159.83</td>\n",
              "      <td>88921.88</td>\n",
              "      <td>451325.87</td>\n",
              "      <td>569814.89</td>\n",
              "      <td>648763.02</td>\n",
              "      <td>237631.14</td>\n",
              "      <td>469543.40</td>\n",
              "      <td>320666.29</td>\n",
              "      <td>141818.51</td>\n",
              "      <td>1084960.93</td>\n",
              "      <td>146647.90</td>\n",
              "      <td>2301995.13</td>\n",
              "      <td>1858098.69</td>\n",
              "      <td>95159755.73</td>\n",
              "      <td>95159755.73</td>\n",
              "      <td>238051.80</td>\n",
              "      <td>101845.96</td>\n",
              "      <td>5</td>\n",
              "      <td>4</td>\n",
              "      <td>26</td>\n",
              "      <td>0</td>\n",
              "      <td>ativa</td>\n",
              "      <td>0</td>\n",
              "      <td>0</td>\n",
              "    </tr>\n",
              "    <tr>\n",
              "      <th>4</th>\n",
              "      <td>2024-11-01</td>\n",
              "      <td>761120</td>\n",
              "      <td>A</td>\n",
              "      <td>P4</td>\n",
              "      <td>42296831.04</td>\n",
              "      <td>34566119.16</td>\n",
              "      <td>1949819.85</td>\n",
              "      <td>2122595.10</td>\n",
              "      <td>1301772.45</td>\n",
              "      <td>1447540.53</td>\n",
              "      <td>3515763.51</td>\n",
              "      <td>719162.68</td>\n",
              "      <td>2205623.54</td>\n",
              "      <td>3114322.18</td>\n",
              "      <td>2582370.64</td>\n",
              "      <td>1273176.23</td>\n",
              "      <td>11555349.99</td>\n",
              "      <td>8676796.72</td>\n",
              "      <td>266079114.06</td>\n",
              "      <td>266079114.06</td>\n",
              "      <td>1253303.63</td>\n",
              "      <td>281508.19</td>\n",
              "      <td>4</td>\n",
              "      <td>4</td>\n",
              "      <td>141</td>\n",
              "      <td>0</td>\n",
              "      <td>ativa</td>\n",
              "      <td>0</td>\n",
              "      <td>0</td>\n",
              "    </tr>\n",
              "  </tbody>\n",
              "</table>\n",
              "</div>\n",
              "    <div class=\"colab-df-buttons\">\n",
              "\n",
              "  <div class=\"colab-df-container\">\n",
              "    <button class=\"colab-df-convert\" onclick=\"convertToInteractive('df-c0d64e52-49e6-4707-bedb-d08bc1bf9156')\"\n",
              "            title=\"Convert this dataframe to an interactive table.\"\n",
              "            style=\"display:none;\">\n",
              "\n",
              "  <svg xmlns=\"http://www.w3.org/2000/svg\" height=\"24px\" viewBox=\"0 -960 960 960\">\n",
              "    <path d=\"M120-120v-720h720v720H120Zm60-500h600v-160H180v160Zm220 220h160v-160H400v160Zm0 220h160v-160H400v160ZM180-400h160v-160H180v160Zm440 0h160v-160H620v160ZM180-180h160v-160H180v160Zm440 0h160v-160H620v160Z\"/>\n",
              "  </svg>\n",
              "    </button>\n",
              "\n",
              "  <style>\n",
              "    .colab-df-container {\n",
              "      display:flex;\n",
              "      gap: 12px;\n",
              "    }\n",
              "\n",
              "    .colab-df-convert {\n",
              "      background-color: #E8F0FE;\n",
              "      border: none;\n",
              "      border-radius: 50%;\n",
              "      cursor: pointer;\n",
              "      display: none;\n",
              "      fill: #1967D2;\n",
              "      height: 32px;\n",
              "      padding: 0 0 0 0;\n",
              "      width: 32px;\n",
              "    }\n",
              "\n",
              "    .colab-df-convert:hover {\n",
              "      background-color: #E2EBFA;\n",
              "      box-shadow: 0px 1px 2px rgba(60, 64, 67, 0.3), 0px 1px 3px 1px rgba(60, 64, 67, 0.15);\n",
              "      fill: #174EA6;\n",
              "    }\n",
              "\n",
              "    .colab-df-buttons div {\n",
              "      margin-bottom: 4px;\n",
              "    }\n",
              "\n",
              "    [theme=dark] .colab-df-convert {\n",
              "      background-color: #3B4455;\n",
              "      fill: #D2E3FC;\n",
              "    }\n",
              "\n",
              "    [theme=dark] .colab-df-convert:hover {\n",
              "      background-color: #434B5C;\n",
              "      box-shadow: 0px 1px 3px 1px rgba(0, 0, 0, 0.15);\n",
              "      filter: drop-shadow(0px 1px 2px rgba(0, 0, 0, 0.3));\n",
              "      fill: #FFFFFF;\n",
              "    }\n",
              "  </style>\n",
              "\n",
              "    <script>\n",
              "      const buttonEl =\n",
              "        document.querySelector('#df-c0d64e52-49e6-4707-bedb-d08bc1bf9156 button.colab-df-convert');\n",
              "      buttonEl.style.display =\n",
              "        google.colab.kernel.accessAllowed ? 'block' : 'none';\n",
              "\n",
              "      async function convertToInteractive(key) {\n",
              "        const element = document.querySelector('#df-c0d64e52-49e6-4707-bedb-d08bc1bf9156');\n",
              "        const dataTable =\n",
              "          await google.colab.kernel.invokeFunction('convertToInteractive',\n",
              "                                                    [key], {});\n",
              "        if (!dataTable) return;\n",
              "\n",
              "        const docLinkHtml = 'Like what you see? Visit the ' +\n",
              "          '<a target=\"_blank\" href=https://colab.research.google.com/notebooks/data_table.ipynb>data table notebook</a>'\n",
              "          + ' to learn more about interactive tables.';\n",
              "        element.innerHTML = '';\n",
              "        dataTable['output_type'] = 'display_data';\n",
              "        await google.colab.output.renderOutput(dataTable, element);\n",
              "        const docLink = document.createElement('div');\n",
              "        docLink.innerHTML = docLinkHtml;\n",
              "        element.appendChild(docLink);\n",
              "      }\n",
              "    </script>\n",
              "  </div>\n",
              "\n",
              "\n",
              "<div id=\"df-f91efaa8-3a63-4a4f-bfab-0a040cac9489\">\n",
              "  <button class=\"colab-df-quickchart\" onclick=\"quickchart('df-f91efaa8-3a63-4a4f-bfab-0a040cac9489')\"\n",
              "            title=\"Suggest charts\"\n",
              "            style=\"display:none;\">\n",
              "\n",
              "<svg xmlns=\"http://www.w3.org/2000/svg\" height=\"24px\"viewBox=\"0 0 24 24\"\n",
              "     width=\"24px\">\n",
              "    <g>\n",
              "        <path d=\"M19 3H5c-1.1 0-2 .9-2 2v14c0 1.1.9 2 2 2h14c1.1 0 2-.9 2-2V5c0-1.1-.9-2-2-2zM9 17H7v-7h2v7zm4 0h-2V7h2v10zm4 0h-2v-4h2v4z\"/>\n",
              "    </g>\n",
              "</svg>\n",
              "  </button>\n",
              "\n",
              "<style>\n",
              "  .colab-df-quickchart {\n",
              "      --bg-color: #E8F0FE;\n",
              "      --fill-color: #1967D2;\n",
              "      --hover-bg-color: #E2EBFA;\n",
              "      --hover-fill-color: #174EA6;\n",
              "      --disabled-fill-color: #AAA;\n",
              "      --disabled-bg-color: #DDD;\n",
              "  }\n",
              "\n",
              "  [theme=dark] .colab-df-quickchart {\n",
              "      --bg-color: #3B4455;\n",
              "      --fill-color: #D2E3FC;\n",
              "      --hover-bg-color: #434B5C;\n",
              "      --hover-fill-color: #FFFFFF;\n",
              "      --disabled-bg-color: #3B4455;\n",
              "      --disabled-fill-color: #666;\n",
              "  }\n",
              "\n",
              "  .colab-df-quickchart {\n",
              "    background-color: var(--bg-color);\n",
              "    border: none;\n",
              "    border-radius: 50%;\n",
              "    cursor: pointer;\n",
              "    display: none;\n",
              "    fill: var(--fill-color);\n",
              "    height: 32px;\n",
              "    padding: 0;\n",
              "    width: 32px;\n",
              "  }\n",
              "\n",
              "  .colab-df-quickchart:hover {\n",
              "    background-color: var(--hover-bg-color);\n",
              "    box-shadow: 0 1px 2px rgba(60, 64, 67, 0.3), 0 1px 3px 1px rgba(60, 64, 67, 0.15);\n",
              "    fill: var(--button-hover-fill-color);\n",
              "  }\n",
              "\n",
              "  .colab-df-quickchart-complete:disabled,\n",
              "  .colab-df-quickchart-complete:disabled:hover {\n",
              "    background-color: var(--disabled-bg-color);\n",
              "    fill: var(--disabled-fill-color);\n",
              "    box-shadow: none;\n",
              "  }\n",
              "\n",
              "  .colab-df-spinner {\n",
              "    border: 2px solid var(--fill-color);\n",
              "    border-color: transparent;\n",
              "    border-bottom-color: var(--fill-color);\n",
              "    animation:\n",
              "      spin 1s steps(1) infinite;\n",
              "  }\n",
              "\n",
              "  @keyframes spin {\n",
              "    0% {\n",
              "      border-color: transparent;\n",
              "      border-bottom-color: var(--fill-color);\n",
              "      border-left-color: var(--fill-color);\n",
              "    }\n",
              "    20% {\n",
              "      border-color: transparent;\n",
              "      border-left-color: var(--fill-color);\n",
              "      border-top-color: var(--fill-color);\n",
              "    }\n",
              "    30% {\n",
              "      border-color: transparent;\n",
              "      border-left-color: var(--fill-color);\n",
              "      border-top-color: var(--fill-color);\n",
              "      border-right-color: var(--fill-color);\n",
              "    }\n",
              "    40% {\n",
              "      border-color: transparent;\n",
              "      border-right-color: var(--fill-color);\n",
              "      border-top-color: var(--fill-color);\n",
              "    }\n",
              "    60% {\n",
              "      border-color: transparent;\n",
              "      border-right-color: var(--fill-color);\n",
              "    }\n",
              "    80% {\n",
              "      border-color: transparent;\n",
              "      border-right-color: var(--fill-color);\n",
              "      border-bottom-color: var(--fill-color);\n",
              "    }\n",
              "    90% {\n",
              "      border-color: transparent;\n",
              "      border-bottom-color: var(--fill-color);\n",
              "    }\n",
              "  }\n",
              "</style>\n",
              "\n",
              "  <script>\n",
              "    async function quickchart(key) {\n",
              "      const quickchartButtonEl =\n",
              "        document.querySelector('#' + key + ' button');\n",
              "      quickchartButtonEl.disabled = true;  // To prevent multiple clicks.\n",
              "      quickchartButtonEl.classList.add('colab-df-spinner');\n",
              "      try {\n",
              "        const charts = await google.colab.kernel.invokeFunction(\n",
              "            'suggestCharts', [key], {});\n",
              "      } catch (error) {\n",
              "        console.error('Error during call to suggestCharts:', error);\n",
              "      }\n",
              "      quickchartButtonEl.classList.remove('colab-df-spinner');\n",
              "      quickchartButtonEl.classList.add('colab-df-quickchart-complete');\n",
              "    }\n",
              "    (() => {\n",
              "      let quickchartButtonEl =\n",
              "        document.querySelector('#df-f91efaa8-3a63-4a4f-bfab-0a040cac9489 button');\n",
              "      quickchartButtonEl.style.display =\n",
              "        google.colab.kernel.accessAllowed ? 'block' : 'none';\n",
              "    })();\n",
              "  </script>\n",
              "</div>\n",
              "\n",
              "    </div>\n",
              "  </div>\n"
            ],
            "application/vnd.google.colaboratory.intrinsic+json": {
              "type": "dataframe"
            }
          },
          "metadata": {}
        },
        {
          "output_type": "stream",
          "name": "stdout",
          "text": [
            "\n",
            "\n"
          ]
        },
        {
          "output_type": "display_data",
          "data": {
            "text/plain": [
              "'Dimensões: (1195922, 29)'"
            ],
            "application/vnd.google.colaboratory.intrinsic+json": {
              "type": "string"
            }
          },
          "metadata": {}
        }
      ]
    },
    {
      "cell_type": "code",
      "source": [
        "# Exportando bases para Parquet\n",
        "df_train.to_parquet('df_train.parquet', engine='pyarrow', compression='snappy')\n",
        "print(f\"DataFrame 'df_train' exportado como Parquet\")"
      ],
      "metadata": {
        "colab": {
          "base_uri": "https://localhost:8080/"
        },
        "id": "Gy1ylJ92ZuzZ",
        "outputId": "86aa5e81-1a34-457f-e100-40bcd1d23781"
      },
      "execution_count": 45,
      "outputs": [
        {
          "output_type": "stream",
          "name": "stdout",
          "text": [
            "DataFrame 'df_train' exportado como Parquet\n"
          ]
        }
      ]
    },
    {
      "cell_type": "code",
      "source": [
        "# Higienização de memória\n",
        "del df_train_processed"
      ],
      "metadata": {
        "id": "nvt9G_l-Sv2h"
      },
      "execution_count": 46,
      "outputs": []
    },
    {
      "cell_type": "markdown",
      "source": [
        "> **OBS:** Tempo de execução do notebook até esta etapa: ~10min"
      ],
      "metadata": {
        "id": "lgwaxa05v3tS"
      }
    },
    {
      "cell_type": "markdown",
      "source": [
        "## 05. Classificação Analítica (Heurística)\n",
        "\n"
      ],
      "metadata": {
        "id": "TkPEa1ftik4V"
      }
    },
    {
      "cell_type": "markdown",
      "source": [
        "> Aplicação de regras definidas em grupos, após a consolidação de várias experiências de negócios. O objetivo é classificar o momento de vida com base em 3 principais variáveis que apresentem evidências factuais do momento de vida: Cash-In, Faturamento Eleito e Status G."
      ],
      "metadata": {
        "id": "XlCu6e6KmsRC"
      }
    },
    {
      "cell_type": "markdown",
      "source": [
        "Tendo em vista que ainda temos muitas variáveis, iremos priorizar algumas variáves: Cash-In, Gs, tempo de vida e status da receita federal, selecinando apenas elas.\n",
        "\n",
        "*(posteriormente, o objetivo é identificar a importância das demais features com um modelo de árvore, por exemplo)*"
      ],
      "metadata": {
        "id": "mh10ipSb_U9O"
      }
    },
    {
      "cell_type": "code",
      "source": [
        "# Especificação das variáveis que serão avaliadas\n",
        "df = df_train[['anomes','num_cpf_cnpj','segmento','personas','vol_cash_in_total_m0_3m','vol_cash_in_total_m3_3m',\n",
        "      'status_gs_m0_3m','status_gs_m3_3m','tempo_de_vida_meses','flag_recem_fundado','status_receita federal',\n",
        "      'flag_inapto_suspenso_baixado','flag_inativo']].copy()"
      ],
      "metadata": {
        "id": "JYIpdOPkhKan"
      },
      "execution_count": 48,
      "outputs": []
    },
    {
      "cell_type": "markdown",
      "source": [
        "*(Daremos poder maior de decisão ao Cash-In, visto que é uma informação aferida, mais tempestiva e, idealmente, deveria ter uma forte correlação com o Faturamento da empresa)*"
      ],
      "metadata": {
        "id": "zF5xftLGhMZ4"
      }
    },
    {
      "cell_type": "code",
      "source": [
        "# Define funçao de classificação heurística\n",
        "def process_data(df):\n",
        "    \"\"\"\n",
        "    Processa o DataFrame aplicando as regras descritas:\n",
        "      - Agrupa os registros por 'segmento' e 'personas'\n",
        "      - Para cada variável numérica com sufixos _m0_3m e _m3_3m, calcula delta = (m0 / m3) - 1,\n",
        "        armazenando em 'delta_<variavel>'\n",
        "      - Calcula percentis (20, 40, 50, 60, 80) por grupo para cada delta e gera novas colunas\n",
        "      - Cria colunas 'status_delta_<variavel>' com a lógica:\n",
        "            • Se delta > percentil 60  → \"crescimento\"\n",
        "            • Se delta < percentil 40  → \"declinio\"\n",
        "            • Caso contrário        → \"estavel\"\n",
        "        Com exceção dos grupos em que todas as variações são não-negativas ou não-positivas,\n",
        "        onde o critério é ajustado conforme solicitado.\n",
        "      - Cria colunas 'intensidade_delta_<variavel>':\n",
        "            • Se delta acima do percentil 80 ou abaixo do percentil 20 → \"forte\"\n",
        "            • Caso contrário → \"moderado\"\n",
        "      - Se existir a variável inteira 'status_gs', calcula seu delta de forma similar e atribui:\n",
        "            • \"saudavel\" se o valor em M0 for maior que em M3\n",
        "            • \"nao_saudavel\" caso contrário\n",
        "      - Cria a coluna 'status_momento_empresa' a partir dos flags (caso existam) ou concatenando\n",
        "        os status de cash_in, status_gs e intensidade de cash_in.\n",
        "      - Todas as classes geradas serão em letras minúsculas.\n",
        "\n",
        "    A função retorna o DataFrame com todas as colunas originais e as novas criadas.\n",
        "    \"\"\"\n",
        "\n",
        "    # 1. Identifica as variáveis numéricas com sufixo _m0_3m que possuem a correspondente _m3_3m\n",
        "    numeric_vars = []\n",
        "    for col in df.columns:\n",
        "        if col.endswith('_m0_3m'):\n",
        "            base = col[:-6]\n",
        "            if base + '_m3_3m' in df.columns:\n",
        "                numeric_vars.append(base)\n",
        "\n",
        "    # 2. Calcula as colunas delta: (valor_m0 / valor_m3) - 1\n",
        "    for var in numeric_vars:\n",
        "        df[f'delta_{var}'] = (df[f'{var}_m0_3m'] / df[f'{var}_m3_3m']) - 1\n",
        "\n",
        "    # 3. Define os agrupamentos e os percentis a serem calculados\n",
        "    group_keys = ['segmento', 'personas']\n",
        "    percentis = [20, 40, 50, 60, 80]\n",
        "\n",
        "    # Para cada variável delta, calcula os percentis por grupo e cria colunas\n",
        "    for var in numeric_vars:\n",
        "        delta_var = f'delta_{var}'\n",
        "        for p in percentis:\n",
        "            col_name = f'p{p}_{delta_var}'\n",
        "            df[col_name] = df.groupby(group_keys)[delta_var].transform(lambda x: np.percentile(x, p))\n",
        "\n",
        "    # 4. Cria as colunas status_delta_<variavel> com classes em minúsculo\n",
        "    for var in numeric_vars:\n",
        "        delta_var = f'delta_{var}'\n",
        "        status_col = f'status_delta_{var}'\n",
        "\n",
        "        def assign_status(x):\n",
        "            p60 = np.percentile(x, 60)\n",
        "            p40 = np.percentile(x, 40)\n",
        "            # Se não houver variações negativas no grupo:\n",
        "            if (x >= 0).all():\n",
        "                return np.where(x < p60, \"estavel\", \"crescimento\")\n",
        "            # Se não houver variações positivas no grupo:\n",
        "            elif (x <= 0).all():\n",
        "                return np.where(x < p60, \"declinio\", \"estavel\")\n",
        "            else:\n",
        "                return np.where(x > p60, \"crescimento\",\n",
        "                                np.where(x < p40, \"declinio\", \"estavel\"))\n",
        "\n",
        "        df[status_col] = df.groupby(group_keys)[delta_var].transform(assign_status)\n",
        "\n",
        "    # 5. Cria as colunas intensidade_delta_<variavel> com classes em minúsculo\n",
        "    for var in numeric_vars:\n",
        "        delta_var = f'delta_{var}'\n",
        "        intensidade_col = f'intensidade_delta_{var}'\n",
        "\n",
        "        def assign_intensidade(x):\n",
        "            p80 = np.percentile(x, 80)\n",
        "            p20 = np.percentile(x, 20)\n",
        "            return np.where((x > p80) | (x < p20), \"forte\", \"moderado\")\n",
        "\n",
        "        df[intensidade_col] = df.groupby(group_keys, observed=False)[delta_var].transform(assign_intensidade)\n",
        "\n",
        "    # 6. Processa a variável inteira \"status_gs\", se existir, com classes em minúsculo\n",
        "    if 'status_gs_m0_3m' in df.columns and 'status_gs_m3_3m' in df.columns:\n",
        "        df['delta_status_gs'] = (df['status_gs_m0_3m'] / df['status_gs_m3_3m']) - 1\n",
        "        df['status_delta_status_gs'] = np.where(\n",
        "            df['status_gs_m0_3m'] > df['status_gs_m3_3m'],\n",
        "            \"saudavel\",\n",
        "            \"nao_saudavel\"\n",
        "        )\n",
        "\n",
        "    # 7. Cria a coluna \"status_momento_empresa\" conforme as regras dos flags com prioridade:\n",
        "    #    flag_inativo > flag_inapto_suspenso_baixado > flag_recem_fundado\n",
        "    def determine_status(row):\n",
        "        if row.get('flag_inativo', 0) == 1:\n",
        "            return \"inativa\"\n",
        "        elif row.get('flag_inapto_suspenso_baixado', 0) == 1:\n",
        "            return \"inapta_suspensa_baixada\"\n",
        "        elif row.get('flag_recem_fundado', 0) == 1:\n",
        "            return \"recem_fundada\"\n",
        "        else:\n",
        "            # Concatena os status referentes à cash_in, status_gs e intensidade de cash_in\n",
        "            status_cash = row.get('status_delta_vol_cash_in_total', '')\n",
        "            status_gs = row.get('status_delta_status_gs', '')\n",
        "            intensidade_cash = row.get('intensidade_delta_vol_cash_in_total', '')\n",
        "            return f\"{status_cash}_{status_gs}_{intensidade_cash}\"\n",
        "\n",
        "    df['status_momento_empresa'] = df.apply(determine_status, axis=1)\n",
        "\n",
        "    # Garante que a coluna esteja em letras minúsculas (mesmo que os rótulos já tenham sido definidos em minúsculo)\n",
        "    df['status_momento_empresa'] = df['status_momento_empresa'].str.lower()\n",
        "\n",
        "    return df"
      ],
      "metadata": {
        "id": "8ih_4T1fFdNk"
      },
      "execution_count": 49,
      "outputs": []
    },
    {
      "cell_type": "code",
      "source": [
        "df_classicados = process_data(df)"
      ],
      "metadata": {
        "colab": {
          "base_uri": "https://localhost:8080/"
        },
        "collapsed": true,
        "id": "SCygJnbtGAFz",
        "outputId": "a3dcf395-b503-486b-c716-f19a4fde7fbc"
      },
      "execution_count": 50,
      "outputs": [
        {
          "output_type": "stream",
          "name": "stderr",
          "text": [
            "<ipython-input-49-73980dbf09c8>:49: FutureWarning: The default of observed=False is deprecated and will be changed to True in a future version of pandas. Pass observed=False to retain current behavior or observed=True to adopt the future default and silence this warning.\n",
            "  df[col_name] = df.groupby(group_keys)[delta_var].transform(lambda x: np.percentile(x, p))\n",
            "<ipython-input-49-73980dbf09c8>:49: FutureWarning: The default of observed=False is deprecated and will be changed to True in a future version of pandas. Pass observed=False to retain current behavior or observed=True to adopt the future default and silence this warning.\n",
            "  df[col_name] = df.groupby(group_keys)[delta_var].transform(lambda x: np.percentile(x, p))\n",
            "<ipython-input-49-73980dbf09c8>:49: FutureWarning: The default of observed=False is deprecated and will be changed to True in a future version of pandas. Pass observed=False to retain current behavior or observed=True to adopt the future default and silence this warning.\n",
            "  df[col_name] = df.groupby(group_keys)[delta_var].transform(lambda x: np.percentile(x, p))\n",
            "<ipython-input-49-73980dbf09c8>:49: FutureWarning: The default of observed=False is deprecated and will be changed to True in a future version of pandas. Pass observed=False to retain current behavior or observed=True to adopt the future default and silence this warning.\n",
            "  df[col_name] = df.groupby(group_keys)[delta_var].transform(lambda x: np.percentile(x, p))\n",
            "<ipython-input-49-73980dbf09c8>:49: FutureWarning: The default of observed=False is deprecated and will be changed to True in a future version of pandas. Pass observed=False to retain current behavior or observed=True to adopt the future default and silence this warning.\n",
            "  df[col_name] = df.groupby(group_keys)[delta_var].transform(lambda x: np.percentile(x, p))\n",
            "<ipython-input-49-73980dbf09c8>:49: FutureWarning: The default of observed=False is deprecated and will be changed to True in a future version of pandas. Pass observed=False to retain current behavior or observed=True to adopt the future default and silence this warning.\n",
            "  df[col_name] = df.groupby(group_keys)[delta_var].transform(lambda x: np.percentile(x, p))\n",
            "<ipython-input-49-73980dbf09c8>:49: FutureWarning: The default of observed=False is deprecated and will be changed to True in a future version of pandas. Pass observed=False to retain current behavior or observed=True to adopt the future default and silence this warning.\n",
            "  df[col_name] = df.groupby(group_keys)[delta_var].transform(lambda x: np.percentile(x, p))\n",
            "<ipython-input-49-73980dbf09c8>:49: FutureWarning: The default of observed=False is deprecated and will be changed to True in a future version of pandas. Pass observed=False to retain current behavior or observed=True to adopt the future default and silence this warning.\n",
            "  df[col_name] = df.groupby(group_keys)[delta_var].transform(lambda x: np.percentile(x, p))\n",
            "<ipython-input-49-73980dbf09c8>:49: FutureWarning: The default of observed=False is deprecated and will be changed to True in a future version of pandas. Pass observed=False to retain current behavior or observed=True to adopt the future default and silence this warning.\n",
            "  df[col_name] = df.groupby(group_keys)[delta_var].transform(lambda x: np.percentile(x, p))\n",
            "<ipython-input-49-73980dbf09c8>:49: FutureWarning: The default of observed=False is deprecated and will be changed to True in a future version of pandas. Pass observed=False to retain current behavior or observed=True to adopt the future default and silence this warning.\n",
            "  df[col_name] = df.groupby(group_keys)[delta_var].transform(lambda x: np.percentile(x, p))\n",
            "<ipython-input-49-73980dbf09c8>:69: FutureWarning: The default of observed=False is deprecated and will be changed to True in a future version of pandas. Pass observed=False to retain current behavior or observed=True to adopt the future default and silence this warning.\n",
            "  df[status_col] = df.groupby(group_keys)[delta_var].transform(assign_status)\n",
            "<ipython-input-49-73980dbf09c8>:69: FutureWarning: The default of observed=False is deprecated and will be changed to True in a future version of pandas. Pass observed=False to retain current behavior or observed=True to adopt the future default and silence this warning.\n",
            "  df[status_col] = df.groupby(group_keys)[delta_var].transform(assign_status)\n"
          ]
        }
      ]
    },
    {
      "cell_type": "code",
      "source": [
        "# Exportando bases para Parquet\n",
        "df_classicados.to_parquet('df_classicados.parquet', engine='pyarrow', compression='snappy')\n",
        "print(f\"DataFrame 'df_classicados' exportado como Parquet\")"
      ],
      "metadata": {
        "colab": {
          "base_uri": "https://localhost:8080/"
        },
        "id": "uUglq2FGFxUA",
        "outputId": "2e19e083-e4b9-423f-cfa4-561b5ab91316"
      },
      "execution_count": 51,
      "outputs": [
        {
          "output_type": "stream",
          "name": "stdout",
          "text": [
            "DataFrame 'df_classicados' exportado como Parquet\n"
          ]
        }
      ]
    },
    {
      "cell_type": "code",
      "source": [
        "# Visualizando resultado\n",
        "df_classicados.head()"
      ],
      "metadata": {
        "colab": {
          "base_uri": "https://localhost:8080/",
          "height": 342
        },
        "id": "eKgZZj9HhqkS",
        "outputId": "80f0e74f-53a6-40b3-9568-a6923003d8b5"
      },
      "execution_count": 54,
      "outputs": [
        {
          "output_type": "execute_result",
          "data": {
            "text/plain": [
              "      anomes  num_cpf_cnpj segmento personas  vol_cash_in_total_m0_3m  \\\n",
              "0 2024-11-01        618566        C       P6             1.200306e+07   \n",
              "1 2024-11-01       1226834        E       P4             2.834094e+06   \n",
              "2 2024-11-01        699952        D       P2             6.401219e+06   \n",
              "3 2024-11-01        189372        D       P5             8.396966e+06   \n",
              "4 2024-11-01        761120        A       P4             4.229683e+07   \n",
              "\n",
              "   vol_cash_in_total_m3_3m  status_gs_m0_3m  status_gs_m3_3m  \\\n",
              "0             1.178448e+07                4                5   \n",
              "1             2.109984e+06                3                5   \n",
              "2             9.283276e+06                2                5   \n",
              "3             7.714160e+06                5                4   \n",
              "4             3.456612e+07                4                4   \n",
              "\n",
              "   tempo_de_vida_meses  flag_recem_fundado  ... p20_delta_status_gs  \\\n",
              "0                  210                   0  ...               -0.25   \n",
              "1                   65                   0  ...               -0.25   \n",
              "2                  169                   0  ...               -0.25   \n",
              "3                   26                   0  ...               -0.25   \n",
              "4                  141                   0  ...               -0.25   \n",
              "\n",
              "   p40_delta_status_gs  p50_delta_status_gs  p60_delta_status_gs  \\\n",
              "0                  0.0                  0.0                  0.0   \n",
              "1                  0.0                  0.0                  0.0   \n",
              "2                  0.0                  0.0                  0.0   \n",
              "3                  0.0                  0.0                  0.0   \n",
              "4                  0.0                  0.0                  0.0   \n",
              "\n",
              "   p80_delta_status_gs  status_delta_vol_cash_in_total  \\\n",
              "0             0.333333                         estavel   \n",
              "1             0.333333                     crescimento   \n",
              "2             0.333333                        declinio   \n",
              "3             0.333333                         estavel   \n",
              "4             0.333333                     crescimento   \n",
              "\n",
              "   status_delta_status_gs  intensidade_delta_vol_cash_in_total  \\\n",
              "0            nao_saudavel                             moderado   \n",
              "1            nao_saudavel                             moderado   \n",
              "2            nao_saudavel                                forte   \n",
              "3                saudavel                             moderado   \n",
              "4            nao_saudavel                             moderado   \n",
              "\n",
              "   intensidade_delta_status_gs             status_momento_empresa  \n",
              "0                     moderado      estavel_nao_saudavel_moderado  \n",
              "1                        forte  crescimento_nao_saudavel_moderado  \n",
              "2                        forte            inapta_suspensa_baixada  \n",
              "3                     moderado          estavel_saudavel_moderado  \n",
              "4                     moderado  crescimento_nao_saudavel_moderado  \n",
              "\n",
              "[5 rows x 30 columns]"
            ],
            "text/html": [
              "\n",
              "  <div id=\"df-3cc67f72-5b98-4b95-bf1b-05593d3d695a\" class=\"colab-df-container\">\n",
              "    <div>\n",
              "<style scoped>\n",
              "    .dataframe tbody tr th:only-of-type {\n",
              "        vertical-align: middle;\n",
              "    }\n",
              "\n",
              "    .dataframe tbody tr th {\n",
              "        vertical-align: top;\n",
              "    }\n",
              "\n",
              "    .dataframe thead th {\n",
              "        text-align: right;\n",
              "    }\n",
              "</style>\n",
              "<table border=\"1\" class=\"dataframe\">\n",
              "  <thead>\n",
              "    <tr style=\"text-align: right;\">\n",
              "      <th></th>\n",
              "      <th>anomes</th>\n",
              "      <th>num_cpf_cnpj</th>\n",
              "      <th>segmento</th>\n",
              "      <th>personas</th>\n",
              "      <th>vol_cash_in_total_m0_3m</th>\n",
              "      <th>vol_cash_in_total_m3_3m</th>\n",
              "      <th>status_gs_m0_3m</th>\n",
              "      <th>status_gs_m3_3m</th>\n",
              "      <th>tempo_de_vida_meses</th>\n",
              "      <th>flag_recem_fundado</th>\n",
              "      <th>...</th>\n",
              "      <th>p20_delta_status_gs</th>\n",
              "      <th>p40_delta_status_gs</th>\n",
              "      <th>p50_delta_status_gs</th>\n",
              "      <th>p60_delta_status_gs</th>\n",
              "      <th>p80_delta_status_gs</th>\n",
              "      <th>status_delta_vol_cash_in_total</th>\n",
              "      <th>status_delta_status_gs</th>\n",
              "      <th>intensidade_delta_vol_cash_in_total</th>\n",
              "      <th>intensidade_delta_status_gs</th>\n",
              "      <th>status_momento_empresa</th>\n",
              "    </tr>\n",
              "  </thead>\n",
              "  <tbody>\n",
              "    <tr>\n",
              "      <th>0</th>\n",
              "      <td>2024-11-01</td>\n",
              "      <td>618566</td>\n",
              "      <td>C</td>\n",
              "      <td>P6</td>\n",
              "      <td>1.200306e+07</td>\n",
              "      <td>1.178448e+07</td>\n",
              "      <td>4</td>\n",
              "      <td>5</td>\n",
              "      <td>210</td>\n",
              "      <td>0</td>\n",
              "      <td>...</td>\n",
              "      <td>-0.25</td>\n",
              "      <td>0.0</td>\n",
              "      <td>0.0</td>\n",
              "      <td>0.0</td>\n",
              "      <td>0.333333</td>\n",
              "      <td>estavel</td>\n",
              "      <td>nao_saudavel</td>\n",
              "      <td>moderado</td>\n",
              "      <td>moderado</td>\n",
              "      <td>estavel_nao_saudavel_moderado</td>\n",
              "    </tr>\n",
              "    <tr>\n",
              "      <th>1</th>\n",
              "      <td>2024-11-01</td>\n",
              "      <td>1226834</td>\n",
              "      <td>E</td>\n",
              "      <td>P4</td>\n",
              "      <td>2.834094e+06</td>\n",
              "      <td>2.109984e+06</td>\n",
              "      <td>3</td>\n",
              "      <td>5</td>\n",
              "      <td>65</td>\n",
              "      <td>0</td>\n",
              "      <td>...</td>\n",
              "      <td>-0.25</td>\n",
              "      <td>0.0</td>\n",
              "      <td>0.0</td>\n",
              "      <td>0.0</td>\n",
              "      <td>0.333333</td>\n",
              "      <td>crescimento</td>\n",
              "      <td>nao_saudavel</td>\n",
              "      <td>moderado</td>\n",
              "      <td>forte</td>\n",
              "      <td>crescimento_nao_saudavel_moderado</td>\n",
              "    </tr>\n",
              "    <tr>\n",
              "      <th>2</th>\n",
              "      <td>2024-11-01</td>\n",
              "      <td>699952</td>\n",
              "      <td>D</td>\n",
              "      <td>P2</td>\n",
              "      <td>6.401219e+06</td>\n",
              "      <td>9.283276e+06</td>\n",
              "      <td>2</td>\n",
              "      <td>5</td>\n",
              "      <td>169</td>\n",
              "      <td>0</td>\n",
              "      <td>...</td>\n",
              "      <td>-0.25</td>\n",
              "      <td>0.0</td>\n",
              "      <td>0.0</td>\n",
              "      <td>0.0</td>\n",
              "      <td>0.333333</td>\n",
              "      <td>declinio</td>\n",
              "      <td>nao_saudavel</td>\n",
              "      <td>forte</td>\n",
              "      <td>forte</td>\n",
              "      <td>inapta_suspensa_baixada</td>\n",
              "    </tr>\n",
              "    <tr>\n",
              "      <th>3</th>\n",
              "      <td>2024-11-01</td>\n",
              "      <td>189372</td>\n",
              "      <td>D</td>\n",
              "      <td>P5</td>\n",
              "      <td>8.396966e+06</td>\n",
              "      <td>7.714160e+06</td>\n",
              "      <td>5</td>\n",
              "      <td>4</td>\n",
              "      <td>26</td>\n",
              "      <td>0</td>\n",
              "      <td>...</td>\n",
              "      <td>-0.25</td>\n",
              "      <td>0.0</td>\n",
              "      <td>0.0</td>\n",
              "      <td>0.0</td>\n",
              "      <td>0.333333</td>\n",
              "      <td>estavel</td>\n",
              "      <td>saudavel</td>\n",
              "      <td>moderado</td>\n",
              "      <td>moderado</td>\n",
              "      <td>estavel_saudavel_moderado</td>\n",
              "    </tr>\n",
              "    <tr>\n",
              "      <th>4</th>\n",
              "      <td>2024-11-01</td>\n",
              "      <td>761120</td>\n",
              "      <td>A</td>\n",
              "      <td>P4</td>\n",
              "      <td>4.229683e+07</td>\n",
              "      <td>3.456612e+07</td>\n",
              "      <td>4</td>\n",
              "      <td>4</td>\n",
              "      <td>141</td>\n",
              "      <td>0</td>\n",
              "      <td>...</td>\n",
              "      <td>-0.25</td>\n",
              "      <td>0.0</td>\n",
              "      <td>0.0</td>\n",
              "      <td>0.0</td>\n",
              "      <td>0.333333</td>\n",
              "      <td>crescimento</td>\n",
              "      <td>nao_saudavel</td>\n",
              "      <td>moderado</td>\n",
              "      <td>moderado</td>\n",
              "      <td>crescimento_nao_saudavel_moderado</td>\n",
              "    </tr>\n",
              "  </tbody>\n",
              "</table>\n",
              "<p>5 rows × 30 columns</p>\n",
              "</div>\n",
              "    <div class=\"colab-df-buttons\">\n",
              "\n",
              "  <div class=\"colab-df-container\">\n",
              "    <button class=\"colab-df-convert\" onclick=\"convertToInteractive('df-3cc67f72-5b98-4b95-bf1b-05593d3d695a')\"\n",
              "            title=\"Convert this dataframe to an interactive table.\"\n",
              "            style=\"display:none;\">\n",
              "\n",
              "  <svg xmlns=\"http://www.w3.org/2000/svg\" height=\"24px\" viewBox=\"0 -960 960 960\">\n",
              "    <path d=\"M120-120v-720h720v720H120Zm60-500h600v-160H180v160Zm220 220h160v-160H400v160Zm0 220h160v-160H400v160ZM180-400h160v-160H180v160Zm440 0h160v-160H620v160ZM180-180h160v-160H180v160Zm440 0h160v-160H620v160Z\"/>\n",
              "  </svg>\n",
              "    </button>\n",
              "\n",
              "  <style>\n",
              "    .colab-df-container {\n",
              "      display:flex;\n",
              "      gap: 12px;\n",
              "    }\n",
              "\n",
              "    .colab-df-convert {\n",
              "      background-color: #E8F0FE;\n",
              "      border: none;\n",
              "      border-radius: 50%;\n",
              "      cursor: pointer;\n",
              "      display: none;\n",
              "      fill: #1967D2;\n",
              "      height: 32px;\n",
              "      padding: 0 0 0 0;\n",
              "      width: 32px;\n",
              "    }\n",
              "\n",
              "    .colab-df-convert:hover {\n",
              "      background-color: #E2EBFA;\n",
              "      box-shadow: 0px 1px 2px rgba(60, 64, 67, 0.3), 0px 1px 3px 1px rgba(60, 64, 67, 0.15);\n",
              "      fill: #174EA6;\n",
              "    }\n",
              "\n",
              "    .colab-df-buttons div {\n",
              "      margin-bottom: 4px;\n",
              "    }\n",
              "\n",
              "    [theme=dark] .colab-df-convert {\n",
              "      background-color: #3B4455;\n",
              "      fill: #D2E3FC;\n",
              "    }\n",
              "\n",
              "    [theme=dark] .colab-df-convert:hover {\n",
              "      background-color: #434B5C;\n",
              "      box-shadow: 0px 1px 3px 1px rgba(0, 0, 0, 0.15);\n",
              "      filter: drop-shadow(0px 1px 2px rgba(0, 0, 0, 0.3));\n",
              "      fill: #FFFFFF;\n",
              "    }\n",
              "  </style>\n",
              "\n",
              "    <script>\n",
              "      const buttonEl =\n",
              "        document.querySelector('#df-3cc67f72-5b98-4b95-bf1b-05593d3d695a button.colab-df-convert');\n",
              "      buttonEl.style.display =\n",
              "        google.colab.kernel.accessAllowed ? 'block' : 'none';\n",
              "\n",
              "      async function convertToInteractive(key) {\n",
              "        const element = document.querySelector('#df-3cc67f72-5b98-4b95-bf1b-05593d3d695a');\n",
              "        const dataTable =\n",
              "          await google.colab.kernel.invokeFunction('convertToInteractive',\n",
              "                                                    [key], {});\n",
              "        if (!dataTable) return;\n",
              "\n",
              "        const docLinkHtml = 'Like what you see? Visit the ' +\n",
              "          '<a target=\"_blank\" href=https://colab.research.google.com/notebooks/data_table.ipynb>data table notebook</a>'\n",
              "          + ' to learn more about interactive tables.';\n",
              "        element.innerHTML = '';\n",
              "        dataTable['output_type'] = 'display_data';\n",
              "        await google.colab.output.renderOutput(dataTable, element);\n",
              "        const docLink = document.createElement('div');\n",
              "        docLink.innerHTML = docLinkHtml;\n",
              "        element.appendChild(docLink);\n",
              "      }\n",
              "    </script>\n",
              "  </div>\n",
              "\n",
              "\n",
              "<div id=\"df-2f35522f-ab8f-458b-822d-7ec8dff0f56b\">\n",
              "  <button class=\"colab-df-quickchart\" onclick=\"quickchart('df-2f35522f-ab8f-458b-822d-7ec8dff0f56b')\"\n",
              "            title=\"Suggest charts\"\n",
              "            style=\"display:none;\">\n",
              "\n",
              "<svg xmlns=\"http://www.w3.org/2000/svg\" height=\"24px\"viewBox=\"0 0 24 24\"\n",
              "     width=\"24px\">\n",
              "    <g>\n",
              "        <path d=\"M19 3H5c-1.1 0-2 .9-2 2v14c0 1.1.9 2 2 2h14c1.1 0 2-.9 2-2V5c0-1.1-.9-2-2-2zM9 17H7v-7h2v7zm4 0h-2V7h2v10zm4 0h-2v-4h2v4z\"/>\n",
              "    </g>\n",
              "</svg>\n",
              "  </button>\n",
              "\n",
              "<style>\n",
              "  .colab-df-quickchart {\n",
              "      --bg-color: #E8F0FE;\n",
              "      --fill-color: #1967D2;\n",
              "      --hover-bg-color: #E2EBFA;\n",
              "      --hover-fill-color: #174EA6;\n",
              "      --disabled-fill-color: #AAA;\n",
              "      --disabled-bg-color: #DDD;\n",
              "  }\n",
              "\n",
              "  [theme=dark] .colab-df-quickchart {\n",
              "      --bg-color: #3B4455;\n",
              "      --fill-color: #D2E3FC;\n",
              "      --hover-bg-color: #434B5C;\n",
              "      --hover-fill-color: #FFFFFF;\n",
              "      --disabled-bg-color: #3B4455;\n",
              "      --disabled-fill-color: #666;\n",
              "  }\n",
              "\n",
              "  .colab-df-quickchart {\n",
              "    background-color: var(--bg-color);\n",
              "    border: none;\n",
              "    border-radius: 50%;\n",
              "    cursor: pointer;\n",
              "    display: none;\n",
              "    fill: var(--fill-color);\n",
              "    height: 32px;\n",
              "    padding: 0;\n",
              "    width: 32px;\n",
              "  }\n",
              "\n",
              "  .colab-df-quickchart:hover {\n",
              "    background-color: var(--hover-bg-color);\n",
              "    box-shadow: 0 1px 2px rgba(60, 64, 67, 0.3), 0 1px 3px 1px rgba(60, 64, 67, 0.15);\n",
              "    fill: var(--button-hover-fill-color);\n",
              "  }\n",
              "\n",
              "  .colab-df-quickchart-complete:disabled,\n",
              "  .colab-df-quickchart-complete:disabled:hover {\n",
              "    background-color: var(--disabled-bg-color);\n",
              "    fill: var(--disabled-fill-color);\n",
              "    box-shadow: none;\n",
              "  }\n",
              "\n",
              "  .colab-df-spinner {\n",
              "    border: 2px solid var(--fill-color);\n",
              "    border-color: transparent;\n",
              "    border-bottom-color: var(--fill-color);\n",
              "    animation:\n",
              "      spin 1s steps(1) infinite;\n",
              "  }\n",
              "\n",
              "  @keyframes spin {\n",
              "    0% {\n",
              "      border-color: transparent;\n",
              "      border-bottom-color: var(--fill-color);\n",
              "      border-left-color: var(--fill-color);\n",
              "    }\n",
              "    20% {\n",
              "      border-color: transparent;\n",
              "      border-left-color: var(--fill-color);\n",
              "      border-top-color: var(--fill-color);\n",
              "    }\n",
              "    30% {\n",
              "      border-color: transparent;\n",
              "      border-left-color: var(--fill-color);\n",
              "      border-top-color: var(--fill-color);\n",
              "      border-right-color: var(--fill-color);\n",
              "    }\n",
              "    40% {\n",
              "      border-color: transparent;\n",
              "      border-right-color: var(--fill-color);\n",
              "      border-top-color: var(--fill-color);\n",
              "    }\n",
              "    60% {\n",
              "      border-color: transparent;\n",
              "      border-right-color: var(--fill-color);\n",
              "    }\n",
              "    80% {\n",
              "      border-color: transparent;\n",
              "      border-right-color: var(--fill-color);\n",
              "      border-bottom-color: var(--fill-color);\n",
              "    }\n",
              "    90% {\n",
              "      border-color: transparent;\n",
              "      border-bottom-color: var(--fill-color);\n",
              "    }\n",
              "  }\n",
              "</style>\n",
              "\n",
              "  <script>\n",
              "    async function quickchart(key) {\n",
              "      const quickchartButtonEl =\n",
              "        document.querySelector('#' + key + ' button');\n",
              "      quickchartButtonEl.disabled = true;  // To prevent multiple clicks.\n",
              "      quickchartButtonEl.classList.add('colab-df-spinner');\n",
              "      try {\n",
              "        const charts = await google.colab.kernel.invokeFunction(\n",
              "            'suggestCharts', [key], {});\n",
              "      } catch (error) {\n",
              "        console.error('Error during call to suggestCharts:', error);\n",
              "      }\n",
              "      quickchartButtonEl.classList.remove('colab-df-spinner');\n",
              "      quickchartButtonEl.classList.add('colab-df-quickchart-complete');\n",
              "    }\n",
              "    (() => {\n",
              "      let quickchartButtonEl =\n",
              "        document.querySelector('#df-2f35522f-ab8f-458b-822d-7ec8dff0f56b button');\n",
              "      quickchartButtonEl.style.display =\n",
              "        google.colab.kernel.accessAllowed ? 'block' : 'none';\n",
              "    })();\n",
              "  </script>\n",
              "</div>\n",
              "\n",
              "    </div>\n",
              "  </div>\n"
            ],
            "application/vnd.google.colaboratory.intrinsic+json": {
              "type": "dataframe",
              "variable_name": "df_classicados"
            }
          },
          "metadata": {},
          "execution_count": 54
        }
      ]
    },
    {
      "cell_type": "markdown",
      "source": [
        "## 06. Treinamento do Classificador ML"
      ],
      "metadata": {
        "id": "klZYtnUnivKX"
      }
    },
    {
      "cell_type": "markdown",
      "source": [
        "> Treinamento de algoritimos de classificação, visando identificar a importância de outras variáveis, bem como utilizar o modelo para classificação dos dados de validação"
      ],
      "metadata": {
        "id": "LsqybQ9lmZcq"
      }
    },
    {
      "cell_type": "code",
      "source": [
        "# Join dde df_train com df_classificados (para obtenção de target)\n",
        "df = df_train.merge(df_classicados[['anomes', 'num_cpf_cnpj', 'status_momento_empresa']], on=['anomes', 'num_cpf_cnpj'], how='left')"
      ],
      "metadata": {
        "id": "5r2DVuL0hyde"
      },
      "execution_count": 82,
      "outputs": []
    },
    {
      "cell_type": "code",
      "source": [
        "# Converter múltiplas colunas\n",
        "df = df.astype({\n",
        "                'status_gs_m0_3m': 'category',\n",
        "                'status_gs_m3_3m': 'category',\n",
        "                'status_momento_empresa': 'category'\n",
        "            })\n",
        "\n",
        "df.drop(columns=['status_receita federal'], inplace=True)"
      ],
      "metadata": {
        "id": "pWGSVYwEn791"
      },
      "execution_count": 85,
      "outputs": []
    },
    {
      "cell_type": "code",
      "source": [
        "# Visualizando dados para treinamento\n",
        "df.head(3)"
      ],
      "metadata": {
        "colab": {
          "base_uri": "https://localhost:8080/",
          "height": 245
        },
        "collapsed": true,
        "id": "OkS4SLjBiCpb",
        "outputId": "eeb07a1d-5668-4679-fbfd-bca5b9254c1b"
      },
      "execution_count": 86,
      "outputs": [
        {
          "output_type": "execute_result",
          "data": {
            "text/plain": [
              "      anomes  num_cpf_cnpj segmento personas  vol_cash_in_total_m0_3m  \\\n",
              "0 2024-11-01        618566        C       P6             1.200306e+07   \n",
              "1 2024-11-01       1226834        E       P4             2.834094e+06   \n",
              "2 2024-11-01        699952        D       P2             6.401219e+06   \n",
              "\n",
              "   vol_cash_in_total_m3_3m  vol_cg_m0_3m  vol_cg_m3_3m  vol_lis_m0_3m  \\\n",
              "0             1.178448e+07  1.049630e+06  1.008750e+06  816241.286979   \n",
              "1             2.109984e+06  2.751273e+05  1.787593e+05   61943.201683   \n",
              "2             9.283276e+06  1.988563e+05  9.793844e+05  157921.044081   \n",
              "\n",
              "   vol_lis_m3_3m  ...  faturamento_anual_m3_3m  vol_vencido_bacen_m0_3m  \\\n",
              "0   1.801831e+06  ...             1.326476e+08            294457.427581   \n",
              "1   1.947531e+05  ...             2.631612e+07             66922.619034   \n",
              "2   1.119137e+06  ...             8.381384e+07             33552.672627   \n",
              "\n",
              "   vol_vencido_bacen_m3_3m  status_gs_m0_3m  status_gs_m3_3m  \\\n",
              "0            231664.756389                4                5   \n",
              "1            135479.374383                3                5   \n",
              "2            468728.929102                2                5   \n",
              "\n",
              "   tempo_de_vida_meses  flag_recem_fundado  flag_inapto_suspenso_baixado  \\\n",
              "0                  210                   0                             0   \n",
              "1                   65                   0                             0   \n",
              "2                  169                   0                             1   \n",
              "\n",
              "   flag_inativo             status_momento_empresa  \n",
              "0             0      estavel_nao_saudavel_moderado  \n",
              "1             0  crescimento_nao_saudavel_moderado  \n",
              "2             0            inapta_suspensa_baixada  \n",
              "\n",
              "[3 rows x 29 columns]"
            ],
            "text/html": [
              "\n",
              "  <div id=\"df-60e11d9e-2e16-4a91-bcd8-b2d7ac413078\" class=\"colab-df-container\">\n",
              "    <div>\n",
              "<style scoped>\n",
              "    .dataframe tbody tr th:only-of-type {\n",
              "        vertical-align: middle;\n",
              "    }\n",
              "\n",
              "    .dataframe tbody tr th {\n",
              "        vertical-align: top;\n",
              "    }\n",
              "\n",
              "    .dataframe thead th {\n",
              "        text-align: right;\n",
              "    }\n",
              "</style>\n",
              "<table border=\"1\" class=\"dataframe\">\n",
              "  <thead>\n",
              "    <tr style=\"text-align: right;\">\n",
              "      <th></th>\n",
              "      <th>anomes</th>\n",
              "      <th>num_cpf_cnpj</th>\n",
              "      <th>segmento</th>\n",
              "      <th>personas</th>\n",
              "      <th>vol_cash_in_total_m0_3m</th>\n",
              "      <th>vol_cash_in_total_m3_3m</th>\n",
              "      <th>vol_cg_m0_3m</th>\n",
              "      <th>vol_cg_m3_3m</th>\n",
              "      <th>vol_lis_m0_3m</th>\n",
              "      <th>vol_lis_m3_3m</th>\n",
              "      <th>...</th>\n",
              "      <th>faturamento_anual_m3_3m</th>\n",
              "      <th>vol_vencido_bacen_m0_3m</th>\n",
              "      <th>vol_vencido_bacen_m3_3m</th>\n",
              "      <th>status_gs_m0_3m</th>\n",
              "      <th>status_gs_m3_3m</th>\n",
              "      <th>tempo_de_vida_meses</th>\n",
              "      <th>flag_recem_fundado</th>\n",
              "      <th>flag_inapto_suspenso_baixado</th>\n",
              "      <th>flag_inativo</th>\n",
              "      <th>status_momento_empresa</th>\n",
              "    </tr>\n",
              "  </thead>\n",
              "  <tbody>\n",
              "    <tr>\n",
              "      <th>0</th>\n",
              "      <td>2024-11-01</td>\n",
              "      <td>618566</td>\n",
              "      <td>C</td>\n",
              "      <td>P6</td>\n",
              "      <td>1.200306e+07</td>\n",
              "      <td>1.178448e+07</td>\n",
              "      <td>1.049630e+06</td>\n",
              "      <td>1.008750e+06</td>\n",
              "      <td>816241.286979</td>\n",
              "      <td>1.801831e+06</td>\n",
              "      <td>...</td>\n",
              "      <td>1.326476e+08</td>\n",
              "      <td>294457.427581</td>\n",
              "      <td>231664.756389</td>\n",
              "      <td>4</td>\n",
              "      <td>5</td>\n",
              "      <td>210</td>\n",
              "      <td>0</td>\n",
              "      <td>0</td>\n",
              "      <td>0</td>\n",
              "      <td>estavel_nao_saudavel_moderado</td>\n",
              "    </tr>\n",
              "    <tr>\n",
              "      <th>1</th>\n",
              "      <td>2024-11-01</td>\n",
              "      <td>1226834</td>\n",
              "      <td>E</td>\n",
              "      <td>P4</td>\n",
              "      <td>2.834094e+06</td>\n",
              "      <td>2.109984e+06</td>\n",
              "      <td>2.751273e+05</td>\n",
              "      <td>1.787593e+05</td>\n",
              "      <td>61943.201683</td>\n",
              "      <td>1.947531e+05</td>\n",
              "      <td>...</td>\n",
              "      <td>2.631612e+07</td>\n",
              "      <td>66922.619034</td>\n",
              "      <td>135479.374383</td>\n",
              "      <td>3</td>\n",
              "      <td>5</td>\n",
              "      <td>65</td>\n",
              "      <td>0</td>\n",
              "      <td>0</td>\n",
              "      <td>0</td>\n",
              "      <td>crescimento_nao_saudavel_moderado</td>\n",
              "    </tr>\n",
              "    <tr>\n",
              "      <th>2</th>\n",
              "      <td>2024-11-01</td>\n",
              "      <td>699952</td>\n",
              "      <td>D</td>\n",
              "      <td>P2</td>\n",
              "      <td>6.401219e+06</td>\n",
              "      <td>9.283276e+06</td>\n",
              "      <td>1.988563e+05</td>\n",
              "      <td>9.793844e+05</td>\n",
              "      <td>157921.044081</td>\n",
              "      <td>1.119137e+06</td>\n",
              "      <td>...</td>\n",
              "      <td>8.381384e+07</td>\n",
              "      <td>33552.672627</td>\n",
              "      <td>468728.929102</td>\n",
              "      <td>2</td>\n",
              "      <td>5</td>\n",
              "      <td>169</td>\n",
              "      <td>0</td>\n",
              "      <td>1</td>\n",
              "      <td>0</td>\n",
              "      <td>inapta_suspensa_baixada</td>\n",
              "    </tr>\n",
              "  </tbody>\n",
              "</table>\n",
              "<p>3 rows × 29 columns</p>\n",
              "</div>\n",
              "    <div class=\"colab-df-buttons\">\n",
              "\n",
              "  <div class=\"colab-df-container\">\n",
              "    <button class=\"colab-df-convert\" onclick=\"convertToInteractive('df-60e11d9e-2e16-4a91-bcd8-b2d7ac413078')\"\n",
              "            title=\"Convert this dataframe to an interactive table.\"\n",
              "            style=\"display:none;\">\n",
              "\n",
              "  <svg xmlns=\"http://www.w3.org/2000/svg\" height=\"24px\" viewBox=\"0 -960 960 960\">\n",
              "    <path d=\"M120-120v-720h720v720H120Zm60-500h600v-160H180v160Zm220 220h160v-160H400v160Zm0 220h160v-160H400v160ZM180-400h160v-160H180v160Zm440 0h160v-160H620v160ZM180-180h160v-160H180v160Zm440 0h160v-160H620v160Z\"/>\n",
              "  </svg>\n",
              "    </button>\n",
              "\n",
              "  <style>\n",
              "    .colab-df-container {\n",
              "      display:flex;\n",
              "      gap: 12px;\n",
              "    }\n",
              "\n",
              "    .colab-df-convert {\n",
              "      background-color: #E8F0FE;\n",
              "      border: none;\n",
              "      border-radius: 50%;\n",
              "      cursor: pointer;\n",
              "      display: none;\n",
              "      fill: #1967D2;\n",
              "      height: 32px;\n",
              "      padding: 0 0 0 0;\n",
              "      width: 32px;\n",
              "    }\n",
              "\n",
              "    .colab-df-convert:hover {\n",
              "      background-color: #E2EBFA;\n",
              "      box-shadow: 0px 1px 2px rgba(60, 64, 67, 0.3), 0px 1px 3px 1px rgba(60, 64, 67, 0.15);\n",
              "      fill: #174EA6;\n",
              "    }\n",
              "\n",
              "    .colab-df-buttons div {\n",
              "      margin-bottom: 4px;\n",
              "    }\n",
              "\n",
              "    [theme=dark] .colab-df-convert {\n",
              "      background-color: #3B4455;\n",
              "      fill: #D2E3FC;\n",
              "    }\n",
              "\n",
              "    [theme=dark] .colab-df-convert:hover {\n",
              "      background-color: #434B5C;\n",
              "      box-shadow: 0px 1px 3px 1px rgba(0, 0, 0, 0.15);\n",
              "      filter: drop-shadow(0px 1px 2px rgba(0, 0, 0, 0.3));\n",
              "      fill: #FFFFFF;\n",
              "    }\n",
              "  </style>\n",
              "\n",
              "    <script>\n",
              "      const buttonEl =\n",
              "        document.querySelector('#df-60e11d9e-2e16-4a91-bcd8-b2d7ac413078 button.colab-df-convert');\n",
              "      buttonEl.style.display =\n",
              "        google.colab.kernel.accessAllowed ? 'block' : 'none';\n",
              "\n",
              "      async function convertToInteractive(key) {\n",
              "        const element = document.querySelector('#df-60e11d9e-2e16-4a91-bcd8-b2d7ac413078');\n",
              "        const dataTable =\n",
              "          await google.colab.kernel.invokeFunction('convertToInteractive',\n",
              "                                                    [key], {});\n",
              "        if (!dataTable) return;\n",
              "\n",
              "        const docLinkHtml = 'Like what you see? Visit the ' +\n",
              "          '<a target=\"_blank\" href=https://colab.research.google.com/notebooks/data_table.ipynb>data table notebook</a>'\n",
              "          + ' to learn more about interactive tables.';\n",
              "        element.innerHTML = '';\n",
              "        dataTable['output_type'] = 'display_data';\n",
              "        await google.colab.output.renderOutput(dataTable, element);\n",
              "        const docLink = document.createElement('div');\n",
              "        docLink.innerHTML = docLinkHtml;\n",
              "        element.appendChild(docLink);\n",
              "      }\n",
              "    </script>\n",
              "  </div>\n",
              "\n",
              "\n",
              "<div id=\"df-1af960af-e4a7-4ac0-b63e-4eaaee63f3d3\">\n",
              "  <button class=\"colab-df-quickchart\" onclick=\"quickchart('df-1af960af-e4a7-4ac0-b63e-4eaaee63f3d3')\"\n",
              "            title=\"Suggest charts\"\n",
              "            style=\"display:none;\">\n",
              "\n",
              "<svg xmlns=\"http://www.w3.org/2000/svg\" height=\"24px\"viewBox=\"0 0 24 24\"\n",
              "     width=\"24px\">\n",
              "    <g>\n",
              "        <path d=\"M19 3H5c-1.1 0-2 .9-2 2v14c0 1.1.9 2 2 2h14c1.1 0 2-.9 2-2V5c0-1.1-.9-2-2-2zM9 17H7v-7h2v7zm4 0h-2V7h2v10zm4 0h-2v-4h2v4z\"/>\n",
              "    </g>\n",
              "</svg>\n",
              "  </button>\n",
              "\n",
              "<style>\n",
              "  .colab-df-quickchart {\n",
              "      --bg-color: #E8F0FE;\n",
              "      --fill-color: #1967D2;\n",
              "      --hover-bg-color: #E2EBFA;\n",
              "      --hover-fill-color: #174EA6;\n",
              "      --disabled-fill-color: #AAA;\n",
              "      --disabled-bg-color: #DDD;\n",
              "  }\n",
              "\n",
              "  [theme=dark] .colab-df-quickchart {\n",
              "      --bg-color: #3B4455;\n",
              "      --fill-color: #D2E3FC;\n",
              "      --hover-bg-color: #434B5C;\n",
              "      --hover-fill-color: #FFFFFF;\n",
              "      --disabled-bg-color: #3B4455;\n",
              "      --disabled-fill-color: #666;\n",
              "  }\n",
              "\n",
              "  .colab-df-quickchart {\n",
              "    background-color: var(--bg-color);\n",
              "    border: none;\n",
              "    border-radius: 50%;\n",
              "    cursor: pointer;\n",
              "    display: none;\n",
              "    fill: var(--fill-color);\n",
              "    height: 32px;\n",
              "    padding: 0;\n",
              "    width: 32px;\n",
              "  }\n",
              "\n",
              "  .colab-df-quickchart:hover {\n",
              "    background-color: var(--hover-bg-color);\n",
              "    box-shadow: 0 1px 2px rgba(60, 64, 67, 0.3), 0 1px 3px 1px rgba(60, 64, 67, 0.15);\n",
              "    fill: var(--button-hover-fill-color);\n",
              "  }\n",
              "\n",
              "  .colab-df-quickchart-complete:disabled,\n",
              "  .colab-df-quickchart-complete:disabled:hover {\n",
              "    background-color: var(--disabled-bg-color);\n",
              "    fill: var(--disabled-fill-color);\n",
              "    box-shadow: none;\n",
              "  }\n",
              "\n",
              "  .colab-df-spinner {\n",
              "    border: 2px solid var(--fill-color);\n",
              "    border-color: transparent;\n",
              "    border-bottom-color: var(--fill-color);\n",
              "    animation:\n",
              "      spin 1s steps(1) infinite;\n",
              "  }\n",
              "\n",
              "  @keyframes spin {\n",
              "    0% {\n",
              "      border-color: transparent;\n",
              "      border-bottom-color: var(--fill-color);\n",
              "      border-left-color: var(--fill-color);\n",
              "    }\n",
              "    20% {\n",
              "      border-color: transparent;\n",
              "      border-left-color: var(--fill-color);\n",
              "      border-top-color: var(--fill-color);\n",
              "    }\n",
              "    30% {\n",
              "      border-color: transparent;\n",
              "      border-left-color: var(--fill-color);\n",
              "      border-top-color: var(--fill-color);\n",
              "      border-right-color: var(--fill-color);\n",
              "    }\n",
              "    40% {\n",
              "      border-color: transparent;\n",
              "      border-right-color: var(--fill-color);\n",
              "      border-top-color: var(--fill-color);\n",
              "    }\n",
              "    60% {\n",
              "      border-color: transparent;\n",
              "      border-right-color: var(--fill-color);\n",
              "    }\n",
              "    80% {\n",
              "      border-color: transparent;\n",
              "      border-right-color: var(--fill-color);\n",
              "      border-bottom-color: var(--fill-color);\n",
              "    }\n",
              "    90% {\n",
              "      border-color: transparent;\n",
              "      border-bottom-color: var(--fill-color);\n",
              "    }\n",
              "  }\n",
              "</style>\n",
              "\n",
              "  <script>\n",
              "    async function quickchart(key) {\n",
              "      const quickchartButtonEl =\n",
              "        document.querySelector('#' + key + ' button');\n",
              "      quickchartButtonEl.disabled = true;  // To prevent multiple clicks.\n",
              "      quickchartButtonEl.classList.add('colab-df-spinner');\n",
              "      try {\n",
              "        const charts = await google.colab.kernel.invokeFunction(\n",
              "            'suggestCharts', [key], {});\n",
              "      } catch (error) {\n",
              "        console.error('Error during call to suggestCharts:', error);\n",
              "      }\n",
              "      quickchartButtonEl.classList.remove('colab-df-spinner');\n",
              "      quickchartButtonEl.classList.add('colab-df-quickchart-complete');\n",
              "    }\n",
              "    (() => {\n",
              "      let quickchartButtonEl =\n",
              "        document.querySelector('#df-1af960af-e4a7-4ac0-b63e-4eaaee63f3d3 button');\n",
              "      quickchartButtonEl.style.display =\n",
              "        google.colab.kernel.accessAllowed ? 'block' : 'none';\n",
              "    })();\n",
              "  </script>\n",
              "</div>\n",
              "\n",
              "    </div>\n",
              "  </div>\n"
            ],
            "application/vnd.google.colaboratory.intrinsic+json": {
              "type": "dataframe",
              "variable_name": "df"
            }
          },
          "metadata": {},
          "execution_count": 86
        }
      ]
    },
    {
      "cell_type": "markdown",
      "source": [
        "### Abordagem 1: Cross Validation"
      ],
      "metadata": {
        "id": "Ybad3-ZXoNTS"
      }
    },
    {
      "cell_type": "markdown",
      "source": [
        "~~~~python\n",
        "# Import das libs\n",
        "import pandas as pd\n",
        "import numpy as np\n",
        "from io import StringIO\n",
        "from sklearn.compose import ColumnTransformer\n",
        "from sklearn.pipeline import Pipeline\n",
        "from sklearn.preprocessing import StandardScaler, OneHotEncoder\n",
        "from sklearn.ensemble import RandomForestClassifier\n",
        "from sklearn.model_selection import cross_val_score, StratifiedKFold\n",
        "\n",
        "# Supondo que o DataFrame já foi processado e possui a coluna target \"status_momento_empresa\"\n",
        "# Removemos as colunas que não serão usadas como features.\n",
        "features_to_drop = ['anomes', 'num_cpf_cnpj', 'status_momento_empresa']\n",
        "X = df.drop(columns=features_to_drop)\n",
        "y = df['status_momento_empresa']\n",
        "\n",
        "# Em vez de definir manualmente as features numéricas e categóricas, vamos selecionar por tipo:\n",
        "# As numéricas serão aquelas de tipo 'number'\n",
        "numeric_features = X.select_dtypes(include=[np.number]).columns.tolist()\n",
        "# As categóricas serão as que possuem dados do tipo objeto (strings)\n",
        "categorical_features = X.select_dtypes(include=['object']).columns.tolist()\n",
        "\n",
        "print(\"Numeric features:\", numeric_features)\n",
        "print(\"Categorical features:\", categorical_features)\n",
        "\n",
        "# Crie pipelines separados para pré-processar os dados numéricos e categóricos.\n",
        "numeric_transformer = Pipeline(steps=[\n",
        "    ('scaler', StandardScaler())\n",
        "])\n",
        "\n",
        "categorical_transformer = Pipeline(steps=[\n",
        "    ('onehot', OneHotEncoder(handle_unknown='ignore'))\n",
        "])\n",
        "\n",
        "# Combine as transformações usando ColumnTransformer.\n",
        "preprocessor = ColumnTransformer(transformers=[\n",
        "    ('num', numeric_transformer, numeric_features),\n",
        "    ('cat', categorical_transformer, categorical_features)\n",
        "])\n",
        "\n",
        "# Crie a pipeline final com o pré-processamento e o RandomForestClassifier.\n",
        "pipeline = Pipeline(steps=[\n",
        "    ('preprocessor', preprocessor),\n",
        "    ('classifier', RandomForestClassifier(random_state=42))\n",
        "])\n",
        "\n",
        "# Validação cruzada com 5 folds usando StratifiedKFold\n",
        "cv = StratifiedKFold(n_splits=5, shuffle=True, random_state=42)\n",
        "scores = cross_val_score(pipeline, X, y, cv=cv)\n",
        "print(\"CV accuracy scores:\", scores)\n",
        "print(\"Mean CV accuracy:\", scores.mean())\n",
        "\n",
        "# Ajuste o pipeline no conjunto completo para extrair as feature importances.\n",
        "pipeline.fit(X, y)\n",
        "\n",
        "# Extraia os nomes das features transformadas:\n",
        "# 1. As numéricas permanecem com os mesmos nomes.\n",
        "# 2. As categóricas são transformadas pelo OneHotEncoder.\n",
        "onehot = pipeline.named_steps['preprocessor'].named_transformers_['cat']\n",
        "cat_feature_names = list(onehot.get_feature_names_out(categorical_features))\n",
        "all_feature_names = numeric_features + cat_feature_names\n",
        "~~~~"
      ],
      "metadata": {
        "id": "6fNvNcKPcuYA"
      }
    },
    {
      "cell_type": "markdown",
      "source": [
        "~~~~python\n",
        "# Extraia as importâncias das features do RandomForestClassifier.\n",
        "importances = pipeline.named_steps['classifier'].feature_importances_\n",
        "feature_importance_df = pd.DataFrame({\n",
        "    'feature': all_feature_names,\n",
        "    'importance': importances\n",
        "}).sort_values(by='importance', ascending=False)\n",
        "\n",
        "print(\"Feature Importances:\")\n",
        "print(feature_importance_df)\n",
        "~~~~"
      ],
      "metadata": {
        "id": "JHwIz6gjjpHK"
      }
    },
    {
      "cell_type": "markdown",
      "source": [
        "### Abordagem 2: Hold-out validation"
      ],
      "metadata": {
        "id": "n7f8KnxmoToR"
      }
    },
    {
      "cell_type": "code",
      "source": [
        "import pandas as pd\n",
        "import numpy as np\n",
        "from io import StringIO\n",
        "from sklearn.compose import ColumnTransformer\n",
        "from sklearn.pipeline import Pipeline\n",
        "from sklearn.preprocessing import StandardScaler, OneHotEncoder\n",
        "from sklearn.ensemble import RandomForestClassifier\n",
        "from sklearn.model_selection import train_test_split\n",
        "from sklearn.metrics import accuracy_score\n",
        "\n",
        "# Removendo colunas que não serão usadas como features\n",
        "features_to_drop = ['anomes', 'num_cpf_cnpj', 'status_momento_empresa']\n",
        "X = df.drop(columns=features_to_drop)\n",
        "y = df['status_momento_empresa']\n",
        "\n",
        "# Seleciona as features numéricas e categóricas com base no tipo de dado\n",
        "numeric_features = X.select_dtypes(include=[np.number]).columns.tolist()\n",
        "categorical_features = X.select_dtypes(include=['category']).columns.tolist()\n",
        "\n",
        "print(\"Numeric features:\", numeric_features)\n",
        "print(\"Categorical features:\", categorical_features)\n",
        "\n",
        "# Criação dos pipelines para pré-processamento\n",
        "numeric_transformer = Pipeline(steps=[\n",
        "    ('scaler', StandardScaler())\n",
        "])\n",
        "categorical_transformer = Pipeline(steps=[\n",
        "    ('onehot', OneHotEncoder(handle_unknown='ignore'))\n",
        "])\n",
        "preprocessor = ColumnTransformer(transformers=[\n",
        "    ('num', numeric_transformer, numeric_features),\n",
        "    ('cat', categorical_transformer, categorical_features)\n",
        "])\n",
        "\n",
        "# Criação do pipeline final com RandomForestClassifier\n",
        "pipeline = Pipeline(steps=[\n",
        "    ('preprocessor', preprocessor),\n",
        "    ('classifier', RandomForestClassifier(random_state=42))\n",
        "])\n",
        "\n",
        "# Split treino/teste: 80% treino e 20% teste\n",
        "X_train, X_test, y_train, y_test = train_test_split(\n",
        "    X, y, test_size=0.2, stratify=y, random_state=42\n",
        ")\n",
        "\n",
        "# Ajusta o modelo no conjunto de treino\n",
        "pipeline.fit(X_train, y_train)\n",
        "\n",
        "# Avalia no conjunto de teste\n",
        "y_pred = pipeline.predict(X_test)\n",
        "accuracy = accuracy_score(y_test, y_pred)\n",
        "print(\"Test accuracy:\", accuracy)\n",
        "\n",
        "# Extração dos nomes das features transformadas:\n",
        "# 1. As features numéricas mantêm seus nomes.\n",
        "# 2. As categóricas são transformadas pelo OneHotEncoder.\n",
        "onehot = pipeline.named_steps['preprocessor'].named_transformers_['cat']\n",
        "cat_feature_names = list(onehot.get_feature_names_out(categorical_features))\n",
        "all_feature_names = numeric_features + cat_feature_names"
      ],
      "metadata": {
        "colab": {
          "base_uri": "https://localhost:8080/"
        },
        "id": "3N6UCA91roGX",
        "outputId": "3e957eb6-737c-4c9c-cd6e-fe8ace7e298f"
      },
      "execution_count": null,
      "outputs": [
        {
          "output_type": "stream",
          "name": "stdout",
          "text": [
            "Numeric features: ['vol_cash_in_total_m0_3m', 'vol_cash_in_total_m3_3m', 'vol_cg_m0_3m', 'vol_cg_m3_3m', 'vol_lis_m0_3m', 'vol_lis_m3_3m', 'vol_repasse_m0_3m', 'vol_repasse_m3_3m', 'vol_giro_m0_3m', 'vol_giro_m3_3m', 'vol_reneg_m0_3m', 'vol_reneg_m3_3m', 'vol_total_bacen_m0_3m', 'vol_total_bacen_m3_3m', 'faturamento_anual_m0_3m', 'faturamento_anual_m3_3m', 'vol_vencido_bacen_m0_3m', 'vol_vencido_bacen_m3_3m', 'tempo_de_vida_meses', 'flag_recem_fundado', 'flag_inapto_suspenso_baixado', 'flag_inativo']\n",
            "Categorical features: ['segmento', 'personas', 'status_gs_m0_3m', 'status_gs_m3_3m']\n"
          ]
        }
      ]
    },
    {
      "cell_type": "code",
      "source": [
        "import matplotlib.pyplot as plt\n",
        "import seaborn as sns\n",
        "\n",
        "# Extração das feature importances do RandomForestClassifier\n",
        "importances = pipeline.named_steps['classifier'].feature_importances_\n",
        "feature_importance_df = pd.DataFrame({\n",
        "    'feature': all_feature_names,\n",
        "    'importance': importances\n",
        "}).sort_values(by='importance', ascending=False)\n",
        "\n",
        "# print(\"Feature Importances:\")\n",
        "# print(feature_importance_df)\n",
        "\n",
        "# Configura o estilo do Seaborn\n",
        "sns.set(style=\"whitegrid\")\n",
        "\n",
        "# Cria o gráfico de barras horizontais\n",
        "plt.figure(figsize=(12, 8))\n",
        "sns.barplot(x=\"importance\", y=\"feature\", data=feature_importance_df, palette=\"viridis\")\n",
        "plt.title(\"Feature Importances\", fontsize=16)\n",
        "plt.xlabel(\"Importance\", fontsize=14)\n",
        "plt.ylabel(\"Feature\", fontsize=14)\n",
        "plt.tight_layout()\n",
        "plt.show();"
      ],
      "metadata": {
        "id": "bsxxor49eJo9"
      },
      "execution_count": null,
      "outputs": []
    },
    {
      "cell_type": "markdown",
      "source": [
        "## 07. \"Validação\" do Classificador Analítico"
      ],
      "metadata": {
        "id": "-TXBYRvrt_dy"
      }
    },
    {
      "cell_type": "markdown",
      "source": [
        "To Do:\n",
        "\n",
        "* Gráfico por segmento, de todas as personas e quantidade de CNPJs por classe\n",
        "* Quantos CNPJs nós falamos que estão crescendo e inativaram/entraram em pendência\n",
        "* Quantos CNPJs nós falamos que estão crescendo e passaram a ser classificados  com declinio MoM (202412 e 202411): M0 (3M) vs M3 (3M)\n",
        "* Quantos CNPJs nós falamos que estão estável e inativaram/entraram em pendência\n",
        "* Quantos CNPJs nós falamos que estão estável e passaram a ser classificados  com declinio MoM (202412 e 202411): M0 (3M) vs M3 (3M)\n",
        "* Quantos CNPJs nós falamos que estão caindo e inativaram/entraram em pendência\n",
        "* Quantos CNPJs nós falamos que estão caindo e passaram a ser classificados  com crescimento MoM (202412 e 202411): M0 (3M) vs M3 (3M)"
      ],
      "metadata": {
        "id": "8bzpxiAysFME"
      }
    }
  ]
}